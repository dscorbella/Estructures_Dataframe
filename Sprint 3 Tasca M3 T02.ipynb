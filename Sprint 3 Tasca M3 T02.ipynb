{
 "cells": [
  {
   "cell_type": "markdown",
   "id": "e8e639a3",
   "metadata": {},
   "source": [
    "# Sprint 3 Tasca M3 T02\n",
    "## Exercici 1\n",
    "**Descarrega el data set Airlines Delay: Airline on-time statistics and delay causes i carrega’l a un Pandas Dataframe. Explora les dades que conté, explica breument quines variables hi ha i queda’t únicament amb les columnes que consideris rellevants. Justifica la teva elecció.**"
   ]
  },
  {
   "cell_type": "code",
   "execution_count": 1,
   "id": "7373fab1",
   "metadata": {
    "ExecuteTime": {
     "end_time": "2023-07-14T11:25:05.731197Z",
     "start_time": "2023-07-14T11:25:05.093220Z"
    }
   },
   "outputs": [],
   "source": [
    "import pandas as pd"
   ]
  },
  {
   "cell_type": "code",
   "execution_count": 2,
   "id": "15ebffb6",
   "metadata": {
    "ExecuteTime": {
     "end_time": "2023-07-14T11:25:13.179521Z",
     "start_time": "2023-07-14T11:25:07.141964Z"
    }
   },
   "outputs": [],
   "source": [
    "df = pd.read_csv('data/DelayedFlights.csv', encoding='utf-8')\n",
    "pd.set_option('display.max_columns', None)\n",
    "pd.set_option('display.expand_frame_repr', False)"
   ]
  },
  {
   "cell_type": "code",
   "execution_count": 3,
   "id": "c3ee4879",
   "metadata": {
    "ExecuteTime": {
     "end_time": "2023-07-14T11:25:13.683814Z",
     "start_time": "2023-07-14T11:25:13.636939Z"
    }
   },
   "outputs": [
    {
     "data": {
      "text/html": [
       "<div>\n",
       "<style scoped>\n",
       "    .dataframe tbody tr th:only-of-type {\n",
       "        vertical-align: middle;\n",
       "    }\n",
       "\n",
       "    .dataframe tbody tr th {\n",
       "        vertical-align: top;\n",
       "    }\n",
       "\n",
       "    .dataframe thead th {\n",
       "        text-align: right;\n",
       "    }\n",
       "</style>\n",
       "<table border=\"1\" class=\"dataframe\">\n",
       "  <thead>\n",
       "    <tr style=\"text-align: right;\">\n",
       "      <th></th>\n",
       "      <th>Unnamed: 0</th>\n",
       "      <th>Year</th>\n",
       "      <th>Month</th>\n",
       "      <th>DayofMonth</th>\n",
       "      <th>DayOfWeek</th>\n",
       "      <th>DepTime</th>\n",
       "      <th>CRSDepTime</th>\n",
       "      <th>ArrTime</th>\n",
       "      <th>CRSArrTime</th>\n",
       "      <th>UniqueCarrier</th>\n",
       "      <th>FlightNum</th>\n",
       "      <th>TailNum</th>\n",
       "      <th>ActualElapsedTime</th>\n",
       "      <th>CRSElapsedTime</th>\n",
       "      <th>AirTime</th>\n",
       "      <th>ArrDelay</th>\n",
       "      <th>DepDelay</th>\n",
       "      <th>Origin</th>\n",
       "      <th>Dest</th>\n",
       "      <th>Distance</th>\n",
       "      <th>TaxiIn</th>\n",
       "      <th>TaxiOut</th>\n",
       "      <th>Cancelled</th>\n",
       "      <th>CancellationCode</th>\n",
       "      <th>Diverted</th>\n",
       "      <th>CarrierDelay</th>\n",
       "      <th>WeatherDelay</th>\n",
       "      <th>NASDelay</th>\n",
       "      <th>SecurityDelay</th>\n",
       "      <th>LateAircraftDelay</th>\n",
       "    </tr>\n",
       "  </thead>\n",
       "  <tbody>\n",
       "    <tr>\n",
       "      <th>0</th>\n",
       "      <td>0</td>\n",
       "      <td>2008</td>\n",
       "      <td>1</td>\n",
       "      <td>3</td>\n",
       "      <td>4</td>\n",
       "      <td>2003.0</td>\n",
       "      <td>1955</td>\n",
       "      <td>2211.0</td>\n",
       "      <td>2225</td>\n",
       "      <td>WN</td>\n",
       "      <td>335</td>\n",
       "      <td>N712SW</td>\n",
       "      <td>128.0</td>\n",
       "      <td>150.0</td>\n",
       "      <td>116.0</td>\n",
       "      <td>-14.0</td>\n",
       "      <td>8.0</td>\n",
       "      <td>IAD</td>\n",
       "      <td>TPA</td>\n",
       "      <td>810</td>\n",
       "      <td>4.0</td>\n",
       "      <td>8.0</td>\n",
       "      <td>0</td>\n",
       "      <td>N</td>\n",
       "      <td>0</td>\n",
       "      <td>NaN</td>\n",
       "      <td>NaN</td>\n",
       "      <td>NaN</td>\n",
       "      <td>NaN</td>\n",
       "      <td>NaN</td>\n",
       "    </tr>\n",
       "    <tr>\n",
       "      <th>1</th>\n",
       "      <td>1</td>\n",
       "      <td>2008</td>\n",
       "      <td>1</td>\n",
       "      <td>3</td>\n",
       "      <td>4</td>\n",
       "      <td>754.0</td>\n",
       "      <td>735</td>\n",
       "      <td>1002.0</td>\n",
       "      <td>1000</td>\n",
       "      <td>WN</td>\n",
       "      <td>3231</td>\n",
       "      <td>N772SW</td>\n",
       "      <td>128.0</td>\n",
       "      <td>145.0</td>\n",
       "      <td>113.0</td>\n",
       "      <td>2.0</td>\n",
       "      <td>19.0</td>\n",
       "      <td>IAD</td>\n",
       "      <td>TPA</td>\n",
       "      <td>810</td>\n",
       "      <td>5.0</td>\n",
       "      <td>10.0</td>\n",
       "      <td>0</td>\n",
       "      <td>N</td>\n",
       "      <td>0</td>\n",
       "      <td>NaN</td>\n",
       "      <td>NaN</td>\n",
       "      <td>NaN</td>\n",
       "      <td>NaN</td>\n",
       "      <td>NaN</td>\n",
       "    </tr>\n",
       "    <tr>\n",
       "      <th>2</th>\n",
       "      <td>2</td>\n",
       "      <td>2008</td>\n",
       "      <td>1</td>\n",
       "      <td>3</td>\n",
       "      <td>4</td>\n",
       "      <td>628.0</td>\n",
       "      <td>620</td>\n",
       "      <td>804.0</td>\n",
       "      <td>750</td>\n",
       "      <td>WN</td>\n",
       "      <td>448</td>\n",
       "      <td>N428WN</td>\n",
       "      <td>96.0</td>\n",
       "      <td>90.0</td>\n",
       "      <td>76.0</td>\n",
       "      <td>14.0</td>\n",
       "      <td>8.0</td>\n",
       "      <td>IND</td>\n",
       "      <td>BWI</td>\n",
       "      <td>515</td>\n",
       "      <td>3.0</td>\n",
       "      <td>17.0</td>\n",
       "      <td>0</td>\n",
       "      <td>N</td>\n",
       "      <td>0</td>\n",
       "      <td>NaN</td>\n",
       "      <td>NaN</td>\n",
       "      <td>NaN</td>\n",
       "      <td>NaN</td>\n",
       "      <td>NaN</td>\n",
       "    </tr>\n",
       "    <tr>\n",
       "      <th>3</th>\n",
       "      <td>4</td>\n",
       "      <td>2008</td>\n",
       "      <td>1</td>\n",
       "      <td>3</td>\n",
       "      <td>4</td>\n",
       "      <td>1829.0</td>\n",
       "      <td>1755</td>\n",
       "      <td>1959.0</td>\n",
       "      <td>1925</td>\n",
       "      <td>WN</td>\n",
       "      <td>3920</td>\n",
       "      <td>N464WN</td>\n",
       "      <td>90.0</td>\n",
       "      <td>90.0</td>\n",
       "      <td>77.0</td>\n",
       "      <td>34.0</td>\n",
       "      <td>34.0</td>\n",
       "      <td>IND</td>\n",
       "      <td>BWI</td>\n",
       "      <td>515</td>\n",
       "      <td>3.0</td>\n",
       "      <td>10.0</td>\n",
       "      <td>0</td>\n",
       "      <td>N</td>\n",
       "      <td>0</td>\n",
       "      <td>2.0</td>\n",
       "      <td>0.0</td>\n",
       "      <td>0.0</td>\n",
       "      <td>0.0</td>\n",
       "      <td>32.0</td>\n",
       "    </tr>\n",
       "    <tr>\n",
       "      <th>4</th>\n",
       "      <td>5</td>\n",
       "      <td>2008</td>\n",
       "      <td>1</td>\n",
       "      <td>3</td>\n",
       "      <td>4</td>\n",
       "      <td>1940.0</td>\n",
       "      <td>1915</td>\n",
       "      <td>2121.0</td>\n",
       "      <td>2110</td>\n",
       "      <td>WN</td>\n",
       "      <td>378</td>\n",
       "      <td>N726SW</td>\n",
       "      <td>101.0</td>\n",
       "      <td>115.0</td>\n",
       "      <td>87.0</td>\n",
       "      <td>11.0</td>\n",
       "      <td>25.0</td>\n",
       "      <td>IND</td>\n",
       "      <td>JAX</td>\n",
       "      <td>688</td>\n",
       "      <td>4.0</td>\n",
       "      <td>10.0</td>\n",
       "      <td>0</td>\n",
       "      <td>N</td>\n",
       "      <td>0</td>\n",
       "      <td>NaN</td>\n",
       "      <td>NaN</td>\n",
       "      <td>NaN</td>\n",
       "      <td>NaN</td>\n",
       "      <td>NaN</td>\n",
       "    </tr>\n",
       "  </tbody>\n",
       "</table>\n",
       "</div>"
      ],
      "text/plain": [
       "   Unnamed: 0  Year  Month  DayofMonth  DayOfWeek  DepTime  CRSDepTime  ArrTime  CRSArrTime UniqueCarrier  FlightNum TailNum  ActualElapsedTime  CRSElapsedTime  AirTime  ArrDelay  DepDelay Origin Dest  Distance  TaxiIn  TaxiOut  Cancelled CancellationCode  Diverted  CarrierDelay  WeatherDelay  NASDelay  SecurityDelay  LateAircraftDelay\n",
       "0           0  2008      1           3          4   2003.0        1955   2211.0        2225            WN        335  N712SW              128.0           150.0    116.0     -14.0       8.0    IAD  TPA       810     4.0      8.0          0                N         0           NaN           NaN       NaN            NaN                NaN\n",
       "1           1  2008      1           3          4    754.0         735   1002.0        1000            WN       3231  N772SW              128.0           145.0    113.0       2.0      19.0    IAD  TPA       810     5.0     10.0          0                N         0           NaN           NaN       NaN            NaN                NaN\n",
       "2           2  2008      1           3          4    628.0         620    804.0         750            WN        448  N428WN               96.0            90.0     76.0      14.0       8.0    IND  BWI       515     3.0     17.0          0                N         0           NaN           NaN       NaN            NaN                NaN\n",
       "3           4  2008      1           3          4   1829.0        1755   1959.0        1925            WN       3920  N464WN               90.0            90.0     77.0      34.0      34.0    IND  BWI       515     3.0     10.0          0                N         0           2.0           0.0       0.0            0.0               32.0\n",
       "4           5  2008      1           3          4   1940.0        1915   2121.0        2110            WN        378  N726SW              101.0           115.0     87.0      11.0      25.0    IND  JAX       688     4.0     10.0          0                N         0           NaN           NaN       NaN            NaN                NaN"
      ]
     },
     "execution_count": 3,
     "metadata": {},
     "output_type": "execute_result"
    }
   ],
   "source": [
    "df.head()"
   ]
  },
  {
   "cell_type": "code",
   "execution_count": 4,
   "id": "a2700f39",
   "metadata": {
    "ExecuteTime": {
     "end_time": "2023-07-14T11:25:15.951107Z",
     "start_time": "2023-07-14T11:25:15.941135Z"
    }
   },
   "outputs": [
    {
     "name": "stdout",
     "output_type": "stream",
     "text": [
      "<class 'pandas.core.frame.DataFrame'>\n",
      "RangeIndex: 1936758 entries, 0 to 1936757\n",
      "Data columns (total 30 columns):\n",
      " #   Column             Dtype  \n",
      "---  ------             -----  \n",
      " 0   Unnamed: 0         int64  \n",
      " 1   Year               int64  \n",
      " 2   Month              int64  \n",
      " 3   DayofMonth         int64  \n",
      " 4   DayOfWeek          int64  \n",
      " 5   DepTime            float64\n",
      " 6   CRSDepTime         int64  \n",
      " 7   ArrTime            float64\n",
      " 8   CRSArrTime         int64  \n",
      " 9   UniqueCarrier      object \n",
      " 10  FlightNum          int64  \n",
      " 11  TailNum            object \n",
      " 12  ActualElapsedTime  float64\n",
      " 13  CRSElapsedTime     float64\n",
      " 14  AirTime            float64\n",
      " 15  ArrDelay           float64\n",
      " 16  DepDelay           float64\n",
      " 17  Origin             object \n",
      " 18  Dest               object \n",
      " 19  Distance           int64  \n",
      " 20  TaxiIn             float64\n",
      " 21  TaxiOut            float64\n",
      " 22  Cancelled          int64  \n",
      " 23  CancellationCode   object \n",
      " 24  Diverted           int64  \n",
      " 25  CarrierDelay       float64\n",
      " 26  WeatherDelay       float64\n",
      " 27  NASDelay           float64\n",
      " 28  SecurityDelay      float64\n",
      " 29  LateAircraftDelay  float64\n",
      "dtypes: float64(14), int64(11), object(5)\n",
      "memory usage: 443.3+ MB\n"
     ]
    }
   ],
   "source": [
    "df.info()"
   ]
  },
  {
   "cell_type": "markdown",
   "id": "e033054f",
   "metadata": {},
   "source": [
    "**Unnamed: 0**: Una columna con un índice numérico de los registros.\n",
    "\n",
    "**Year**: El año de la fecha del vuelo.\n",
    "\n",
    "**Month**: El mes de la fecha del vuelo.\n",
    "\n",
    "**DayofMonth**: El día del mes de la fecha del vuelo.\n",
    "\n",
    "**DayOfWeek**: El día de la semana de la fecha del vuelo, donde 1 es lunes y 7 es domingo.\n",
    "\n",
    "**DepTime**: La hora de salida real del vuelo.\n",
    "\n",
    "**CRSDepTime**: La hora de salida programada del vuelo.\n",
    "\n",
    "**ArrTime**: La hora de llegada real del vuelo.\n",
    "\n",
    "**CRSArrTime**: La hora de llegada programada del vuelo.\n",
    "\n",
    "**UniqueCarrier**: El código de identificación único de la aerolínea.\n",
    "\n",
    "**FlightNum**: El número de vuelo.\n",
    "\n",
    "**TailNum**: El número de cola de la aeronave.\n",
    "\n",
    "**ActualElapsedTime**: Duración real del vuelo en minutos.\n",
    "\n",
    "**CRSElapsedTime**: Duración del vuelo programado en minutos.\n",
    "\n",
    "**AirTime**: El tiempo de vuelo en el aire en minutos.\n",
    "\n",
    "**ArrDelay**: El retraso en la llegada en minutos.\n",
    "\n",
    "**DepDelay**: El retraso en la salida en minutos.\n",
    "\n",
    "**Origin**: El aeropuerto de origen del vuelo.\n",
    "\n",
    "**Dest**: El aeropuerto de destino del vuelo.\n",
    "\n",
    "**Distance**: La distancia del vuelo en millas.\n",
    "\n",
    "**TaxiIn**: El tiempo de rodaje en la llegada en minutos.\n",
    "\n",
    "**TaxiOut**: El tiempo de rodaje en la salida en minutos.\n",
    "\n",
    "**Cancelled**: Indica si el vuelo fue cancelado (1) o no (0).\n",
    "\n",
    "**CancellationCode**: El código de cancelación si el vuelo fue cancelado.\n",
    "\n",
    "**Diverted**: Indica si el vuelo fue desviado a otro aeropuerto (1) o no (0).\n",
    "\n",
    "**CarrierDelay**: El tiempo de retraso debido a la aerolínea en minutos.\n",
    "\n",
    "**WeatherDelay**: El tiempo de retraso debido al clima en minutos.\n",
    "\n",
    "**NASDelay**: El tiempo de retraso debido al Sistema Nacional de Aviación en minutos.\n",
    "\n",
    "**SecurityDelay**: El tiempo de retraso debido a problemas de seguridad en minutos.\n",
    "\n",
    "**LateAircraftDelay**: El tiempo de retraso debido a problemas con el avión en minutos."
   ]
  },
  {
   "cell_type": "markdown",
   "id": "a8da561c",
   "metadata": {},
   "source": [
    "Inicialmente, considero todas las columnas relevantes. Probablemente no las mantendría todas en un solo dataframe, pero en principio encuentro que todas son interesantes para su uso, ya que podemos obtener datos importantes de cada una. La única excepción a primera vista sería la columna 'Unnamed: 0', ya que un índice no será útil para el análisis.\n",
    "Tengo la duda de si la columna 'Year' tiene valores de más de un año o si todos son del mismo año. Procedamos a mirarlo."
   ]
  },
  {
   "cell_type": "code",
   "execution_count": 5,
   "id": "5117a81c",
   "metadata": {
    "ExecuteTime": {
     "end_time": "2023-07-14T11:25:19.020671Z",
     "start_time": "2023-07-14T11:25:18.987761Z"
    },
    "code_folding": []
   },
   "outputs": [
    {
     "data": {
      "text/plain": [
       "2008    1936758\n",
       "Name: Year, dtype: int64"
      ]
     },
     "execution_count": 5,
     "metadata": {},
     "output_type": "execute_result"
    }
   ],
   "source": [
    "df.Year.value_counts()"
   ]
  },
  {
   "cell_type": "markdown",
   "id": "d82cb911",
   "metadata": {},
   "source": [
    "\n",
    "Dado que todos los registros son de 2008, podemos proceder a eliminar la columna, ya que no aporta información relevante.\n",
    "Antes de continuar, verifiquemos la presencia de valores nulos para identificar columnas repletas de registros corruptos o inexistentes. De esta manera, poderlas eliminar del dataframe y evitar llevar información no deseada."
   ]
  },
  {
   "cell_type": "code",
   "execution_count": 6,
   "id": "14472708",
   "metadata": {
    "ExecuteTime": {
     "end_time": "2023-07-14T11:25:24.602850Z",
     "start_time": "2023-07-14T11:25:23.116905Z"
    }
   },
   "outputs": [
    {
     "name": "stdout",
     "output_type": "stream",
     "text": [
      "Unnamed: 0                0\n",
      "Year                      0\n",
      "Month                     0\n",
      "DayofMonth                0\n",
      "DayOfWeek                 0\n",
      "DepTime                   0\n",
      "CRSDepTime                0\n",
      "ArrTime                7110\n",
      "CRSArrTime                0\n",
      "UniqueCarrier             0\n",
      "FlightNum                 0\n",
      "TailNum                   5\n",
      "ActualElapsedTime      8387\n",
      "CRSElapsedTime          198\n",
      "AirTime                8387\n",
      "ArrDelay               8387\n",
      "DepDelay                  0\n",
      "Origin                    0\n",
      "Dest                      0\n",
      "Distance                  0\n",
      "TaxiIn                 7110\n",
      "TaxiOut                 455\n",
      "Cancelled                 0\n",
      "CancellationCode          0\n",
      "Diverted                  0\n",
      "CarrierDelay         689270\n",
      "WeatherDelay         689270\n",
      "NASDelay             689270\n",
      "SecurityDelay        689270\n",
      "LateAircraftDelay    689270\n",
      "dtype: int64\n"
     ]
    }
   ],
   "source": [
    "valores_nulos = df.isnull().sum()\n",
    "\n",
    "print(valores_nulos)"
   ]
  },
  {
   "cell_type": "markdown",
   "id": "82c23dd9",
   "metadata": {},
   "source": [
    "Tras analizar los resultados, realizaremos un breve estudio de las últimas 5 columnas, ya que aproximadamente uno de cada tres registros contiene un valor nulo. Es posible que, al estar relacionadas entre sí, durante la toma de registros se haya registrado el retraso pertinente y se hayan dejado vacías las demás columnas. Esto se podría solucionar fácilmente convirtiendo los valores 'NaN' en '0'."
   ]
  },
  {
   "cell_type": "code",
   "execution_count": 7,
   "id": "ad0ab505",
   "metadata": {
    "ExecuteTime": {
     "end_time": "2023-07-14T11:25:26.709285Z",
     "start_time": "2023-07-14T11:25:25.972638Z"
    }
   },
   "outputs": [
    {
     "name": "stdout",
     "output_type": "stream",
     "text": [
      "<class 'pandas.core.frame.DataFrame'>\n",
      "Int64Index: 689270 entries, 0 to 1936757\n",
      "Data columns (total 30 columns):\n",
      " #   Column             Non-Null Count   Dtype  \n",
      "---  ------             --------------   -----  \n",
      " 0   Unnamed: 0         689270 non-null  int64  \n",
      " 1   Year               689270 non-null  int64  \n",
      " 2   Month              689270 non-null  int64  \n",
      " 3   DayofMonth         689270 non-null  int64  \n",
      " 4   DayOfWeek          689270 non-null  int64  \n",
      " 5   DepTime            689270 non-null  float64\n",
      " 6   CRSDepTime         689270 non-null  int64  \n",
      " 7   ArrTime            682160 non-null  float64\n",
      " 8   CRSArrTime         689270 non-null  int64  \n",
      " 9   UniqueCarrier      689270 non-null  object \n",
      " 10  FlightNum          689270 non-null  int64  \n",
      " 11  TailNum            689267 non-null  object \n",
      " 12  ActualElapsedTime  680883 non-null  float64\n",
      " 13  CRSElapsedTime     689072 non-null  float64\n",
      " 14  AirTime            680883 non-null  float64\n",
      " 15  ArrDelay           680883 non-null  float64\n",
      " 16  DepDelay           689270 non-null  float64\n",
      " 17  Origin             689270 non-null  object \n",
      " 18  Dest               689270 non-null  object \n",
      " 19  Distance           689270 non-null  int64  \n",
      " 20  TaxiIn             682160 non-null  float64\n",
      " 21  TaxiOut            688815 non-null  float64\n",
      " 22  Cancelled          689270 non-null  int64  \n",
      " 23  CancellationCode   689270 non-null  object \n",
      " 24  Diverted           689270 non-null  int64  \n",
      " 25  CarrierDelay       0 non-null       float64\n",
      " 26  WeatherDelay       0 non-null       float64\n",
      " 27  NASDelay           0 non-null       float64\n",
      " 28  SecurityDelay      0 non-null       float64\n",
      " 29  LateAircraftDelay  0 non-null       float64\n",
      "dtypes: float64(14), int64(11), object(5)\n",
      "memory usage: 163.0+ MB\n"
     ]
    }
   ],
   "source": [
    "columnas_busqueda = ['CarrierDelay', 'WeatherDelay', 'NASDelay', 'SecurityDelay','SecurityDelay', 'LateAircraftDelay' ]\n",
    "\n",
    "registros_filtrados = df[df[columnas_busqueda].isnull().any(axis=1)]\n",
    "\n",
    "registros_filtrados.info()"
   ]
  },
  {
   "cell_type": "markdown",
   "id": "ab491a38",
   "metadata": {},
   "source": [
    "Después de realizar esta comprobación, observamos que los 689,270 registros no contienen ningún valor en esas 5 columnas. La única explicación que se me ocurre es que estos registros correspondan a vuelos sin ningún retraso, vuelos cancelados o vuelos redirigidos, lo cual podría justificar por qué esas columnas no están completadas."
   ]
  },
  {
   "cell_type": "code",
   "execution_count": 8,
   "id": "4e73d362",
   "metadata": {
    "ExecuteTime": {
     "end_time": "2023-07-14T11:25:28.378439Z",
     "start_time": "2023-07-14T11:25:28.284942Z"
    }
   },
   "outputs": [
    {
     "data": {
      "text/plain": [
       "204956"
      ]
     },
     "execution_count": 8,
     "metadata": {},
     "output_type": "execute_result"
    }
   ],
   "source": [
    "registros_con_arrdelay_cero = df[df['ArrDelay'] <= 0]\n",
    "\n",
    "registros_con_arrdelay_cero.shape[0]"
   ]
  },
  {
   "cell_type": "code",
   "execution_count": 9,
   "id": "35c83c74",
   "metadata": {
    "ExecuteTime": {
     "end_time": "2023-07-14T11:25:29.269237Z",
     "start_time": "2023-07-14T11:25:29.252283Z"
    }
   },
   "outputs": [
    {
     "data": {
      "text/plain": [
       "0    688637\n",
       "1       633\n",
       "Name: Cancelled, dtype: int64"
      ]
     },
     "execution_count": 9,
     "metadata": {},
     "output_type": "execute_result"
    }
   ],
   "source": [
    "registros_filtrados.Cancelled.value_counts()"
   ]
  },
  {
   "cell_type": "code",
   "execution_count": 10,
   "id": "2d6f36aa",
   "metadata": {
    "ExecuteTime": {
     "end_time": "2023-07-14T11:25:30.211615Z",
     "start_time": "2023-07-14T11:25:30.195657Z"
    }
   },
   "outputs": [
    {
     "data": {
      "text/plain": [
       "0    681516\n",
       "1      7754\n",
       "Name: Diverted, dtype: int64"
      ]
     },
     "execution_count": 10,
     "metadata": {},
     "output_type": "execute_result"
    }
   ],
   "source": [
    "registros_filtrados.Diverted.value_counts()"
   ]
  },
  {
   "cell_type": "markdown",
   "id": "130f68b4",
   "metadata": {},
   "source": [
    "Después de analizar los datos, se observa que la suma de los casos posibles alcanza poco más de 213,000 de los casi 690,000 registros disponibles. Esto implica que todavía hay alrededor de 500,000 registros restantes de los casi 2,000,000 registros originales. Aproximadamente 1 de cada 4 registros no tiene completadas estas columnas sin una razón aparente.\n",
    "La única idea mínimamente válida para completar estos datos habría sido establecer en cero los registros de vuelos sin retraso, cancelados o desviados, y en el resto, dividir por 5 el valor de 'ArrDelay' y asignar el mismo valor a todos, suponiendo que la responsabilidad se reparte por igual. Sin embargo, a pesar de esta posible solución, prefiero eliminar estas columnas para los siguientes ejercicios.  Con esta información en mente, he decidido eliminar estas columnas del dataframe para evitar trabajar con datos incompletos que podrían distorsionar los cálculos de medias y análisis subsiguientes. En caso de necesitar trabajar con ellas en el futuro, se puede crear un nuevo dataframe solo con los registros válidos.\n",
    "En base a este estudio, se observa que la suma de vuelos cancelados y desviados es igual a 8387, que es el número de valores nulos presentes en las variables 'AirTime', 'ArrDelay' y 'ActualElapsedTime'. Es comprensible que no se disponga de datos para estos vuelos, lo cual plantea la opción de separar estos datos en otro dataframe y eliminarlos del actual para realizar un análisis estadístico más preciso sobre los retrasos en los vuelos. Para lograr esto, simplemente debemos confirmar que esos 8387 valores nulos corresponden exactamente a los vuelos cancelados y desviados, y no son producto de la casualidad."
   ]
  },
  {
   "cell_type": "code",
   "execution_count": 11,
   "id": "2cf0e5c5",
   "metadata": {
    "ExecuteTime": {
     "end_time": "2023-07-14T11:25:32.251932Z",
     "start_time": "2023-07-14T11:25:32.188102Z"
    }
   },
   "outputs": [],
   "source": [
    "columna_busqueda = ['AirTime', 'ArrDelay', 'ActualElapsedTime']\n",
    "\n",
    "registro_filtrado = df[df[columna_busqueda].isnull().any(axis=1)]"
   ]
  },
  {
   "cell_type": "code",
   "execution_count": 12,
   "id": "1bf3f5af",
   "metadata": {
    "ExecuteTime": {
     "end_time": "2023-07-14T11:25:33.077774Z",
     "start_time": "2023-07-14T11:25:33.067801Z"
    }
   },
   "outputs": [
    {
     "data": {
      "text/plain": [
       "0    7754\n",
       "1     633\n",
       "Name: Cancelled, dtype: int64"
      ]
     },
     "execution_count": 12,
     "metadata": {},
     "output_type": "execute_result"
    }
   ],
   "source": [
    "registro_filtrado.Cancelled.value_counts()"
   ]
  },
  {
   "cell_type": "code",
   "execution_count": 13,
   "id": "039de6e8",
   "metadata": {
    "ExecuteTime": {
     "end_time": "2023-07-14T11:25:33.778768Z",
     "start_time": "2023-07-14T11:25:33.763808Z"
    }
   },
   "outputs": [
    {
     "data": {
      "text/plain": [
       "1    7754\n",
       "0     633\n",
       "Name: Diverted, dtype: int64"
      ]
     },
     "execution_count": 13,
     "metadata": {},
     "output_type": "execute_result"
    }
   ],
   "source": [
    "registro_filtrado.Diverted.value_counts()"
   ]
  },
  {
   "cell_type": "markdown",
   "id": "c9bf1956",
   "metadata": {},
   "source": [
    "Efectivamente, todos los valores nulos en esas columnas corresponden a los vuelos cancelados y retrasados presentes en el dataframe. Por lo tanto, procederemos a eliminarlos de nuestros registros. Sin embargo, antes de hacerlo, por curiosidad y para obtener una medida estadística, podemos calcular el porcentaje que representan estos vuelos con respecto al total."
   ]
  },
  {
   "cell_type": "code",
   "execution_count": 14,
   "id": "1dc88aed",
   "metadata": {
    "ExecuteTime": {
     "end_time": "2023-07-14T11:25:35.928350Z",
     "start_time": "2023-07-14T11:25:35.893443Z"
    }
   },
   "outputs": [
    {
     "name": "stdout",
     "output_type": "stream",
     "text": [
      "Cancelled: 0.03%\n",
      "Diverted: 0.40%\n"
     ]
    }
   ],
   "source": [
    "total = len(df)\n",
    "\n",
    "cancelled = len(df[df['Cancelled'] == 1]) \n",
    "cancelled_percent = cancelled/total * 100\n",
    "\n",
    "diverted = len(df[df['Diverted'] == 1])\n",
    "diverted_percent = diverted/total * 100\n",
    "\n",
    "print(\"Cancelled: {:.2f}%\".format(cancelled_percent))\n",
    "print(\"Diverted: {:.2f}%\".format(diverted_percent))"
   ]
  },
  {
   "cell_type": "markdown",
   "id": "9e0f7fd2",
   "metadata": {},
   "source": [
    "Una vez vistas las estadisticas procedemos a crear un dataframe nuevo sin estos registros."
   ]
  },
  {
   "cell_type": "code",
   "execution_count": 15,
   "id": "ee273f1e",
   "metadata": {
    "ExecuteTime": {
     "end_time": "2023-07-14T11:25:39.399690Z",
     "start_time": "2023-07-14T11:25:37.661824Z"
    }
   },
   "outputs": [
    {
     "name": "stdout",
     "output_type": "stream",
     "text": [
      "Unnamed: 0                0\n",
      "Year                      0\n",
      "Month                     0\n",
      "DayofMonth                0\n",
      "DayOfWeek                 0\n",
      "DepTime                   0\n",
      "CRSDepTime                0\n",
      "ArrTime                   0\n",
      "CRSArrTime                0\n",
      "UniqueCarrier             0\n",
      "FlightNum                 0\n",
      "TailNum                   3\n",
      "ActualElapsedTime         0\n",
      "CRSElapsedTime            0\n",
      "AirTime                   0\n",
      "ArrDelay                  0\n",
      "DepDelay                  0\n",
      "Origin                    0\n",
      "Dest                      0\n",
      "Distance                  0\n",
      "TaxiIn                    0\n",
      "TaxiOut                   0\n",
      "Cancelled                 0\n",
      "CancellationCode          0\n",
      "Diverted                  0\n",
      "CarrierDelay         680883\n",
      "WeatherDelay         680883\n",
      "NASDelay             680883\n",
      "SecurityDelay        680883\n",
      "LateAircraftDelay    680883\n",
      "dtype: int64\n"
     ]
    }
   ],
   "source": [
    "df_limpio = df.dropna(subset=columna_busqueda)\n",
    "\n",
    "valores_nulos = df_limpio.isnull().sum()\n",
    "print(valores_nulos)"
   ]
  },
  {
   "cell_type": "markdown",
   "id": "db45685b",
   "metadata": {},
   "source": [
    "Después de llegar a este punto, solo nos quedan 3 valores nulos en la columna 'NailNum''. La verdad es que pensé que podía corresponder a un vuelo regular de línea y poner el número de cola del avión más utilizado, pero no es el caso :(\n",
    "A continuación, procederemos a eliminar las columnas mencionadas anteriormente: 'Cancelled', 'CancellationCode' y 'Diverted', ya que no las necesitaremos. Posteriormente, reduciremos aleatoriamente el conjunto de datos de casi dos millones de registros a 200,000, con la esperanza de que los valores nulos en la columna 'NailNum' queden excluidos :)"
   ]
  },
  {
   "cell_type": "code",
   "execution_count": 16,
   "id": "b88839eb",
   "metadata": {
    "ExecuteTime": {
     "end_time": "2023-07-14T11:25:45.005653Z",
     "start_time": "2023-07-14T11:25:44.773763Z"
    }
   },
   "outputs": [
    {
     "name": "stdout",
     "output_type": "stream",
     "text": [
      "<class 'pandas.core.frame.DataFrame'>\n",
      "Int64Index: 1928371 entries, 0 to 1936757\n",
      "Data columns (total 20 columns):\n",
      " #   Column             Dtype  \n",
      "---  ------             -----  \n",
      " 0   Month              int64  \n",
      " 1   DayofMonth         int64  \n",
      " 2   DayOfWeek          int64  \n",
      " 3   DepTime            float64\n",
      " 4   CRSDepTime         int64  \n",
      " 5   ArrTime            float64\n",
      " 6   CRSArrTime         int64  \n",
      " 7   UniqueCarrier      object \n",
      " 8   FlightNum          int64  \n",
      " 9   TailNum            object \n",
      " 10  ActualElapsedTime  float64\n",
      " 11  CRSElapsedTime     float64\n",
      " 12  AirTime            float64\n",
      " 13  ArrDelay           float64\n",
      " 14  DepDelay           float64\n",
      " 15  Origin             object \n",
      " 16  Dest               object \n",
      " 17  Distance           int64  \n",
      " 18  TaxiIn             float64\n",
      " 19  TaxiOut            float64\n",
      "dtypes: float64(9), int64(7), object(4)\n",
      "memory usage: 309.0+ MB\n"
     ]
    }
   ],
   "source": [
    "columnas_a_eliminar = ['Unnamed: 0', 'Year', 'CarrierDelay', 'WeatherDelay', 'NASDelay', 'SecurityDelay', 'LateAircraftDelay',  'Cancelled', 'CancellationCode', 'Diverted']\n",
    "df_limpio = df_limpio.drop(columns=columnas_a_eliminar)\n",
    "df_limpio.info()"
   ]
  },
  {
   "cell_type": "markdown",
   "id": "55eca4ed",
   "metadata": {},
   "source": [
    "Ahora es tiempo de mirar si existen duplicados y eliminarlos si los hubiera.\n"
   ]
  },
  {
   "cell_type": "code",
   "execution_count": 17,
   "id": "ab5d98fa",
   "metadata": {
    "ExecuteTime": {
     "end_time": "2023-07-14T11:25:51.142285Z",
     "start_time": "2023-07-14T11:25:48.155652Z"
    }
   },
   "outputs": [
    {
     "name": "stdout",
     "output_type": "stream",
     "text": [
      "2\n"
     ]
    }
   ],
   "source": [
    "duplicados = df_limpio.duplicated()\n",
    "print(duplicados.sum())\n"
   ]
  },
  {
   "cell_type": "code",
   "execution_count": 18,
   "id": "4aee76f8",
   "metadata": {
    "ExecuteTime": {
     "end_time": "2023-07-14T11:25:54.747050Z",
     "start_time": "2023-07-14T11:25:51.508433Z"
    }
   },
   "outputs": [],
   "source": [
    "df_limpio = df_limpio.drop_duplicates()"
   ]
  },
  {
   "cell_type": "markdown",
   "id": "e7f23ca0",
   "metadata": {},
   "source": [
    "A continuación reduciremos el dataset a 200000 registros de manera aleatoria."
   ]
  },
  {
   "cell_type": "code",
   "execution_count": 19,
   "id": "11aa7dde",
   "metadata": {
    "ExecuteTime": {
     "end_time": "2023-07-14T11:25:57.355191Z",
     "start_time": "2023-07-14T11:25:57.087070Z"
    }
   },
   "outputs": [
    {
     "data": {
      "text/html": [
       "<div>\n",
       "<style scoped>\n",
       "    .dataframe tbody tr th:only-of-type {\n",
       "        vertical-align: middle;\n",
       "    }\n",
       "\n",
       "    .dataframe tbody tr th {\n",
       "        vertical-align: top;\n",
       "    }\n",
       "\n",
       "    .dataframe thead th {\n",
       "        text-align: right;\n",
       "    }\n",
       "</style>\n",
       "<table border=\"1\" class=\"dataframe\">\n",
       "  <thead>\n",
       "    <tr style=\"text-align: right;\">\n",
       "      <th></th>\n",
       "      <th>Month</th>\n",
       "      <th>DayofMonth</th>\n",
       "      <th>DayOfWeek</th>\n",
       "      <th>DepTime</th>\n",
       "      <th>CRSDepTime</th>\n",
       "      <th>ArrTime</th>\n",
       "      <th>CRSArrTime</th>\n",
       "      <th>UniqueCarrier</th>\n",
       "      <th>FlightNum</th>\n",
       "      <th>TailNum</th>\n",
       "      <th>ActualElapsedTime</th>\n",
       "      <th>CRSElapsedTime</th>\n",
       "      <th>AirTime</th>\n",
       "      <th>ArrDelay</th>\n",
       "      <th>DepDelay</th>\n",
       "      <th>Origin</th>\n",
       "      <th>Dest</th>\n",
       "      <th>Distance</th>\n",
       "      <th>TaxiIn</th>\n",
       "      <th>TaxiOut</th>\n",
       "    </tr>\n",
       "  </thead>\n",
       "  <tbody>\n",
       "    <tr>\n",
       "      <th>195608</th>\n",
       "      <td>2</td>\n",
       "      <td>12</td>\n",
       "      <td>2</td>\n",
       "      <td>839.0</td>\n",
       "      <td>820</td>\n",
       "      <td>921.0</td>\n",
       "      <td>910</td>\n",
       "      <td>WN</td>\n",
       "      <td>1952</td>\n",
       "      <td>N390SW</td>\n",
       "      <td>102.0</td>\n",
       "      <td>110.0</td>\n",
       "      <td>88.0</td>\n",
       "      <td>11.0</td>\n",
       "      <td>19.0</td>\n",
       "      <td>DAL</td>\n",
       "      <td>ABQ</td>\n",
       "      <td>580</td>\n",
       "      <td>4.0</td>\n",
       "      <td>10.0</td>\n",
       "    </tr>\n",
       "    <tr>\n",
       "      <th>1558072</th>\n",
       "      <td>10</td>\n",
       "      <td>30</td>\n",
       "      <td>4</td>\n",
       "      <td>1615.0</td>\n",
       "      <td>1603</td>\n",
       "      <td>1754.0</td>\n",
       "      <td>1717</td>\n",
       "      <td>OO</td>\n",
       "      <td>5428</td>\n",
       "      <td>N234SW</td>\n",
       "      <td>99.0</td>\n",
       "      <td>74.0</td>\n",
       "      <td>88.0</td>\n",
       "      <td>37.0</td>\n",
       "      <td>12.0</td>\n",
       "      <td>ACV</td>\n",
       "      <td>SFO</td>\n",
       "      <td>250</td>\n",
       "      <td>5.0</td>\n",
       "      <td>6.0</td>\n",
       "    </tr>\n",
       "    <tr>\n",
       "      <th>1581600</th>\n",
       "      <td>10</td>\n",
       "      <td>8</td>\n",
       "      <td>3</td>\n",
       "      <td>1340.0</td>\n",
       "      <td>1157</td>\n",
       "      <td>1602.0</td>\n",
       "      <td>1423</td>\n",
       "      <td>EV</td>\n",
       "      <td>5188</td>\n",
       "      <td>N633AS</td>\n",
       "      <td>82.0</td>\n",
       "      <td>86.0</td>\n",
       "      <td>65.0</td>\n",
       "      <td>99.0</td>\n",
       "      <td>103.0</td>\n",
       "      <td>PFN</td>\n",
       "      <td>ATL</td>\n",
       "      <td>247</td>\n",
       "      <td>7.0</td>\n",
       "      <td>10.0</td>\n",
       "    </tr>\n",
       "    <tr>\n",
       "      <th>1491875</th>\n",
       "      <td>9</td>\n",
       "      <td>8</td>\n",
       "      <td>1</td>\n",
       "      <td>1041.0</td>\n",
       "      <td>1035</td>\n",
       "      <td>1151.0</td>\n",
       "      <td>1145</td>\n",
       "      <td>MQ</td>\n",
       "      <td>3843</td>\n",
       "      <td>N641AE</td>\n",
       "      <td>70.0</td>\n",
       "      <td>70.0</td>\n",
       "      <td>53.0</td>\n",
       "      <td>6.0</td>\n",
       "      <td>6.0</td>\n",
       "      <td>DFW</td>\n",
       "      <td>LIT</td>\n",
       "      <td>304</td>\n",
       "      <td>4.0</td>\n",
       "      <td>13.0</td>\n",
       "    </tr>\n",
       "    <tr>\n",
       "      <th>1129086</th>\n",
       "      <td>7</td>\n",
       "      <td>31</td>\n",
       "      <td>4</td>\n",
       "      <td>1113.0</td>\n",
       "      <td>1025</td>\n",
       "      <td>1205.0</td>\n",
       "      <td>1114</td>\n",
       "      <td>YV</td>\n",
       "      <td>2891</td>\n",
       "      <td>N909FJ</td>\n",
       "      <td>52.0</td>\n",
       "      <td>49.0</td>\n",
       "      <td>24.0</td>\n",
       "      <td>51.0</td>\n",
       "      <td>48.0</td>\n",
       "      <td>TUS</td>\n",
       "      <td>PHX</td>\n",
       "      <td>110</td>\n",
       "      <td>13.0</td>\n",
       "      <td>15.0</td>\n",
       "    </tr>\n",
       "    <tr>\n",
       "      <th>...</th>\n",
       "      <td>...</td>\n",
       "      <td>...</td>\n",
       "      <td>...</td>\n",
       "      <td>...</td>\n",
       "      <td>...</td>\n",
       "      <td>...</td>\n",
       "      <td>...</td>\n",
       "      <td>...</td>\n",
       "      <td>...</td>\n",
       "      <td>...</td>\n",
       "      <td>...</td>\n",
       "      <td>...</td>\n",
       "      <td>...</td>\n",
       "      <td>...</td>\n",
       "      <td>...</td>\n",
       "      <td>...</td>\n",
       "      <td>...</td>\n",
       "      <td>...</td>\n",
       "      <td>...</td>\n",
       "      <td>...</td>\n",
       "    </tr>\n",
       "    <tr>\n",
       "      <th>1678011</th>\n",
       "      <td>11</td>\n",
       "      <td>2</td>\n",
       "      <td>7</td>\n",
       "      <td>2232.0</td>\n",
       "      <td>2130</td>\n",
       "      <td>49.0</td>\n",
       "      <td>2350</td>\n",
       "      <td>WN</td>\n",
       "      <td>1082</td>\n",
       "      <td>N221WN</td>\n",
       "      <td>77.0</td>\n",
       "      <td>80.0</td>\n",
       "      <td>58.0</td>\n",
       "      <td>59.0</td>\n",
       "      <td>62.0</td>\n",
       "      <td>LAS</td>\n",
       "      <td>SLC</td>\n",
       "      <td>368</td>\n",
       "      <td>5.0</td>\n",
       "      <td>14.0</td>\n",
       "    </tr>\n",
       "    <tr>\n",
       "      <th>1257174</th>\n",
       "      <td>7</td>\n",
       "      <td>3</td>\n",
       "      <td>4</td>\n",
       "      <td>1801.0</td>\n",
       "      <td>1755</td>\n",
       "      <td>1901.0</td>\n",
       "      <td>1857</td>\n",
       "      <td>CO</td>\n",
       "      <td>1779</td>\n",
       "      <td>N16732</td>\n",
       "      <td>60.0</td>\n",
       "      <td>62.0</td>\n",
       "      <td>40.0</td>\n",
       "      <td>4.0</td>\n",
       "      <td>6.0</td>\n",
       "      <td>IAH</td>\n",
       "      <td>SAT</td>\n",
       "      <td>191</td>\n",
       "      <td>3.0</td>\n",
       "      <td>17.0</td>\n",
       "    </tr>\n",
       "    <tr>\n",
       "      <th>1661715</th>\n",
       "      <td>11</td>\n",
       "      <td>24</td>\n",
       "      <td>1</td>\n",
       "      <td>1130.0</td>\n",
       "      <td>854</td>\n",
       "      <td>1313.0</td>\n",
       "      <td>1039</td>\n",
       "      <td>OO</td>\n",
       "      <td>5769</td>\n",
       "      <td>N234SW</td>\n",
       "      <td>103.0</td>\n",
       "      <td>105.0</td>\n",
       "      <td>85.0</td>\n",
       "      <td>154.0</td>\n",
       "      <td>156.0</td>\n",
       "      <td>LMT</td>\n",
       "      <td>SFO</td>\n",
       "      <td>315</td>\n",
       "      <td>3.0</td>\n",
       "      <td>15.0</td>\n",
       "    </tr>\n",
       "    <tr>\n",
       "      <th>1003913</th>\n",
       "      <td>6</td>\n",
       "      <td>23</td>\n",
       "      <td>1</td>\n",
       "      <td>1448.0</td>\n",
       "      <td>1442</td>\n",
       "      <td>1641.0</td>\n",
       "      <td>1645</td>\n",
       "      <td>FL</td>\n",
       "      <td>261</td>\n",
       "      <td>N958AT</td>\n",
       "      <td>113.0</td>\n",
       "      <td>123.0</td>\n",
       "      <td>97.0</td>\n",
       "      <td>-4.0</td>\n",
       "      <td>6.0</td>\n",
       "      <td>FNT</td>\n",
       "      <td>ATL</td>\n",
       "      <td>644</td>\n",
       "      <td>7.0</td>\n",
       "      <td>9.0</td>\n",
       "    </tr>\n",
       "    <tr>\n",
       "      <th>553695</th>\n",
       "      <td>3</td>\n",
       "      <td>17</td>\n",
       "      <td>1</td>\n",
       "      <td>19.0</td>\n",
       "      <td>2150</td>\n",
       "      <td>236.0</td>\n",
       "      <td>30</td>\n",
       "      <td>B6</td>\n",
       "      <td>58</td>\n",
       "      <td>N583JB</td>\n",
       "      <td>137.0</td>\n",
       "      <td>160.0</td>\n",
       "      <td>120.0</td>\n",
       "      <td>126.0</td>\n",
       "      <td>149.0</td>\n",
       "      <td>MCO</td>\n",
       "      <td>JFK</td>\n",
       "      <td>944</td>\n",
       "      <td>6.0</td>\n",
       "      <td>11.0</td>\n",
       "    </tr>\n",
       "  </tbody>\n",
       "</table>\n",
       "<p>200000 rows × 20 columns</p>\n",
       "</div>"
      ],
      "text/plain": [
       "         Month  DayofMonth  DayOfWeek  DepTime  CRSDepTime  ArrTime  CRSArrTime UniqueCarrier  FlightNum TailNum  ActualElapsedTime  CRSElapsedTime  AirTime  ArrDelay  DepDelay Origin Dest  Distance  TaxiIn  TaxiOut\n",
       "195608       2          12          2    839.0         820    921.0         910            WN       1952  N390SW              102.0           110.0     88.0      11.0      19.0    DAL  ABQ       580     4.0     10.0\n",
       "1558072     10          30          4   1615.0        1603   1754.0        1717            OO       5428  N234SW               99.0            74.0     88.0      37.0      12.0    ACV  SFO       250     5.0      6.0\n",
       "1581600     10           8          3   1340.0        1157   1602.0        1423            EV       5188  N633AS               82.0            86.0     65.0      99.0     103.0    PFN  ATL       247     7.0     10.0\n",
       "1491875      9           8          1   1041.0        1035   1151.0        1145            MQ       3843  N641AE               70.0            70.0     53.0       6.0       6.0    DFW  LIT       304     4.0     13.0\n",
       "1129086      7          31          4   1113.0        1025   1205.0        1114            YV       2891  N909FJ               52.0            49.0     24.0      51.0      48.0    TUS  PHX       110    13.0     15.0\n",
       "...        ...         ...        ...      ...         ...      ...         ...           ...        ...     ...                ...             ...      ...       ...       ...    ...  ...       ...     ...      ...\n",
       "1678011     11           2          7   2232.0        2130     49.0        2350            WN       1082  N221WN               77.0            80.0     58.0      59.0      62.0    LAS  SLC       368     5.0     14.0\n",
       "1257174      7           3          4   1801.0        1755   1901.0        1857            CO       1779  N16732               60.0            62.0     40.0       4.0       6.0    IAH  SAT       191     3.0     17.0\n",
       "1661715     11          24          1   1130.0         854   1313.0        1039            OO       5769  N234SW              103.0           105.0     85.0     154.0     156.0    LMT  SFO       315     3.0     15.0\n",
       "1003913      6          23          1   1448.0        1442   1641.0        1645            FL        261  N958AT              113.0           123.0     97.0      -4.0       6.0    FNT  ATL       644     7.0      9.0\n",
       "553695       3          17          1     19.0        2150    236.0          30            B6         58  N583JB              137.0           160.0    120.0     126.0     149.0    MCO  JFK       944     6.0     11.0\n",
       "\n",
       "[200000 rows x 20 columns]"
      ]
     },
     "execution_count": 19,
     "metadata": {},
     "output_type": "execute_result"
    }
   ],
   "source": [
    "df_reducido = df_limpio.sample(n=200000, random_state=23)\n",
    "\n",
    "df_reducido"
   ]
  },
  {
   "cell_type": "markdown",
   "id": "50d79d70",
   "metadata": {},
   "source": [
    "# Exercici 2\n",
    "**Fes un informe complet del dataset:**\n",
    "\n",
    "- **Resumeix estadísticament el dataset i les columnes d’interès.**"
   ]
  },
  {
   "cell_type": "code",
   "execution_count": 20,
   "id": "6ec20eba",
   "metadata": {
    "ExecuteTime": {
     "end_time": "2023-07-14T11:26:00.826324Z",
     "start_time": "2023-07-14T11:26:00.628853Z"
    }
   },
   "outputs": [
    {
     "data": {
      "text/html": [
       "<div>\n",
       "<style scoped>\n",
       "    .dataframe tbody tr th:only-of-type {\n",
       "        vertical-align: middle;\n",
       "    }\n",
       "\n",
       "    .dataframe tbody tr th {\n",
       "        vertical-align: top;\n",
       "    }\n",
       "\n",
       "    .dataframe thead th {\n",
       "        text-align: right;\n",
       "    }\n",
       "</style>\n",
       "<table border=\"1\" class=\"dataframe\">\n",
       "  <thead>\n",
       "    <tr style=\"text-align: right;\">\n",
       "      <th></th>\n",
       "      <th>count</th>\n",
       "      <th>mean</th>\n",
       "      <th>std</th>\n",
       "      <th>min</th>\n",
       "      <th>25%</th>\n",
       "      <th>50%</th>\n",
       "      <th>75%</th>\n",
       "      <th>max</th>\n",
       "    </tr>\n",
       "  </thead>\n",
       "  <tbody>\n",
       "    <tr>\n",
       "      <th>Month</th>\n",
       "      <td>200000.0</td>\n",
       "      <td>6.113320</td>\n",
       "      <td>3.483689</td>\n",
       "      <td>1.0</td>\n",
       "      <td>3.0</td>\n",
       "      <td>6.0</td>\n",
       "      <td>9.0</td>\n",
       "      <td>12.0</td>\n",
       "    </tr>\n",
       "    <tr>\n",
       "      <th>DayofMonth</th>\n",
       "      <td>200000.0</td>\n",
       "      <td>15.767080</td>\n",
       "      <td>8.772620</td>\n",
       "      <td>1.0</td>\n",
       "      <td>8.0</td>\n",
       "      <td>16.0</td>\n",
       "      <td>23.0</td>\n",
       "      <td>31.0</td>\n",
       "    </tr>\n",
       "    <tr>\n",
       "      <th>DayOfWeek</th>\n",
       "      <td>200000.0</td>\n",
       "      <td>3.987190</td>\n",
       "      <td>1.995541</td>\n",
       "      <td>1.0</td>\n",
       "      <td>2.0</td>\n",
       "      <td>4.0</td>\n",
       "      <td>6.0</td>\n",
       "      <td>7.0</td>\n",
       "    </tr>\n",
       "    <tr>\n",
       "      <th>DepTime</th>\n",
       "      <td>200000.0</td>\n",
       "      <td>1517.837595</td>\n",
       "      <td>450.742260</td>\n",
       "      <td>1.0</td>\n",
       "      <td>1202.0</td>\n",
       "      <td>1545.0</td>\n",
       "      <td>1900.0</td>\n",
       "      <td>2400.0</td>\n",
       "    </tr>\n",
       "    <tr>\n",
       "      <th>CRSDepTime</th>\n",
       "      <td>200000.0</td>\n",
       "      <td>1467.473640</td>\n",
       "      <td>424.612892</td>\n",
       "      <td>1.0</td>\n",
       "      <td>1135.0</td>\n",
       "      <td>1510.0</td>\n",
       "      <td>1815.0</td>\n",
       "      <td>2359.0</td>\n",
       "    </tr>\n",
       "    <tr>\n",
       "      <th>ArrTime</th>\n",
       "      <td>200000.0</td>\n",
       "      <td>1607.728820</td>\n",
       "      <td>549.096988</td>\n",
       "      <td>1.0</td>\n",
       "      <td>1314.0</td>\n",
       "      <td>1714.0</td>\n",
       "      <td>2029.0</td>\n",
       "      <td>2400.0</td>\n",
       "    </tr>\n",
       "    <tr>\n",
       "      <th>CRSArrTime</th>\n",
       "      <td>200000.0</td>\n",
       "      <td>1633.624325</td>\n",
       "      <td>464.524840</td>\n",
       "      <td>0.0</td>\n",
       "      <td>1325.0</td>\n",
       "      <td>1705.0</td>\n",
       "      <td>2013.0</td>\n",
       "      <td>2359.0</td>\n",
       "    </tr>\n",
       "    <tr>\n",
       "      <th>FlightNum</th>\n",
       "      <td>200000.0</td>\n",
       "      <td>2185.611025</td>\n",
       "      <td>1943.550539</td>\n",
       "      <td>1.0</td>\n",
       "      <td>612.0</td>\n",
       "      <td>1546.0</td>\n",
       "      <td>3423.0</td>\n",
       "      <td>7829.0</td>\n",
       "    </tr>\n",
       "    <tr>\n",
       "      <th>ActualElapsedTime</th>\n",
       "      <td>200000.0</td>\n",
       "      <td>133.336515</td>\n",
       "      <td>72.126327</td>\n",
       "      <td>15.0</td>\n",
       "      <td>80.0</td>\n",
       "      <td>116.0</td>\n",
       "      <td>165.0</td>\n",
       "      <td>711.0</td>\n",
       "    </tr>\n",
       "    <tr>\n",
       "      <th>CRSElapsedTime</th>\n",
       "      <td>200000.0</td>\n",
       "      <td>134.244685</td>\n",
       "      <td>71.261507</td>\n",
       "      <td>15.0</td>\n",
       "      <td>81.0</td>\n",
       "      <td>117.0</td>\n",
       "      <td>165.0</td>\n",
       "      <td>660.0</td>\n",
       "    </tr>\n",
       "    <tr>\n",
       "      <th>AirTime</th>\n",
       "      <td>200000.0</td>\n",
       "      <td>108.294965</td>\n",
       "      <td>68.660097</td>\n",
       "      <td>2.0</td>\n",
       "      <td>58.0</td>\n",
       "      <td>90.0</td>\n",
       "      <td>137.0</td>\n",
       "      <td>655.0</td>\n",
       "    </tr>\n",
       "    <tr>\n",
       "      <th>ArrDelay</th>\n",
       "      <td>200000.0</td>\n",
       "      <td>42.123795</td>\n",
       "      <td>57.017990</td>\n",
       "      <td>-62.0</td>\n",
       "      <td>9.0</td>\n",
       "      <td>24.0</td>\n",
       "      <td>56.0</td>\n",
       "      <td>2461.0</td>\n",
       "    </tr>\n",
       "    <tr>\n",
       "      <th>DepDelay</th>\n",
       "      <td>200000.0</td>\n",
       "      <td>43.031955</td>\n",
       "      <td>53.528544</td>\n",
       "      <td>6.0</td>\n",
       "      <td>12.0</td>\n",
       "      <td>24.0</td>\n",
       "      <td>53.0</td>\n",
       "      <td>2467.0</td>\n",
       "    </tr>\n",
       "    <tr>\n",
       "      <th>Distance</th>\n",
       "      <td>200000.0</td>\n",
       "      <td>765.201745</td>\n",
       "      <td>573.786134</td>\n",
       "      <td>30.0</td>\n",
       "      <td>338.0</td>\n",
       "      <td>606.0</td>\n",
       "      <td>998.0</td>\n",
       "      <td>4962.0</td>\n",
       "    </tr>\n",
       "    <tr>\n",
       "      <th>TaxiIn</th>\n",
       "      <td>200000.0</td>\n",
       "      <td>6.801115</td>\n",
       "      <td>5.333447</td>\n",
       "      <td>0.0</td>\n",
       "      <td>4.0</td>\n",
       "      <td>5.0</td>\n",
       "      <td>8.0</td>\n",
       "      <td>225.0</td>\n",
       "    </tr>\n",
       "    <tr>\n",
       "      <th>TaxiOut</th>\n",
       "      <td>200000.0</td>\n",
       "      <td>18.240435</td>\n",
       "      <td>14.399869</td>\n",
       "      <td>0.0</td>\n",
       "      <td>10.0</td>\n",
       "      <td>14.0</td>\n",
       "      <td>21.0</td>\n",
       "      <td>386.0</td>\n",
       "    </tr>\n",
       "  </tbody>\n",
       "</table>\n",
       "</div>"
      ],
      "text/plain": [
       "                      count         mean          std   min     25%     50%     75%     max\n",
       "Month              200000.0     6.113320     3.483689   1.0     3.0     6.0     9.0    12.0\n",
       "DayofMonth         200000.0    15.767080     8.772620   1.0     8.0    16.0    23.0    31.0\n",
       "DayOfWeek          200000.0     3.987190     1.995541   1.0     2.0     4.0     6.0     7.0\n",
       "DepTime            200000.0  1517.837595   450.742260   1.0  1202.0  1545.0  1900.0  2400.0\n",
       "CRSDepTime         200000.0  1467.473640   424.612892   1.0  1135.0  1510.0  1815.0  2359.0\n",
       "ArrTime            200000.0  1607.728820   549.096988   1.0  1314.0  1714.0  2029.0  2400.0\n",
       "CRSArrTime         200000.0  1633.624325   464.524840   0.0  1325.0  1705.0  2013.0  2359.0\n",
       "FlightNum          200000.0  2185.611025  1943.550539   1.0   612.0  1546.0  3423.0  7829.0\n",
       "ActualElapsedTime  200000.0   133.336515    72.126327  15.0    80.0   116.0   165.0   711.0\n",
       "CRSElapsedTime     200000.0   134.244685    71.261507  15.0    81.0   117.0   165.0   660.0\n",
       "AirTime            200000.0   108.294965    68.660097   2.0    58.0    90.0   137.0   655.0\n",
       "ArrDelay           200000.0    42.123795    57.017990 -62.0     9.0    24.0    56.0  2461.0\n",
       "DepDelay           200000.0    43.031955    53.528544   6.0    12.0    24.0    53.0  2467.0\n",
       "Distance           200000.0   765.201745   573.786134  30.0   338.0   606.0   998.0  4962.0\n",
       "TaxiIn             200000.0     6.801115     5.333447   0.0     4.0     5.0     8.0   225.0\n",
       "TaxiOut            200000.0    18.240435    14.399869   0.0    10.0    14.0    21.0   386.0"
      ]
     },
     "execution_count": 20,
     "metadata": {},
     "output_type": "execute_result"
    }
   ],
   "source": [
    "# resumen estadístico de las variables numéricas\n",
    "\n",
    "df_reducido.describe().T"
   ]
  },
  {
   "cell_type": "markdown",
   "id": "4534124f",
   "metadata": {},
   "source": [
    "- **Fes una anàlisi estadístic del que consideris rellevant.**"
   ]
  },
  {
   "cell_type": "markdown",
   "id": "790fe8a7",
   "metadata": {},
   "source": [
    "Al realizar el estudio estadístico, lo primero que busqué fue la presencia de registros absurdos, como un día de la semana superior a 7, una distancia negativa o exageradamente grande, una hora menor a 0 o mayor a 2400, entre otros. Sin embargo, parece que no existen valores corruptos en los datos. A continuación, haré un breve resumen por cada bloque de información.\n",
    "\n",
    "En las columnas correspondientes al mes, día del mes y día de la semana, encontramos los valores esperados. En cuanto al día de la semana, la media es aproximadamente 4 y la desviación estándar indica que los valores están bastante dispersos. Con respecto al día del mes, ocurre algo similar, con una media ligeramente superior a 15.5 y una distribución dispersa. Es curioso notar que en la columna del mes del año, la media es casi 6, aunque debería estar más cercana a 6.5. Esto podría sugerir que hay ligeramente más vuelos en la primera mitad del año que en la segunda.\n",
    "\n",
    "En relación a las columnas DepTime, CRSDepTime, ArrTime y CRSArrTime, simplemente podemos comentar que el estudio estadístico nos proporciona una idea aproximada. Sin embargo, la forma en que se tratan las horas en estas columnas muestra valores incoherentes, como el caso de CRSDepTime que la media es 1467. Sería interesante crear nuevas columnas que representaran las horas en formato decimal, lo cual tendrá un mayor valor estadístico. Vemos igualmente que las medias son las centrales del día teniendo en cuenta que a ciertas horas de la noche no se programan vuelos.\n",
    "\n",
    "La columna FlightNum no tiene relevancia estadística en sí misma. Quizás podríamos calcular la moda o simplemente identificar los números de vuelo más repetidos.\n",
    "\n",
    "En cuanto a ActualElapsedTime, CRSElapsedTime y AirTime, observamos que la duración promedio de los vuelos es de aproximadamente 2 horas, pero existe una gran variabilidad, desde 15 minutos hasta 11 horas. Lo que destaca es la similitud entre el tiempo estimado y el real, lo que indica que una vez que el avión tiene la orden de salida, los tiempos están meticulosamente medidos y planificados para minimizar el tiempo en el aire.\n",
    "\n",
    "Los retrasos, que son la parte más interesante del dataframe, muestran medias similares entre los retrasos en las salidas y en las llegadas. Como mencionamos anteriormente, no es posible recortar significativamente los tiempos en el aire ni prolongarlos en exceso. Por lo tanto, un retraso en la salida probablemente conllevará un retraso en la llegada. Sin embargo, los valores de los retrasos en las llegadas son más variables, incluso encontramos valores negativos que indican que los vuelos han llegado antes de la hora programada. Y como es lógico, ningún vuelo despega antes de su hora.\n",
    "\n",
    "La distancia es un valor muy variable, que va desde los 30 kilómetros hasta casi 5000 kilómetros en el vuelo más largo. Sin embargo, si observamos los percentiles, podemos ver que el 50% de los vuelos se encuentran en el rango de 300 a 1000 kilómetros.\n",
    "\n",
    "Para finalizar, en cuanto a los tiempos de rodaje, llama la atención a primera vista que los tiempos en las llegadas son tres veces más largos que los de salida. Esto se explica por la prioridad de los despegues en los aeropuertos, es decir, dejen salir antes de entrar :-) Añadir simplemente que el 75% de los vuelos tienen horquillas de tiempo de rodaje muy ajustadas, mientras que existe una parte correspondientes a retrasos que pueden superar las 6 horas.\n"
   ]
  },
  {
   "cell_type": "markdown",
   "id": "291c629a",
   "metadata": {},
   "source": [
    "- **Troba quantes dades faltants hi ha per columna.**"
   ]
  },
  {
   "cell_type": "code",
   "execution_count": 21,
   "id": "cfbd1954",
   "metadata": {
    "ExecuteTime": {
     "end_time": "2023-07-14T11:26:08.701156Z",
     "start_time": "2023-07-14T11:26:08.549561Z"
    }
   },
   "outputs": [
    {
     "name": "stdout",
     "output_type": "stream",
     "text": [
      "Month                0\n",
      "DayofMonth           0\n",
      "DayOfWeek            0\n",
      "DepTime              0\n",
      "CRSDepTime           0\n",
      "ArrTime              0\n",
      "CRSArrTime           0\n",
      "UniqueCarrier        0\n",
      "FlightNum            0\n",
      "TailNum              0\n",
      "ActualElapsedTime    0\n",
      "CRSElapsedTime       0\n",
      "AirTime              0\n",
      "ArrDelay             0\n",
      "DepDelay             0\n",
      "Origin               0\n",
      "Dest                 0\n",
      "Distance             0\n",
      "TaxiIn               0\n",
      "TaxiOut              0\n",
      "dtype: int64\n"
     ]
    }
   ],
   "source": [
    "valores_nulos = df_reducido.isnull().sum()\n",
    "\n",
    "print(valores_nulos)"
   ]
  },
  {
   "cell_type": "markdown",
   "id": "1528b5f7",
   "metadata": {
    "ExecuteTime": {
     "end_time": "2023-07-13T08:42:12.984209Z",
     "start_time": "2023-07-13T08:42:12.975214Z"
    }
   },
   "source": [
    "Nos damos cuenta de que la suerte estuvo de nuestro lado y los posibles valores nulos quedaron fuera. \n",
    "En caso de que hubiera quedado alguno, habríamos procedido a eliminarlo directamente o, en su defecto, reemplazarlo por un '0' para no perder los datos."
   ]
  },
  {
   "cell_type": "markdown",
   "id": "e16ea435",
   "metadata": {
    "ExecuteTime": {
     "end_time": "2023-07-13T10:40:00.973053Z",
     "start_time": "2023-07-13T10:40:00.954085Z"
    }
   },
   "source": [
    "- **Crea columnes noves (velocitat mitjana del vol, si ha arribat tard o no...).**"
   ]
  },
  {
   "cell_type": "code",
   "execution_count": 22,
   "id": "1240d810",
   "metadata": {
    "ExecuteTime": {
     "end_time": "2023-07-14T11:26:12.746598Z",
     "start_time": "2023-07-14T11:26:12.723643Z"
    }
   },
   "outputs": [
    {
     "data": {
      "text/plain": [
       "count    200000.000000\n",
       "mean        396.869368\n",
       "std          77.954784\n",
       "min          36.000000\n",
       "25%         351.840000\n",
       "50%         404.062500\n",
       "75%         448.106312\n",
       "max        6690.000000\n",
       "Name: AvgSpeed, dtype: float64"
      ]
     },
     "execution_count": 22,
     "metadata": {},
     "output_type": "execute_result"
    }
   ],
   "source": [
    "df_reducido['AvgSpeed'] = df_reducido['Distance'] / (df_reducido['AirTime']/60)\n",
    "df_reducido['AvgSpeed'].describe()"
   ]
  },
  {
   "cell_type": "code",
   "execution_count": 23,
   "id": "d1016da6",
   "metadata": {
    "ExecuteTime": {
     "end_time": "2023-07-14T11:26:13.763737Z",
     "start_time": "2023-07-14T11:26:13.693924Z"
    }
   },
   "outputs": [
    {
     "data": {
      "text/html": [
       "<div>\n",
       "<style scoped>\n",
       "    .dataframe tbody tr th:only-of-type {\n",
       "        vertical-align: middle;\n",
       "    }\n",
       "\n",
       "    .dataframe tbody tr th {\n",
       "        vertical-align: top;\n",
       "    }\n",
       "\n",
       "    .dataframe thead th {\n",
       "        text-align: right;\n",
       "    }\n",
       "</style>\n",
       "<table border=\"1\" class=\"dataframe\">\n",
       "  <thead>\n",
       "    <tr style=\"text-align: right;\">\n",
       "      <th></th>\n",
       "      <th>Month</th>\n",
       "      <th>DayofMonth</th>\n",
       "      <th>DayOfWeek</th>\n",
       "      <th>DepTime</th>\n",
       "      <th>CRSDepTime</th>\n",
       "      <th>ArrTime</th>\n",
       "      <th>CRSArrTime</th>\n",
       "      <th>UniqueCarrier</th>\n",
       "      <th>FlightNum</th>\n",
       "      <th>TailNum</th>\n",
       "      <th>ActualElapsedTime</th>\n",
       "      <th>CRSElapsedTime</th>\n",
       "      <th>AirTime</th>\n",
       "      <th>ArrDelay</th>\n",
       "      <th>DepDelay</th>\n",
       "      <th>Origin</th>\n",
       "      <th>Dest</th>\n",
       "      <th>Distance</th>\n",
       "      <th>TaxiIn</th>\n",
       "      <th>TaxiOut</th>\n",
       "      <th>AvgSpeed</th>\n",
       "    </tr>\n",
       "  </thead>\n",
       "  <tbody>\n",
       "    <tr>\n",
       "      <th>1401975</th>\n",
       "      <td>8</td>\n",
       "      <td>29</td>\n",
       "      <td>5</td>\n",
       "      <td>1559.0</td>\n",
       "      <td>1505</td>\n",
       "      <td>1658.0</td>\n",
       "      <td>1600</td>\n",
       "      <td>AA</td>\n",
       "      <td>2378</td>\n",
       "      <td>N4WWAA</td>\n",
       "      <td>59.0</td>\n",
       "      <td>55.0</td>\n",
       "      <td>3.0</td>\n",
       "      <td>58.0</td>\n",
       "      <td>54.0</td>\n",
       "      <td>DFW</td>\n",
       "      <td>AUS</td>\n",
       "      <td>190</td>\n",
       "      <td>7.0</td>\n",
       "      <td>49.0</td>\n",
       "      <td>3800.000000</td>\n",
       "    </tr>\n",
       "    <tr>\n",
       "      <th>53537</th>\n",
       "      <td>1</td>\n",
       "      <td>5</td>\n",
       "      <td>6</td>\n",
       "      <td>1842.0</td>\n",
       "      <td>1715</td>\n",
       "      <td>1949.0</td>\n",
       "      <td>1824</td>\n",
       "      <td>OO</td>\n",
       "      <td>3694</td>\n",
       "      <td>N581SW</td>\n",
       "      <td>67.0</td>\n",
       "      <td>69.0</td>\n",
       "      <td>2.0</td>\n",
       "      <td>85.0</td>\n",
       "      <td>87.0</td>\n",
       "      <td>SLC</td>\n",
       "      <td>SUN</td>\n",
       "      <td>223</td>\n",
       "      <td>2.0</td>\n",
       "      <td>63.0</td>\n",
       "      <td>6690.000000</td>\n",
       "    </tr>\n",
       "    <tr>\n",
       "      <th>101588</th>\n",
       "      <td>1</td>\n",
       "      <td>6</td>\n",
       "      <td>7</td>\n",
       "      <td>2157.0</td>\n",
       "      <td>2142</td>\n",
       "      <td>2233.0</td>\n",
       "      <td>2220</td>\n",
       "      <td>EV</td>\n",
       "      <td>4277</td>\n",
       "      <td>N883AS</td>\n",
       "      <td>96.0</td>\n",
       "      <td>98.0</td>\n",
       "      <td>17.0</td>\n",
       "      <td>13.0</td>\n",
       "      <td>15.0</td>\n",
       "      <td>ATL</td>\n",
       "      <td>BTR</td>\n",
       "      <td>449</td>\n",
       "      <td>58.0</td>\n",
       "      <td>21.0</td>\n",
       "      <td>1584.705882</td>\n",
       "    </tr>\n",
       "    <tr>\n",
       "      <th>106705</th>\n",
       "      <td>1</td>\n",
       "      <td>31</td>\n",
       "      <td>4</td>\n",
       "      <td>1519.0</td>\n",
       "      <td>1459</td>\n",
       "      <td>1823.0</td>\n",
       "      <td>1753</td>\n",
       "      <td>EV</td>\n",
       "      <td>4769</td>\n",
       "      <td>N931EV</td>\n",
       "      <td>124.0</td>\n",
       "      <td>114.0</td>\n",
       "      <td>26.0</td>\n",
       "      <td>30.0</td>\n",
       "      <td>20.0</td>\n",
       "      <td>XNA</td>\n",
       "      <td>ATL</td>\n",
       "      <td>589</td>\n",
       "      <td>13.0</td>\n",
       "      <td>85.0</td>\n",
       "      <td>1359.230769</td>\n",
       "    </tr>\n",
       "    <tr>\n",
       "      <th>915054</th>\n",
       "      <td>6</td>\n",
       "      <td>27</td>\n",
       "      <td>5</td>\n",
       "      <td>1444.0</td>\n",
       "      <td>1415</td>\n",
       "      <td>1525.0</td>\n",
       "      <td>1505</td>\n",
       "      <td>WN</td>\n",
       "      <td>3686</td>\n",
       "      <td>N689SW</td>\n",
       "      <td>41.0</td>\n",
       "      <td>50.0</td>\n",
       "      <td>5.0</td>\n",
       "      <td>20.0</td>\n",
       "      <td>29.0</td>\n",
       "      <td>DAL</td>\n",
       "      <td>AUS</td>\n",
       "      <td>189</td>\n",
       "      <td>25.0</td>\n",
       "      <td>11.0</td>\n",
       "      <td>2268.000000</td>\n",
       "    </tr>\n",
       "    <tr>\n",
       "      <th>1383147</th>\n",
       "      <td>8</td>\n",
       "      <td>28</td>\n",
       "      <td>4</td>\n",
       "      <td>1802.0</td>\n",
       "      <td>1755</td>\n",
       "      <td>2000.0</td>\n",
       "      <td>1913</td>\n",
       "      <td>9E</td>\n",
       "      <td>2021</td>\n",
       "      <td>91479E</td>\n",
       "      <td>118.0</td>\n",
       "      <td>78.0</td>\n",
       "      <td>6.0</td>\n",
       "      <td>47.0</td>\n",
       "      <td>7.0</td>\n",
       "      <td>CLT</td>\n",
       "      <td>ATL</td>\n",
       "      <td>227</td>\n",
       "      <td>50.0</td>\n",
       "      <td>62.0</td>\n",
       "      <td>2270.000000</td>\n",
       "    </tr>\n",
       "    <tr>\n",
       "      <th>774620</th>\n",
       "      <td>5</td>\n",
       "      <td>14</td>\n",
       "      <td>3</td>\n",
       "      <td>2139.0</td>\n",
       "      <td>2005</td>\n",
       "      <td>2235.0</td>\n",
       "      <td>2219</td>\n",
       "      <td>OH</td>\n",
       "      <td>5458</td>\n",
       "      <td>N957CA</td>\n",
       "      <td>56.0</td>\n",
       "      <td>134.0</td>\n",
       "      <td>28.0</td>\n",
       "      <td>16.0</td>\n",
       "      <td>94.0</td>\n",
       "      <td>ATL</td>\n",
       "      <td>PHL</td>\n",
       "      <td>665</td>\n",
       "      <td>10.0</td>\n",
       "      <td>18.0</td>\n",
       "      <td>1425.000000</td>\n",
       "    </tr>\n",
       "    <tr>\n",
       "      <th>438251</th>\n",
       "      <td>3</td>\n",
       "      <td>9</td>\n",
       "      <td>7</td>\n",
       "      <td>1141.0</td>\n",
       "      <td>843</td>\n",
       "      <td>1318.0</td>\n",
       "      <td>929</td>\n",
       "      <td>OO</td>\n",
       "      <td>5406</td>\n",
       "      <td>N292SW</td>\n",
       "      <td>97.0</td>\n",
       "      <td>46.0</td>\n",
       "      <td>3.0</td>\n",
       "      <td>229.0</td>\n",
       "      <td>178.0</td>\n",
       "      <td>SAN</td>\n",
       "      <td>LAX</td>\n",
       "      <td>109</td>\n",
       "      <td>87.0</td>\n",
       "      <td>7.0</td>\n",
       "      <td>2180.000000</td>\n",
       "    </tr>\n",
       "    <tr>\n",
       "      <th>1308503</th>\n",
       "      <td>8</td>\n",
       "      <td>29</td>\n",
       "      <td>5</td>\n",
       "      <td>820.0</td>\n",
       "      <td>755</td>\n",
       "      <td>1010.0</td>\n",
       "      <td>1035</td>\n",
       "      <td>YV</td>\n",
       "      <td>2668</td>\n",
       "      <td>N914FJ</td>\n",
       "      <td>50.0</td>\n",
       "      <td>100.0</td>\n",
       "      <td>16.0</td>\n",
       "      <td>-25.0</td>\n",
       "      <td>25.0</td>\n",
       "      <td>MEM</td>\n",
       "      <td>CLT</td>\n",
       "      <td>512</td>\n",
       "      <td>10.0</td>\n",
       "      <td>24.0</td>\n",
       "      <td>1920.000000</td>\n",
       "    </tr>\n",
       "  </tbody>\n",
       "</table>\n",
       "</div>"
      ],
      "text/plain": [
       "         Month  DayofMonth  DayOfWeek  DepTime  CRSDepTime  ArrTime  CRSArrTime UniqueCarrier  FlightNum TailNum  ActualElapsedTime  CRSElapsedTime  AirTime  ArrDelay  DepDelay Origin Dest  Distance  TaxiIn  TaxiOut     AvgSpeed\n",
       "1401975      8          29          5   1559.0        1505   1658.0        1600            AA       2378  N4WWAA               59.0            55.0      3.0      58.0      54.0    DFW  AUS       190     7.0     49.0  3800.000000\n",
       "53537        1           5          6   1842.0        1715   1949.0        1824            OO       3694  N581SW               67.0            69.0      2.0      85.0      87.0    SLC  SUN       223     2.0     63.0  6690.000000\n",
       "101588       1           6          7   2157.0        2142   2233.0        2220            EV       4277  N883AS               96.0            98.0     17.0      13.0      15.0    ATL  BTR       449    58.0     21.0  1584.705882\n",
       "106705       1          31          4   1519.0        1459   1823.0        1753            EV       4769  N931EV              124.0           114.0     26.0      30.0      20.0    XNA  ATL       589    13.0     85.0  1359.230769\n",
       "915054       6          27          5   1444.0        1415   1525.0        1505            WN       3686  N689SW               41.0            50.0      5.0      20.0      29.0    DAL  AUS       189    25.0     11.0  2268.000000\n",
       "1383147      8          28          4   1802.0        1755   2000.0        1913            9E       2021  91479E              118.0            78.0      6.0      47.0       7.0    CLT  ATL       227    50.0     62.0  2270.000000\n",
       "774620       5          14          3   2139.0        2005   2235.0        2219            OH       5458  N957CA               56.0           134.0     28.0      16.0      94.0    ATL  PHL       665    10.0     18.0  1425.000000\n",
       "438251       3           9          7   1141.0         843   1318.0         929            OO       5406  N292SW               97.0            46.0      3.0     229.0     178.0    SAN  LAX       109    87.0      7.0  2180.000000\n",
       "1308503      8          29          5    820.0         755   1010.0        1035            YV       2668  N914FJ               50.0           100.0     16.0     -25.0      25.0    MEM  CLT       512    10.0     24.0  1920.000000"
      ]
     },
     "execution_count": 23,
     "metadata": {},
     "output_type": "execute_result"
    }
   ],
   "source": [
    "Velocidad_max = df_reducido[df_reducido['AvgSpeed'] > 1000]\n",
    "Velocidad_max"
   ]
  },
  {
   "cell_type": "markdown",
   "id": "740af316",
   "metadata": {},
   "source": [
    "A partir de la velocidad media, se puede deducir que algunos valores de tiempo en aire no son correctos, ya que resulta absurdo que un avión haya estado en el aire solo un minuto y haya recorrido 274 millas. En cuanto a los valores bajos, esto podría atribuirse a vuelos de corta distancia que estaban volando cerca del destino, esperando permiso para el aterrizaje."
   ]
  },
  {
   "cell_type": "code",
   "execution_count": 24,
   "id": "cefa7cb1",
   "metadata": {
    "ExecuteTime": {
     "end_time": "2023-07-14T11:26:15.398538Z",
     "start_time": "2023-07-14T11:26:15.388551Z"
    }
   },
   "outputs": [
    {
     "name": "stdout",
     "output_type": "stream",
     "text": [
      "Delayed: 89.36%\n"
     ]
    }
   ],
   "source": [
    "df_reducido['Delayed'] = df_reducido['ArrDelay'] > 0\n",
    "porcentaje_retrasos = (df_reducido['Delayed'].sum() / len(df_reducido)) * 100\n",
    "print(\"Delayed: {:.2f}%\".format(porcentaje_retrasos))"
   ]
  },
  {
   "cell_type": "markdown",
   "id": "fdca479b",
   "metadata": {},
   "source": [
    "Observamos que 11% llegan al destino antes de lo previsto y que el resto acumula algún tipo de retraso.\n",
    "A continuación vamos a crear una nueva columna que sea 'DayofYear' la cual representará el número del dia en el presente año y así por ejemplo poder graficar comodamente la evolución a lo largo del año del número de vuelos diarios."
   ]
  },
  {
   "cell_type": "code",
   "execution_count": 25,
   "id": "738866e8",
   "metadata": {
    "ExecuteTime": {
     "end_time": "2023-07-14T11:26:19.634166Z",
     "start_time": "2023-07-14T11:26:17.117399Z"
    }
   },
   "outputs": [
    {
     "data": {
      "text/plain": [
       "2      1089\n",
       "357    1085\n",
       "336    1073\n",
       "354    1035\n",
       "356    1024\n",
       "       ... \n",
       "267     195\n",
       "264     193\n",
       "278     183\n",
       "244     179\n",
       "332     158\n",
       "Name: DayofYear, Length: 366, dtype: int64"
      ]
     },
     "execution_count": 25,
     "metadata": {},
     "output_type": "execute_result"
    }
   ],
   "source": [
    "def calcular_day_of_year(row):\n",
    "    month = row['Month']\n",
    "    day = row['DayofMonth']\n",
    "    \n",
    "    days_in_month = [31, 29, 31, 30, 31, 30, 31, 31, 30, 31, 30, 31]\n",
    "    day_of_year = sum(days_in_month[:month-1]) + day\n",
    "    \n",
    "    return day_of_year\n",
    "\n",
    "df_reducido['DayofYear'] = df_reducido.apply(calcular_day_of_year, axis=1)\n",
    "df_reducido.DayofYear.value_counts()"
   ]
  },
  {
   "cell_type": "markdown",
   "id": "8762ebe5",
   "metadata": {},
   "source": [
    "- **Fes una taula de les aerolínies amb més endarreriments acumulats.**"
   ]
  },
  {
   "cell_type": "code",
   "execution_count": 26,
   "id": "0b428675",
   "metadata": {
    "ExecuteTime": {
     "end_time": "2023-07-14T11:26:21.113904Z",
     "start_time": "2023-07-14T11:26:21.084981Z"
    },
    "scrolled": true
   },
   "outputs": [
    {
     "name": "stdout",
     "output_type": "stream",
     "text": [
      "UniqueCarrier  Delayed\n",
      "           WN    33828\n",
      "           AA    17972\n",
      "           MQ    13528\n",
      "           UA    12721\n",
      "           OO    12700\n",
      "           DL    10512\n",
      "           XE     9880\n",
      "           CO     8673\n",
      "           US     8445\n",
      "           EV     7785\n",
      "           NW     7446\n",
      "           FL     6653\n",
      "           YV     6556\n",
      "           OH     5122\n",
      "           B6     5009\n",
      "           9E     4821\n",
      "           AS     3540\n",
      "           F9     2690\n",
      "           HA      774\n",
      "           AQ       58\n"
     ]
    }
   ],
   "source": [
    "tabla_retrasos = df_reducido.groupby('UniqueCarrier')['Delayed'].sum().reset_index()\n",
    "tabla_retrasos = tabla_retrasos.sort_values('Delayed', ascending=False)\n",
    "print(tabla_retrasos.to_string(index=False))"
   ]
  },
  {
   "cell_type": "code",
   "execution_count": 27,
   "id": "db1eb2aa",
   "metadata": {
    "ExecuteTime": {
     "end_time": "2023-07-14T11:26:22.057207Z",
     "start_time": "2023-07-14T11:26:22.004827Z"
    }
   },
   "outputs": [
    {
     "name": "stdout",
     "output_type": "stream",
     "text": [
      "UniqueCarrier  DelayedFlights  DelayedPercentage\n",
      "           HA             774          96.149068\n",
      "           YV            6556          95.042041\n",
      "           OH            5122          93.929947\n",
      "           OO           12700          92.531876\n",
      "           MQ           13528          92.524451\n",
      "           EV            7785          92.032155\n",
      "           NW            7446          91.575452\n",
      "           XE            9880          91.346154\n",
      "           F9            2690          91.186441\n",
      "           FL            6653          90.950103\n",
      "           9E            4821          90.586246\n",
      "           AA           17972          90.420608\n",
      "           DL           10512          88.432742\n",
      "           AS            3540          88.389513\n",
      "           UA           12721          87.821885\n",
      "           B6            5009          87.447626\n",
      "           WN           33828          86.390684\n",
      "           AQ              58          85.294118\n",
      "           US            8445          84.542997\n",
      "           CO            8673          84.122211\n"
     ]
    }
   ],
   "source": [
    "tabla_total_vuelos = df_reducido.groupby('UniqueCarrier').size().reset_index(name='TotalFlights')\n",
    "tabla_retrasos = df_reducido.groupby('UniqueCarrier')['Delayed'].sum().reset_index(name='DelayedFlights')\n",
    "tabla_retrasos['DelayedPercentage'] = (tabla_retrasos['DelayedFlights'] / tabla_total_vuelos['TotalFlights']) * 100\n",
    "tabla_retrasos = tabla_retrasos.sort_values('DelayedPercentage', ascending=False)\n",
    "print(tabla_retrasos.to_string(index=False))"
   ]
  },
  {
   "cell_type": "markdown",
   "id": "bcf80056",
   "metadata": {},
   "source": [
    "Tenía que limpiar el nombre de SouthWest Airlines ('WN') puesto que acumula mas retrasos en terminos absolutos.Sin embargo si miramos los porcentajes respecto al total de vuelos, está entre las 3 aerolineas que acumulan menos retrasos."
   ]
  },
  {
   "cell_type": "markdown",
   "id": "e967c83d",
   "metadata": {},
   "source": [
    "- **Quins són els vols més llargs? I els més endarrerits?**"
   ]
  },
  {
   "cell_type": "markdown",
   "id": "ad08d44b",
   "metadata": {},
   "source": [
    "En esta sección, tomaremos en cuenta la duración de los vuelos para identificar cuáles son los más largos."
   ]
  },
  {
   "cell_type": "code",
   "execution_count": 28,
   "id": "88c1d62c",
   "metadata": {
    "ExecuteTime": {
     "end_time": "2023-07-14T11:26:25.723767Z",
     "start_time": "2023-07-14T11:26:25.691660Z"
    }
   },
   "outputs": [
    {
     "name": "stdout",
     "output_type": "stream",
     "text": [
      " FlightNum  CRSElapsedTime\n",
      "        15           660.0\n",
      "      1561           604.0\n",
      "      1273           604.0\n",
      "       851           601.0\n",
      "        14           565.0\n"
     ]
    }
   ],
   "source": [
    "tabla_duracion = df_reducido.groupby('FlightNum')['CRSElapsedTime'].max().reset_index()\n",
    "tabla_duracion = tabla_duracion.sort_values('CRSElapsedTime', ascending=False).head(5)\n",
    "\n",
    "print(tabla_duracion.to_string(index=False))\n"
   ]
  },
  {
   "cell_type": "code",
   "execution_count": 29,
   "id": "f6d0792a",
   "metadata": {
    "ExecuteTime": {
     "end_time": "2023-07-14T11:26:26.550113Z",
     "start_time": "2023-07-14T11:26:26.524201Z"
    }
   },
   "outputs": [
    {
     "name": "stdout",
     "output_type": "stream",
     "text": [
      " FlightNum  Delayed\n",
      "        15      140\n",
      "        47      137\n",
      "        51      137\n",
      "        44      135\n",
      "        16      134\n"
     ]
    }
   ],
   "source": [
    "tabla_retrasos = df_reducido.groupby('FlightNum')['Delayed'].sum().reset_index()\n",
    "tabla_retrasos = tabla_retrasos.sort_values('Delayed', ascending=False).head(5)\n",
    "\n",
    "print(tabla_retrasos.to_string(index=False))\n"
   ]
  },
  {
   "cell_type": "markdown",
   "id": "880039c7",
   "metadata": {},
   "source": [
    "- **Busca les rutes més llargues i les que acumulen més retards.**"
   ]
  },
  {
   "cell_type": "markdown",
   "id": "09f2dd00",
   "metadata": {},
   "source": [
    "Sin embargo aquí hemos consideraremos la distancia de los vuelos. En la primera parte, hemos agregado una condición para evitar la repetición de la misma ruta en ambas direcciones, puesto que la distancia es la misma."
   ]
  },
  {
   "cell_type": "code",
   "execution_count": 30,
   "id": "65c5ba0c",
   "metadata": {
    "ExecuteTime": {
     "end_time": "2023-07-14T11:26:28.483686Z",
     "start_time": "2023-07-14T11:26:28.380961Z"
    }
   },
   "outputs": [
    {
     "name": "stdout",
     "output_type": "stream",
     "text": [
      "Origin Dest  Distance\n",
      "   EWR  HNL      4962\n",
      "   ATL  HNL      4502\n",
      "   HNL  ORD      4243\n",
      "   KOA  ORD      4213\n",
      "   HNL  MSP      3972\n"
     ]
    }
   ],
   "source": [
    "condicion = df_reducido['Origin'] < df_reducido['Dest']\n",
    "tabla_distancia = df_reducido[condicion].groupby(['Origin', 'Dest'])['Distance'].max().reset_index()\n",
    "tabla_distancia = tabla_distancia.sort_values('Distance', ascending=False).head(5)\n",
    "\n",
    "print(tabla_distancia.to_string(index=False))\n"
   ]
  },
  {
   "cell_type": "code",
   "execution_count": 31,
   "id": "7a7b1aa5",
   "metadata": {
    "ExecuteTime": {
     "end_time": "2023-07-14T11:26:29.380856Z",
     "start_time": "2023-07-14T11:26:29.317027Z"
    }
   },
   "outputs": [
    {
     "name": "stdout",
     "output_type": "stream",
     "text": [
      "Origin Dest  Distance\n",
      "   LAX  JFK    665775\n",
      "   JFK  LAX    564300\n",
      "   SFO  JFK    561162\n",
      "   ORD  LAX    556655\n",
      "   JFK  SFO    496512\n"
     ]
    }
   ],
   "source": [
    "tabla_retrasos = df_reducido.groupby(['Origin', 'Dest'])['Distance'].sum().reset_index()\n",
    "tabla_retrasos = tabla_retrasos.sort_values('Distance', ascending=False).head(5)\n",
    "\n",
    "print(tabla_retrasos.to_string(index=False))\n"
   ]
  },
  {
   "cell_type": "markdown",
   "id": "5b7fef3b",
   "metadata": {},
   "source": [
    "- **Aporta allò que consideris rellevant.**"
   ]
  },
  {
   "cell_type": "markdown",
   "id": "2a1d774b",
   "metadata": {
    "ExecuteTime": {
     "end_time": "2023-07-14T00:24:16.140243Z",
     "start_time": "2023-07-14T00:24:16.127282Z"
    }
   },
   "source": [
    "Llegados a este punto, sería interesante analizar qué aeropuertos presentan un mayor porcentaje de minutos de retraso acumulados en relación con el número de vuelos operados."
   ]
  },
  {
   "cell_type": "code",
   "execution_count": 32,
   "id": "9b5ea3c4",
   "metadata": {
    "ExecuteTime": {
     "end_time": "2023-07-14T11:26:31.469603Z",
     "start_time": "2023-07-14T11:26:31.324972Z"
    }
   },
   "outputs": [
    {
     "name": "stdout",
     "output_type": "stream",
     "text": [
      "Tabla con aeropuertos de origen con mas restrasos acumulados\n",
      "Origin   DepDelay\n",
      "   CMX 116.147059\n",
      "   PLN  93.761905\n",
      "   SPI  83.848739\n",
      "   ALO  82.225806\n",
      "   MQT  79.556650\n",
      "   ACY  79.310345\n",
      "   MOT  78.661654\n",
      "   HHH  76.530055\n",
      "   EGE  74.128920\n",
      "   BGM  73.155340\n"
     ]
    }
   ],
   "source": [
    "tabla_origen = df.groupby('Origin')['DepDelay'].mean().reset_index()\n",
    "tabla_origen_peores = tabla_origen.sort_values(tabla_origen.columns[1], ascending=False).head(10)\n",
    "print(\"Tabla con aeropuertos de origen con mas restrasos acumulados\")\n",
    "print(tabla_origen_peores.to_string(index=False))"
   ]
  },
  {
   "cell_type": "code",
   "execution_count": 33,
   "id": "667743b2",
   "metadata": {
    "ExecuteTime": {
     "end_time": "2023-07-14T11:26:32.253781Z",
     "start_time": "2023-07-14T11:26:32.235830Z"
    }
   },
   "outputs": [
    {
     "name": "stdout",
     "output_type": "stream",
     "text": [
      "Tabla con aeropuertos de origen con menos restrasos acumulados\n",
      "Origin  DepDelay\n",
      "   TUP 11.000000\n",
      "   YKM 22.472727\n",
      "   INL 23.000000\n",
      "   GST 25.075000\n",
      "   WYS 25.100000\n",
      "   PUB 27.000000\n",
      "   IPL 28.517007\n",
      "   OXR 29.268966\n",
      "   CLD 29.721271\n",
      "   ADK 30.509434\n"
     ]
    }
   ],
   "source": [
    "tabla_origen_mejores = tabla_origen.sort_values(tabla_origen.columns[1], ascending=True).head(10)\n",
    "print(\"Tabla con aeropuertos de origen con menos restrasos acumulados\")\n",
    "print(tabla_origen_mejores.to_string(index=False))"
   ]
  },
  {
   "cell_type": "code",
   "execution_count": 34,
   "id": "e96ac450",
   "metadata": {
    "ExecuteTime": {
     "end_time": "2023-07-14T11:26:33.044830Z",
     "start_time": "2023-07-14T11:26:32.907696Z"
    }
   },
   "outputs": [
    {
     "name": "stdout",
     "output_type": "stream",
     "text": [
      "Tabla con aeropuertos de destino con mas restrasos acumulados\n",
      "Dest  ArrDelay\n",
      " MQT 77.939252\n",
      " SPI 72.127877\n",
      " INL 66.777778\n",
      " TEX 66.266667\n",
      " ALO 65.944444\n",
      " MCN 65.674033\n",
      " CMX 63.530612\n",
      " ORD 60.028153\n",
      " EWR 59.877946\n",
      " ACK 59.167742\n"
     ]
    }
   ],
   "source": [
    "tabla_destino = df.groupby('Dest')['ArrDelay'].mean().reset_index()\n",
    "tabla_destino_peores = tabla_destino.sort_values(tabla_destino.columns[1], ascending=False).head(10)\n",
    "print(\"Tabla con aeropuertos de destino con mas restrasos acumulados\")\n",
    "print(tabla_destino_peores.to_string(index=False))"
   ]
  },
  {
   "cell_type": "code",
   "execution_count": 35,
   "id": "43d64081",
   "metadata": {
    "ExecuteTime": {
     "end_time": "2023-07-14T11:26:33.828396Z",
     "start_time": "2023-07-14T11:26:33.820436Z"
    },
    "code_folding": [],
    "scrolled": true
   },
   "outputs": [
    {
     "name": "stdout",
     "output_type": "stream",
     "text": [
      "Tabla con aeropuertos de destino con menos restrasos acumulados\n",
      "Dest  ArrDelay\n",
      " TUP  6.000000\n",
      " PIR 15.000000\n",
      " BJI 20.666667\n",
      " IYK 21.112903\n",
      " BLI 22.846154\n",
      " GST 23.326087\n",
      " WYS 23.741935\n",
      " HTS 23.848485\n",
      " IPL 24.828729\n",
      " YKM 26.744681\n"
     ]
    }
   ],
   "source": [
    "tabla_destino_mejores = tabla_destino.sort_values(tabla_destino.columns[1], ascending=True).head(10)\n",
    "print(\"Tabla con aeropuertos de destino con menos restrasos acumulados\")\n",
    "print(tabla_destino_mejores.to_string(index=False))"
   ]
  },
  {
   "cell_type": "markdown",
   "id": "5bb5b7e2",
   "metadata": {},
   "source": [
    "Ahora ya sabemos que aeropuertos evitar en el futuro y cuales son mas fiables. Para terminar haré una pequeña matriz de correlación para intentar de sacarle un poco mas de jugo a este dataframe."
   ]
  },
  {
   "cell_type": "code",
   "execution_count": 36,
   "id": "493c1c13",
   "metadata": {
    "ExecuteTime": {
     "end_time": "2023-07-14T11:26:35.403976Z",
     "start_time": "2023-07-14T11:26:35.332165Z"
    },
    "scrolled": true
   },
   "outputs": [
    {
     "data": {
      "text/html": [
       "<div>\n",
       "<style scoped>\n",
       "    .dataframe tbody tr th:only-of-type {\n",
       "        vertical-align: middle;\n",
       "    }\n",
       "\n",
       "    .dataframe tbody tr th {\n",
       "        vertical-align: top;\n",
       "    }\n",
       "\n",
       "    .dataframe thead th {\n",
       "        text-align: right;\n",
       "    }\n",
       "</style>\n",
       "<table border=\"1\" class=\"dataframe\">\n",
       "  <thead>\n",
       "    <tr style=\"text-align: right;\">\n",
       "      <th></th>\n",
       "      <th>DayOfWeek</th>\n",
       "      <th>Distance</th>\n",
       "      <th>AirTime</th>\n",
       "      <th>AvgSpeed</th>\n",
       "      <th>Delayed</th>\n",
       "    </tr>\n",
       "  </thead>\n",
       "  <tbody>\n",
       "    <tr>\n",
       "      <th>DayOfWeek</th>\n",
       "      <td>1.000000</td>\n",
       "      <td>0.007757</td>\n",
       "      <td>0.004794</td>\n",
       "      <td>0.013655</td>\n",
       "      <td>-0.002378</td>\n",
       "    </tr>\n",
       "    <tr>\n",
       "      <th>Distance</th>\n",
       "      <td>0.007757</td>\n",
       "      <td>1.000000</td>\n",
       "      <td>0.980491</td>\n",
       "      <td>0.655196</td>\n",
       "      <td>-0.130453</td>\n",
       "    </tr>\n",
       "    <tr>\n",
       "      <th>AirTime</th>\n",
       "      <td>0.004794</td>\n",
       "      <td>0.980491</td>\n",
       "      <td>1.000000</td>\n",
       "      <td>0.548011</td>\n",
       "      <td>-0.099054</td>\n",
       "    </tr>\n",
       "    <tr>\n",
       "      <th>AvgSpeed</th>\n",
       "      <td>0.013655</td>\n",
       "      <td>0.655196</td>\n",
       "      <td>0.548011</td>\n",
       "      <td>1.000000</td>\n",
       "      <td>-0.179221</td>\n",
       "    </tr>\n",
       "    <tr>\n",
       "      <th>Delayed</th>\n",
       "      <td>-0.002378</td>\n",
       "      <td>-0.130453</td>\n",
       "      <td>-0.099054</td>\n",
       "      <td>-0.179221</td>\n",
       "      <td>1.000000</td>\n",
       "    </tr>\n",
       "  </tbody>\n",
       "</table>\n",
       "</div>"
      ],
      "text/plain": [
       "           DayOfWeek  Distance   AirTime  AvgSpeed   Delayed\n",
       "DayOfWeek   1.000000  0.007757  0.004794  0.013655 -0.002378\n",
       "Distance    0.007757  1.000000  0.980491  0.655196 -0.130453\n",
       "AirTime     0.004794  0.980491  1.000000  0.548011 -0.099054\n",
       "AvgSpeed    0.013655  0.655196  0.548011  1.000000 -0.179221\n",
       "Delayed    -0.002378 -0.130453 -0.099054 -0.179221  1.000000"
      ]
     },
     "execution_count": 36,
     "metadata": {},
     "output_type": "execute_result"
    }
   ],
   "source": [
    "df_reducido[['DayOfWeek', 'Distance', 'AirTime', 'AvgSpeed', 'Delayed']].corr()"
   ]
  },
  {
   "cell_type": "markdown",
   "id": "80938674",
   "metadata": {},
   "source": [
    "Como era de esperar, la distancia y el tiempo en el aire están estrechamente relacionados. Sin embargo, la velocidad media de los vuelos no muestra una gran correlación con la duración del vuelo, lo que indica que los aviones siguen estándares de velocidad y que la distancia parece tener un peso mayor. Esto probablemente se debe a que, para vuelos más largos, se utilizan aviones más grandes con mayor potencia, lo que les permite volar un poco más rápido.\n",
    "\n",
    "Si queremos buscar las razones de los retrasos, tendremos que analizar más detalladamente. La tabla muestra que prácticamente no existe correlación con la distancia, el tiempo en el aire ni siquiera con la velocidad media, aunque esta última es ligeramente superior, lo que indica que hay un pequeño margen en el que, si el avión puede volar más rápido, puede evitar retrasos. Es importante destacar que los valores negativos indican una relación inversa, es decir, cuanto mayor sea la velocidad media, menor será el retraso.\n",
    "\n",
    "En cuanto al día de la semana, obviamente no muestra correlación con ninguna de las variables, ni siquiera con los retrasos, a pesar de la creencia de que los fines de semana acumulan más retrasos."
   ]
  },
  {
   "cell_type": "markdown",
   "id": "175bdccb",
   "metadata": {},
   "source": [
    "## Exercici 3\n",
    "**Exporta el dataset net i amb les noves columnes a Excel.**"
   ]
  },
  {
   "cell_type": "code",
   "execution_count": 37,
   "id": "cd89a78d",
   "metadata": {
    "ExecuteTime": {
     "end_time": "2023-07-14T11:28:48.892730Z",
     "start_time": "2023-07-14T11:26:39.683861Z"
    }
   },
   "outputs": [],
   "source": [
    "df_reducido.to_excel('Vuelos_2008.xlsx')"
   ]
  }
 ],
 "metadata": {
  "hide_input": false,
  "kernelspec": {
   "display_name": "Python 3 (ipykernel)",
   "language": "python",
   "name": "python3"
  },
  "language_info": {
   "codemirror_mode": {
    "name": "ipython",
    "version": 3
   },
   "file_extension": ".py",
   "mimetype": "text/x-python",
   "name": "python",
   "nbconvert_exporter": "python",
   "pygments_lexer": "ipython3",
   "version": "3.9.16"
  },
  "nbTranslate": {
   "displayLangs": [
    "*"
   ],
   "hotkey": "alt-t",
   "langInMainMenu": true,
   "sourceLang": "en",
   "targetLang": "fr",
   "useGoogleTranslate": true
  },
  "toc": {
   "base_numbering": 1,
   "nav_menu": {},
   "number_sections": true,
   "sideBar": true,
   "skip_h1_title": false,
   "title_cell": "Table of Contents",
   "title_sidebar": "Contents",
   "toc_cell": false,
   "toc_position": {},
   "toc_section_display": true,
   "toc_window_display": false
  },
  "varInspector": {
   "cols": {
    "lenName": 16,
    "lenType": 16,
    "lenVar": 40
   },
   "kernels_config": {
    "python": {
     "delete_cmd_postfix": "",
     "delete_cmd_prefix": "del ",
     "library": "var_list.py",
     "varRefreshCmd": "print(var_dic_list())"
    },
    "r": {
     "delete_cmd_postfix": ") ",
     "delete_cmd_prefix": "rm(",
     "library": "var_list.r",
     "varRefreshCmd": "cat(var_dic_list()) "
    }
   },
   "types_to_exclude": [
    "module",
    "function",
    "builtin_function_or_method",
    "instance",
    "_Feature"
   ],
   "window_display": false
  }
 },
 "nbformat": 4,
 "nbformat_minor": 5
}
