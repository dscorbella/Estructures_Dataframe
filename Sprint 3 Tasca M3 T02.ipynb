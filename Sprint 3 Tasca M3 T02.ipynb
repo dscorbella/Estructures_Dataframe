{
 "cells": [
  {
   "cell_type": "markdown",
   "id": "e8e639a3",
   "metadata": {},
   "source": [
    "# Sprint 3 Tasca M3 T02\n",
    "## Exercici 1\n",
    "**Descarrega el data set Airlines Delay: Airline on-time statistics and delay causes i carrega’l a un Pandas Dataframe. Explora les dades que conté, explica breument quines variables hi ha i queda’t únicament amb les columnes que consideris rellevants. Justifica la teva elecció.**"
   ]
  },
  {
   "cell_type": "code",
   "execution_count": 1,
   "id": "7373fab1",
   "metadata": {
    "ExecuteTime": {
     "end_time": "2023-07-24T22:12:18.126194Z",
     "start_time": "2023-07-24T22:12:17.572744Z"
    }
   },
   "outputs": [],
   "source": [
    "import pandas as pd"
   ]
  },
  {
   "cell_type": "code",
   "execution_count": 2,
   "id": "15ebffb6",
   "metadata": {
    "ExecuteTime": {
     "end_time": "2023-07-24T22:12:23.937771Z",
     "start_time": "2023-07-24T22:12:18.844957Z"
    }
   },
   "outputs": [],
   "source": [
    "df = pd.read_csv('data/DelayedFlights.csv', encoding='utf-8')\n",
    "pd.set_option('display.max_columns', None)\n",
    "pd.set_option('display.expand_frame_repr', False)"
   ]
  },
  {
   "cell_type": "code",
   "execution_count": 3,
   "id": "c3ee4879",
   "metadata": {
    "ExecuteTime": {
     "end_time": "2023-07-24T22:12:25.180976Z",
     "start_time": "2023-07-24T22:12:25.137094Z"
    }
   },
   "outputs": [
    {
     "data": {
      "text/html": [
       "<div>\n",
       "<style scoped>\n",
       "    .dataframe tbody tr th:only-of-type {\n",
       "        vertical-align: middle;\n",
       "    }\n",
       "\n",
       "    .dataframe tbody tr th {\n",
       "        vertical-align: top;\n",
       "    }\n",
       "\n",
       "    .dataframe thead th {\n",
       "        text-align: right;\n",
       "    }\n",
       "</style>\n",
       "<table border=\"1\" class=\"dataframe\">\n",
       "  <thead>\n",
       "    <tr style=\"text-align: right;\">\n",
       "      <th></th>\n",
       "      <th>Unnamed: 0</th>\n",
       "      <th>Year</th>\n",
       "      <th>Month</th>\n",
       "      <th>DayofMonth</th>\n",
       "      <th>DayOfWeek</th>\n",
       "      <th>DepTime</th>\n",
       "      <th>CRSDepTime</th>\n",
       "      <th>ArrTime</th>\n",
       "      <th>CRSArrTime</th>\n",
       "      <th>UniqueCarrier</th>\n",
       "      <th>FlightNum</th>\n",
       "      <th>TailNum</th>\n",
       "      <th>ActualElapsedTime</th>\n",
       "      <th>CRSElapsedTime</th>\n",
       "      <th>AirTime</th>\n",
       "      <th>ArrDelay</th>\n",
       "      <th>DepDelay</th>\n",
       "      <th>Origin</th>\n",
       "      <th>Dest</th>\n",
       "      <th>Distance</th>\n",
       "      <th>TaxiIn</th>\n",
       "      <th>TaxiOut</th>\n",
       "      <th>Cancelled</th>\n",
       "      <th>CancellationCode</th>\n",
       "      <th>Diverted</th>\n",
       "      <th>CarrierDelay</th>\n",
       "      <th>WeatherDelay</th>\n",
       "      <th>NASDelay</th>\n",
       "      <th>SecurityDelay</th>\n",
       "      <th>LateAircraftDelay</th>\n",
       "    </tr>\n",
       "  </thead>\n",
       "  <tbody>\n",
       "    <tr>\n",
       "      <th>0</th>\n",
       "      <td>0</td>\n",
       "      <td>2008</td>\n",
       "      <td>1</td>\n",
       "      <td>3</td>\n",
       "      <td>4</td>\n",
       "      <td>2003.0</td>\n",
       "      <td>1955</td>\n",
       "      <td>2211.0</td>\n",
       "      <td>2225</td>\n",
       "      <td>WN</td>\n",
       "      <td>335</td>\n",
       "      <td>N712SW</td>\n",
       "      <td>128.0</td>\n",
       "      <td>150.0</td>\n",
       "      <td>116.0</td>\n",
       "      <td>-14.0</td>\n",
       "      <td>8.0</td>\n",
       "      <td>IAD</td>\n",
       "      <td>TPA</td>\n",
       "      <td>810</td>\n",
       "      <td>4.0</td>\n",
       "      <td>8.0</td>\n",
       "      <td>0</td>\n",
       "      <td>N</td>\n",
       "      <td>0</td>\n",
       "      <td>NaN</td>\n",
       "      <td>NaN</td>\n",
       "      <td>NaN</td>\n",
       "      <td>NaN</td>\n",
       "      <td>NaN</td>\n",
       "    </tr>\n",
       "    <tr>\n",
       "      <th>1</th>\n",
       "      <td>1</td>\n",
       "      <td>2008</td>\n",
       "      <td>1</td>\n",
       "      <td>3</td>\n",
       "      <td>4</td>\n",
       "      <td>754.0</td>\n",
       "      <td>735</td>\n",
       "      <td>1002.0</td>\n",
       "      <td>1000</td>\n",
       "      <td>WN</td>\n",
       "      <td>3231</td>\n",
       "      <td>N772SW</td>\n",
       "      <td>128.0</td>\n",
       "      <td>145.0</td>\n",
       "      <td>113.0</td>\n",
       "      <td>2.0</td>\n",
       "      <td>19.0</td>\n",
       "      <td>IAD</td>\n",
       "      <td>TPA</td>\n",
       "      <td>810</td>\n",
       "      <td>5.0</td>\n",
       "      <td>10.0</td>\n",
       "      <td>0</td>\n",
       "      <td>N</td>\n",
       "      <td>0</td>\n",
       "      <td>NaN</td>\n",
       "      <td>NaN</td>\n",
       "      <td>NaN</td>\n",
       "      <td>NaN</td>\n",
       "      <td>NaN</td>\n",
       "    </tr>\n",
       "    <tr>\n",
       "      <th>2</th>\n",
       "      <td>2</td>\n",
       "      <td>2008</td>\n",
       "      <td>1</td>\n",
       "      <td>3</td>\n",
       "      <td>4</td>\n",
       "      <td>628.0</td>\n",
       "      <td>620</td>\n",
       "      <td>804.0</td>\n",
       "      <td>750</td>\n",
       "      <td>WN</td>\n",
       "      <td>448</td>\n",
       "      <td>N428WN</td>\n",
       "      <td>96.0</td>\n",
       "      <td>90.0</td>\n",
       "      <td>76.0</td>\n",
       "      <td>14.0</td>\n",
       "      <td>8.0</td>\n",
       "      <td>IND</td>\n",
       "      <td>BWI</td>\n",
       "      <td>515</td>\n",
       "      <td>3.0</td>\n",
       "      <td>17.0</td>\n",
       "      <td>0</td>\n",
       "      <td>N</td>\n",
       "      <td>0</td>\n",
       "      <td>NaN</td>\n",
       "      <td>NaN</td>\n",
       "      <td>NaN</td>\n",
       "      <td>NaN</td>\n",
       "      <td>NaN</td>\n",
       "    </tr>\n",
       "    <tr>\n",
       "      <th>3</th>\n",
       "      <td>4</td>\n",
       "      <td>2008</td>\n",
       "      <td>1</td>\n",
       "      <td>3</td>\n",
       "      <td>4</td>\n",
       "      <td>1829.0</td>\n",
       "      <td>1755</td>\n",
       "      <td>1959.0</td>\n",
       "      <td>1925</td>\n",
       "      <td>WN</td>\n",
       "      <td>3920</td>\n",
       "      <td>N464WN</td>\n",
       "      <td>90.0</td>\n",
       "      <td>90.0</td>\n",
       "      <td>77.0</td>\n",
       "      <td>34.0</td>\n",
       "      <td>34.0</td>\n",
       "      <td>IND</td>\n",
       "      <td>BWI</td>\n",
       "      <td>515</td>\n",
       "      <td>3.0</td>\n",
       "      <td>10.0</td>\n",
       "      <td>0</td>\n",
       "      <td>N</td>\n",
       "      <td>0</td>\n",
       "      <td>2.0</td>\n",
       "      <td>0.0</td>\n",
       "      <td>0.0</td>\n",
       "      <td>0.0</td>\n",
       "      <td>32.0</td>\n",
       "    </tr>\n",
       "    <tr>\n",
       "      <th>4</th>\n",
       "      <td>5</td>\n",
       "      <td>2008</td>\n",
       "      <td>1</td>\n",
       "      <td>3</td>\n",
       "      <td>4</td>\n",
       "      <td>1940.0</td>\n",
       "      <td>1915</td>\n",
       "      <td>2121.0</td>\n",
       "      <td>2110</td>\n",
       "      <td>WN</td>\n",
       "      <td>378</td>\n",
       "      <td>N726SW</td>\n",
       "      <td>101.0</td>\n",
       "      <td>115.0</td>\n",
       "      <td>87.0</td>\n",
       "      <td>11.0</td>\n",
       "      <td>25.0</td>\n",
       "      <td>IND</td>\n",
       "      <td>JAX</td>\n",
       "      <td>688</td>\n",
       "      <td>4.0</td>\n",
       "      <td>10.0</td>\n",
       "      <td>0</td>\n",
       "      <td>N</td>\n",
       "      <td>0</td>\n",
       "      <td>NaN</td>\n",
       "      <td>NaN</td>\n",
       "      <td>NaN</td>\n",
       "      <td>NaN</td>\n",
       "      <td>NaN</td>\n",
       "    </tr>\n",
       "  </tbody>\n",
       "</table>\n",
       "</div>"
      ],
      "text/plain": [
       "   Unnamed: 0  Year  Month  DayofMonth  DayOfWeek  DepTime  CRSDepTime  ArrTime  CRSArrTime UniqueCarrier  FlightNum TailNum  ActualElapsedTime  CRSElapsedTime  AirTime  ArrDelay  DepDelay Origin Dest  Distance  TaxiIn  TaxiOut  Cancelled CancellationCode  Diverted  CarrierDelay  WeatherDelay  NASDelay  SecurityDelay  LateAircraftDelay\n",
       "0           0  2008      1           3          4   2003.0        1955   2211.0        2225            WN        335  N712SW              128.0           150.0    116.0     -14.0       8.0    IAD  TPA       810     4.0      8.0          0                N         0           NaN           NaN       NaN            NaN                NaN\n",
       "1           1  2008      1           3          4    754.0         735   1002.0        1000            WN       3231  N772SW              128.0           145.0    113.0       2.0      19.0    IAD  TPA       810     5.0     10.0          0                N         0           NaN           NaN       NaN            NaN                NaN\n",
       "2           2  2008      1           3          4    628.0         620    804.0         750            WN        448  N428WN               96.0            90.0     76.0      14.0       8.0    IND  BWI       515     3.0     17.0          0                N         0           NaN           NaN       NaN            NaN                NaN\n",
       "3           4  2008      1           3          4   1829.0        1755   1959.0        1925            WN       3920  N464WN               90.0            90.0     77.0      34.0      34.0    IND  BWI       515     3.0     10.0          0                N         0           2.0           0.0       0.0            0.0               32.0\n",
       "4           5  2008      1           3          4   1940.0        1915   2121.0        2110            WN        378  N726SW              101.0           115.0     87.0      11.0      25.0    IND  JAX       688     4.0     10.0          0                N         0           NaN           NaN       NaN            NaN                NaN"
      ]
     },
     "execution_count": 3,
     "metadata": {},
     "output_type": "execute_result"
    }
   ],
   "source": [
    "df.head()"
   ]
  },
  {
   "cell_type": "code",
   "execution_count": 4,
   "id": "a2700f39",
   "metadata": {
    "ExecuteTime": {
     "end_time": "2023-07-24T22:12:27.004934Z",
     "start_time": "2023-07-24T22:12:26.980998Z"
    }
   },
   "outputs": [
    {
     "name": "stdout",
     "output_type": "stream",
     "text": [
      "<class 'pandas.core.frame.DataFrame'>\n",
      "RangeIndex: 1936758 entries, 0 to 1936757\n",
      "Data columns (total 30 columns):\n",
      " #   Column             Dtype  \n",
      "---  ------             -----  \n",
      " 0   Unnamed: 0         int64  \n",
      " 1   Year               int64  \n",
      " 2   Month              int64  \n",
      " 3   DayofMonth         int64  \n",
      " 4   DayOfWeek          int64  \n",
      " 5   DepTime            float64\n",
      " 6   CRSDepTime         int64  \n",
      " 7   ArrTime            float64\n",
      " 8   CRSArrTime         int64  \n",
      " 9   UniqueCarrier      object \n",
      " 10  FlightNum          int64  \n",
      " 11  TailNum            object \n",
      " 12  ActualElapsedTime  float64\n",
      " 13  CRSElapsedTime     float64\n",
      " 14  AirTime            float64\n",
      " 15  ArrDelay           float64\n",
      " 16  DepDelay           float64\n",
      " 17  Origin             object \n",
      " 18  Dest               object \n",
      " 19  Distance           int64  \n",
      " 20  TaxiIn             float64\n",
      " 21  TaxiOut            float64\n",
      " 22  Cancelled          int64  \n",
      " 23  CancellationCode   object \n",
      " 24  Diverted           int64  \n",
      " 25  CarrierDelay       float64\n",
      " 26  WeatherDelay       float64\n",
      " 27  NASDelay           float64\n",
      " 28  SecurityDelay      float64\n",
      " 29  LateAircraftDelay  float64\n",
      "dtypes: float64(14), int64(11), object(5)\n",
      "memory usage: 443.3+ MB\n"
     ]
    }
   ],
   "source": [
    "df.info()"
   ]
  },
  {
   "cell_type": "markdown",
   "id": "e033054f",
   "metadata": {},
   "source": [
    "**Unnamed: 0**: Una columna con un índice numérico de los registros.\n",
    "\n",
    "**Year**: El año de la fecha del vuelo.\n",
    "\n",
    "**Month**: El mes de la fecha del vuelo.\n",
    "\n",
    "**DayofMonth**: El día del mes de la fecha del vuelo.\n",
    "\n",
    "**DayOfWeek**: El día de la semana de la fecha del vuelo, donde 1 es lunes y 7 es domingo.\n",
    "\n",
    "**DepTime**: La hora de salida real del vuelo.\n",
    "\n",
    "**CRSDepTime**: La hora de salida programada del vuelo.\n",
    "\n",
    "**ArrTime**: La hora de llegada real del vuelo.\n",
    "\n",
    "**CRSArrTime**: La hora de llegada programada del vuelo.\n",
    "\n",
    "**UniqueCarrier**: El código de identificación único de la aerolínea.\n",
    "\n",
    "**FlightNum**: El número de vuelo.\n",
    "\n",
    "**TailNum**: El número de cola de la aeronave.\n",
    "\n",
    "**ActualElapsedTime**: Duración real del vuelo en minutos.\n",
    "\n",
    "**CRSElapsedTime**: Duración del vuelo programado en minutos.\n",
    "\n",
    "**AirTime**: El tiempo de vuelo en el aire en minutos.\n",
    "\n",
    "**ArrDelay**: El retraso en la llegada en minutos. Un vuelo se cuenta como \"a tiempo\" si operó menos de 15 minutos después de la hora programada que se muestra en CRSElapsedTime.\n",
    "\n",
    "**DepDelay**: El retraso en la salida en minutos.\n",
    "\n",
    "**Origin**: El aeropuerto de origen del vuelo.\n",
    "\n",
    "**Dest**: El aeropuerto de destino del vuelo.\n",
    "\n",
    "**Distance**: La distancia del vuelo en millas.\n",
    "\n",
    "**TaxiIn**: El tiempo de rodaje en la llegada en minutos.\n",
    "\n",
    "**TaxiOut**: El tiempo de rodaje en la salida en minutos.\n",
    "\n",
    "**Cancelled**: Indica si el vuelo fue cancelado (1) o no (0).\n",
    "\n",
    "**CancellationCode**: El código de cancelación si el vuelo fue cancelado.\n",
    "\n",
    "**Diverted**: Indica si el vuelo fue desviado a otro aeropuerto (1) o no (0).\n",
    "\n",
    "**CarrierDelay**: El tiempo de retraso debido a la aerolínea en minutos.\n",
    "\n",
    "**WeatherDelay**: El tiempo de retraso debido al clima en minutos.\n",
    "\n",
    "**NASDelay**: El tiempo de retraso debido al Sistema Nacional de Aviación en minutos.\n",
    "\n",
    "**SecurityDelay**: El tiempo de retraso debido a problemas de seguridad en minutos.\n",
    "\n",
    "**LateAircraftDelay**: El tiempo de retraso debido a problemas con el avión en minutos."
   ]
  },
  {
   "cell_type": "markdown",
   "id": "a8da561c",
   "metadata": {},
   "source": [
    "Inicialmente, considero todas las columnas relevantes. Probablemente no las mantendría todas en un solo dataframe, pero en principio encuentro que todas son interesantes para su uso, ya que podemos obtener datos importantes de cada una. La única excepción a primera vista sería la columna 'Unnamed: 0', ya que un índice no será útil para el análisis. Antes de continuar, verifiquemos la presencia de valores nulos para identificar posibles columnas repletas de registros corruptos o inexistentes."
   ]
  },
  {
   "cell_type": "code",
   "execution_count": 5,
   "id": "14472708",
   "metadata": {
    "ExecuteTime": {
     "end_time": "2023-07-24T22:12:33.476740Z",
     "start_time": "2023-07-24T22:12:32.197463Z"
    }
   },
   "outputs": [
    {
     "data": {
      "text/plain": [
       "Unnamed: 0                0\n",
       "Year                      0\n",
       "Month                     0\n",
       "DayofMonth                0\n",
       "DayOfWeek                 0\n",
       "DepTime                   0\n",
       "CRSDepTime                0\n",
       "ArrTime                7110\n",
       "CRSArrTime                0\n",
       "UniqueCarrier             0\n",
       "FlightNum                 0\n",
       "TailNum                   5\n",
       "ActualElapsedTime      8387\n",
       "CRSElapsedTime          198\n",
       "AirTime                8387\n",
       "ArrDelay               8387\n",
       "DepDelay                  0\n",
       "Origin                    0\n",
       "Dest                      0\n",
       "Distance                  0\n",
       "TaxiIn                 7110\n",
       "TaxiOut                 455\n",
       "Cancelled                 0\n",
       "CancellationCode          0\n",
       "Diverted                  0\n",
       "CarrierDelay         689270\n",
       "WeatherDelay         689270\n",
       "NASDelay             689270\n",
       "SecurityDelay        689270\n",
       "LateAircraftDelay    689270\n",
       "dtype: int64"
      ]
     },
     "execution_count": 5,
     "metadata": {},
     "output_type": "execute_result"
    }
   ],
   "source": [
    "df.isnull().sum()"
   ]
  },
  {
   "cell_type": "markdown",
   "id": "82c23dd9",
   "metadata": {},
   "source": [
    "Tras analizar los resultados, realizaremos un breve estudio para encontrar una explicación a las últimas 5 columnas, ya que aproximadamente uno de cada tres registros contiene un valor nulo. El resumen del dataset ya nos avisa que retrasos inferiores a los 15 minutos no son considerados retrasos, si a eso le añadimos los vuelos cancelados y los desviados podría ser la explicación a la aparición de estos valores nulos. Comprobemos esta hipótesis."
   ]
  },
  {
   "cell_type": "code",
   "execution_count": 6,
   "id": "4e73d362",
   "metadata": {
    "ExecuteTime": {
     "end_time": "2023-07-24T22:12:36.280471Z",
     "start_time": "2023-07-24T22:12:36.110094Z"
    }
   },
   "outputs": [
    {
     "data": {
      "text/plain": [
       "680883"
      ]
     },
     "execution_count": 6,
     "metadata": {},
     "output_type": "execute_result"
    }
   ],
   "source": [
    "df[df['ArrDelay'] < 15].shape[0]"
   ]
  },
  {
   "cell_type": "code",
   "execution_count": 7,
   "id": "35c83c74",
   "metadata": {
    "ExecuteTime": {
     "end_time": "2023-07-24T22:12:37.527397Z",
     "start_time": "2023-07-24T22:12:37.500469Z"
    }
   },
   "outputs": [
    {
     "data": {
      "text/plain": [
       "0    1936125\n",
       "1        633\n",
       "Name: Cancelled, dtype: int64"
      ]
     },
     "execution_count": 7,
     "metadata": {},
     "output_type": "execute_result"
    }
   ],
   "source": [
    "df.Cancelled.value_counts()"
   ]
  },
  {
   "cell_type": "code",
   "execution_count": 8,
   "id": "2d6f36aa",
   "metadata": {
    "ExecuteTime": {
     "end_time": "2023-07-24T22:12:38.653648Z",
     "start_time": "2023-07-24T22:12:38.628715Z"
    }
   },
   "outputs": [
    {
     "data": {
      "text/plain": [
       "0    1929004\n",
       "1       7754\n",
       "Name: Diverted, dtype: int64"
      ]
     },
     "execution_count": 8,
     "metadata": {},
     "output_type": "execute_result"
    }
   ],
   "source": [
    "df.Diverted.value_counts()"
   ]
  },
  {
   "cell_type": "markdown",
   "id": "f953ccea",
   "metadata": {},
   "source": [
    "Efectivamente la suma de vuelos cancelados, desviados y con demoras inferiores a 15 minutos son los 689270 registros sin valores. De manera que procedemos a cambir esos valores nulos por 0."
   ]
  },
  {
   "cell_type": "code",
   "execution_count": 9,
   "id": "b7fff153",
   "metadata": {
    "ExecuteTime": {
     "end_time": "2023-07-24T22:12:41.866356Z",
     "start_time": "2023-07-24T22:12:41.477103Z"
    }
   },
   "outputs": [],
   "source": [
    "df[['CarrierDelay','WeatherDelay', 'NASDelay', 'SecurityDelay', 'LateAircraftDelay']] = df[['CarrierDelay', 'WeatherDelay', 'NASDelay', 'SecurityDelay', 'LateAircraftDelay']].fillna(0)"
   ]
  },
  {
   "cell_type": "code",
   "execution_count": 10,
   "id": "7622eaa4",
   "metadata": {
    "ExecuteTime": {
     "end_time": "2023-07-24T22:12:44.462569Z",
     "start_time": "2023-07-24T22:12:43.068557Z"
    }
   },
   "outputs": [
    {
     "data": {
      "text/plain": [
       "Unnamed: 0              0\n",
       "Year                    0\n",
       "Month                   0\n",
       "DayofMonth              0\n",
       "DayOfWeek               0\n",
       "DepTime                 0\n",
       "CRSDepTime              0\n",
       "ArrTime              7110\n",
       "CRSArrTime              0\n",
       "UniqueCarrier           0\n",
       "FlightNum               0\n",
       "TailNum                 5\n",
       "ActualElapsedTime    8387\n",
       "CRSElapsedTime        198\n",
       "AirTime              8387\n",
       "ArrDelay             8387\n",
       "DepDelay                0\n",
       "Origin                  0\n",
       "Dest                    0\n",
       "Distance                0\n",
       "TaxiIn               7110\n",
       "TaxiOut               455\n",
       "Cancelled               0\n",
       "CancellationCode        0\n",
       "Diverted                0\n",
       "CarrierDelay            0\n",
       "WeatherDelay            0\n",
       "NASDelay                0\n",
       "SecurityDelay           0\n",
       "LateAircraftDelay       0\n",
       "dtype: int64"
      ]
     },
     "execution_count": 10,
     "metadata": {},
     "output_type": "execute_result"
    }
   ],
   "source": [
    "df.isnull().sum()"
   ]
  },
  {
   "cell_type": "markdown",
   "id": "fc362a25",
   "metadata": {},
   "source": [
    "Tras llegar a este punto, decido realizar un filtrado del dataset, seleccionando únicamente los vuelos que no han sido cancelados ni desviados, ya que representan una minoría y merecen un análisis independiente. Al hacerlo, buscamos reducir cualquier interferencia que puedan causar en el estudio de los retrasos de los vuelos restantes."
   ]
  },
  {
   "cell_type": "code",
   "execution_count": 11,
   "id": "563e0382",
   "metadata": {
    "ExecuteTime": {
     "end_time": "2023-07-24T22:12:55.838906Z",
     "start_time": "2023-07-24T22:12:55.820931Z"
    },
    "run_control": {
     "marked": true
    }
   },
   "outputs": [
    {
     "name": "stdout",
     "output_type": "stream",
     "text": [
      "Cancelled: 0.03%\n",
      "Diverted: 0.40%\n"
     ]
    }
   ],
   "source": [
    "print(\"Cancelled: {:.2f}%\".format((df['Cancelled'] == 1).mean() * 100))\n",
    "print(\"Diverted: {:.2f}%\".format((df['Diverted'] == 1).mean() * 100))"
   ]
  },
  {
   "cell_type": "code",
   "execution_count": 12,
   "id": "8cc5277b",
   "metadata": {
    "ExecuteTime": {
     "end_time": "2023-07-24T22:12:58.614761Z",
     "start_time": "2023-07-24T22:12:58.221109Z"
    }
   },
   "outputs": [],
   "source": [
    "df_filtrado = df[(df['Cancelled'] == False) & (df['Diverted'] == False)]"
   ]
  },
  {
   "cell_type": "markdown",
   "id": "866bad89",
   "metadata": {},
   "source": [
    "Volvemos a comprobar la presencia de valores nulos dentro del  nuevo dataframe."
   ]
  },
  {
   "cell_type": "code",
   "execution_count": 13,
   "id": "b325dfb2",
   "metadata": {
    "ExecuteTime": {
     "end_time": "2023-07-24T22:13:02.607605Z",
     "start_time": "2023-07-24T22:13:01.365669Z"
    }
   },
   "outputs": [
    {
     "data": {
      "text/plain": [
       "Unnamed: 0           0\n",
       "Year                 0\n",
       "Month                0\n",
       "DayofMonth           0\n",
       "DayOfWeek            0\n",
       "DepTime              0\n",
       "CRSDepTime           0\n",
       "ArrTime              0\n",
       "CRSArrTime           0\n",
       "UniqueCarrier        0\n",
       "FlightNum            0\n",
       "TailNum              3\n",
       "ActualElapsedTime    0\n",
       "CRSElapsedTime       0\n",
       "AirTime              0\n",
       "ArrDelay             0\n",
       "DepDelay             0\n",
       "Origin               0\n",
       "Dest                 0\n",
       "Distance             0\n",
       "TaxiIn               0\n",
       "TaxiOut              0\n",
       "Cancelled            0\n",
       "CancellationCode     0\n",
       "Diverted             0\n",
       "CarrierDelay         0\n",
       "WeatherDelay         0\n",
       "NASDelay             0\n",
       "SecurityDelay        0\n",
       "LateAircraftDelay    0\n",
       "dtype: int64"
      ]
     },
     "execution_count": 13,
     "metadata": {},
     "output_type": "execute_result"
    }
   ],
   "source": [
    "df_filtrado.isnull().sum()"
   ]
  },
  {
   "cell_type": "markdown",
   "id": "db45685b",
   "metadata": {},
   "source": [
    "Una vez aquí solo nos quedan 3 valores nulos en la columna 'NailNum''. La verdad es que pensé que podía corresponder a un vuelo regular de línea y poner el número de cola del avión más utilizado, pero no es el caso :(\n",
    "A continuación, procederemos a eliminar las columnas: 'Unnamed: 0', 'Cancelled', 'CancellationCode' y 'Diverted', ya que no las necesitaremos."
   ]
  },
  {
   "cell_type": "code",
   "execution_count": 14,
   "id": "b88839eb",
   "metadata": {
    "ExecuteTime": {
     "end_time": "2023-07-24T22:13:05.106593Z",
     "start_time": "2023-07-24T22:13:04.860964Z"
    }
   },
   "outputs": [],
   "source": [
    "df_filtrado = df_filtrado.drop(columns=['Unnamed: 0', 'Cancelled', 'CancellationCode', 'Diverted'])"
   ]
  },
  {
   "cell_type": "markdown",
   "id": "55eca4ed",
   "metadata": {},
   "source": [
    "Ahora es tiempo de mirar si existen duplicados y eliminarlos si los hubiera.\n"
   ]
  },
  {
   "cell_type": "code",
   "execution_count": 15,
   "id": "ab5d98fa",
   "metadata": {
    "ExecuteTime": {
     "end_time": "2023-07-24T22:13:11.038361Z",
     "start_time": "2023-07-24T22:13:08.052573Z"
    }
   },
   "outputs": [
    {
     "name": "stdout",
     "output_type": "stream",
     "text": [
      "2\n"
     ]
    }
   ],
   "source": [
    "print( df_filtrado.duplicated().sum())"
   ]
  },
  {
   "cell_type": "code",
   "execution_count": 16,
   "id": "4aee76f8",
   "metadata": {
    "ExecuteTime": {
     "end_time": "2023-07-24T22:13:14.949748Z",
     "start_time": "2023-07-24T22:13:11.652907Z"
    }
   },
   "outputs": [],
   "source": [
    "df_filtrado = df_filtrado.drop_duplicates()"
   ]
  },
  {
   "cell_type": "markdown",
   "id": "e7f23ca0",
   "metadata": {},
   "source": [
    "Acabado el preprocesado de datos, a continuación reduciremos el dataset a 200000 registros de manera aleatoria."
   ]
  },
  {
   "cell_type": "code",
   "execution_count": 17,
   "id": "11aa7dde",
   "metadata": {
    "ExecuteTime": {
     "end_time": "2023-07-24T22:13:17.287939Z",
     "start_time": "2023-07-24T22:13:17.031383Z"
    }
   },
   "outputs": [
    {
     "data": {
      "text/html": [
       "<div>\n",
       "<style scoped>\n",
       "    .dataframe tbody tr th:only-of-type {\n",
       "        vertical-align: middle;\n",
       "    }\n",
       "\n",
       "    .dataframe tbody tr th {\n",
       "        vertical-align: top;\n",
       "    }\n",
       "\n",
       "    .dataframe thead th {\n",
       "        text-align: right;\n",
       "    }\n",
       "</style>\n",
       "<table border=\"1\" class=\"dataframe\">\n",
       "  <thead>\n",
       "    <tr style=\"text-align: right;\">\n",
       "      <th></th>\n",
       "      <th>Year</th>\n",
       "      <th>Month</th>\n",
       "      <th>DayofMonth</th>\n",
       "      <th>DayOfWeek</th>\n",
       "      <th>DepTime</th>\n",
       "      <th>CRSDepTime</th>\n",
       "      <th>ArrTime</th>\n",
       "      <th>CRSArrTime</th>\n",
       "      <th>UniqueCarrier</th>\n",
       "      <th>FlightNum</th>\n",
       "      <th>TailNum</th>\n",
       "      <th>ActualElapsedTime</th>\n",
       "      <th>CRSElapsedTime</th>\n",
       "      <th>AirTime</th>\n",
       "      <th>ArrDelay</th>\n",
       "      <th>DepDelay</th>\n",
       "      <th>Origin</th>\n",
       "      <th>Dest</th>\n",
       "      <th>Distance</th>\n",
       "      <th>TaxiIn</th>\n",
       "      <th>TaxiOut</th>\n",
       "      <th>CarrierDelay</th>\n",
       "      <th>WeatherDelay</th>\n",
       "      <th>NASDelay</th>\n",
       "      <th>SecurityDelay</th>\n",
       "      <th>LateAircraftDelay</th>\n",
       "    </tr>\n",
       "  </thead>\n",
       "  <tbody>\n",
       "    <tr>\n",
       "      <th>1273494</th>\n",
       "      <td>2008</td>\n",
       "      <td>8</td>\n",
       "      <td>9</td>\n",
       "      <td>6</td>\n",
       "      <td>1257.0</td>\n",
       "      <td>1250</td>\n",
       "      <td>1535.0</td>\n",
       "      <td>1535</td>\n",
       "      <td>WN</td>\n",
       "      <td>3976</td>\n",
       "      <td>N231WN</td>\n",
       "      <td>158.0</td>\n",
       "      <td>165.0</td>\n",
       "      <td>147.0</td>\n",
       "      <td>0.0</td>\n",
       "      <td>7.0</td>\n",
       "      <td>ISP</td>\n",
       "      <td>TPA</td>\n",
       "      <td>1034</td>\n",
       "      <td>4.0</td>\n",
       "      <td>7.0</td>\n",
       "      <td>0.0</td>\n",
       "      <td>0.0</td>\n",
       "      <td>0.0</td>\n",
       "      <td>0.0</td>\n",
       "      <td>0.0</td>\n",
       "    </tr>\n",
       "    <tr>\n",
       "      <th>563051</th>\n",
       "      <td>2008</td>\n",
       "      <td>3</td>\n",
       "      <td>9</td>\n",
       "      <td>7</td>\n",
       "      <td>1637.0</td>\n",
       "      <td>1445</td>\n",
       "      <td>1953.0</td>\n",
       "      <td>1823</td>\n",
       "      <td>CO</td>\n",
       "      <td>1182</td>\n",
       "      <td>N16646</td>\n",
       "      <td>136.0</td>\n",
       "      <td>158.0</td>\n",
       "      <td>88.0</td>\n",
       "      <td>90.0</td>\n",
       "      <td>112.0</td>\n",
       "      <td>ORD</td>\n",
       "      <td>EWR</td>\n",
       "      <td>719</td>\n",
       "      <td>14.0</td>\n",
       "      <td>34.0</td>\n",
       "      <td>0.0</td>\n",
       "      <td>0.0</td>\n",
       "      <td>90.0</td>\n",
       "      <td>0.0</td>\n",
       "      <td>0.0</td>\n",
       "    </tr>\n",
       "    <tr>\n",
       "      <th>910653</th>\n",
       "      <td>2008</td>\n",
       "      <td>6</td>\n",
       "      <td>23</td>\n",
       "      <td>1</td>\n",
       "      <td>1335.0</td>\n",
       "      <td>1325</td>\n",
       "      <td>1940.0</td>\n",
       "      <td>1935</td>\n",
       "      <td>WN</td>\n",
       "      <td>3410</td>\n",
       "      <td>N617SW</td>\n",
       "      <td>245.0</td>\n",
       "      <td>250.0</td>\n",
       "      <td>230.0</td>\n",
       "      <td>5.0</td>\n",
       "      <td>10.0</td>\n",
       "      <td>SJC</td>\n",
       "      <td>MDW</td>\n",
       "      <td>1838</td>\n",
       "      <td>6.0</td>\n",
       "      <td>9.0</td>\n",
       "      <td>0.0</td>\n",
       "      <td>0.0</td>\n",
       "      <td>0.0</td>\n",
       "      <td>0.0</td>\n",
       "      <td>0.0</td>\n",
       "    </tr>\n",
       "    <tr>\n",
       "      <th>1669533</th>\n",
       "      <td>2008</td>\n",
       "      <td>11</td>\n",
       "      <td>6</td>\n",
       "      <td>4</td>\n",
       "      <td>2003.0</td>\n",
       "      <td>1906</td>\n",
       "      <td>208.0</td>\n",
       "      <td>52</td>\n",
       "      <td>UA</td>\n",
       "      <td>1126</td>\n",
       "      <td>N374UA</td>\n",
       "      <td>245.0</td>\n",
       "      <td>226.0</td>\n",
       "      <td>218.0</td>\n",
       "      <td>76.0</td>\n",
       "      <td>57.0</td>\n",
       "      <td>DEN</td>\n",
       "      <td>BOS</td>\n",
       "      <td>1754</td>\n",
       "      <td>8.0</td>\n",
       "      <td>19.0</td>\n",
       "      <td>57.0</td>\n",
       "      <td>0.0</td>\n",
       "      <td>19.0</td>\n",
       "      <td>0.0</td>\n",
       "      <td>0.0</td>\n",
       "    </tr>\n",
       "    <tr>\n",
       "      <th>1275045</th>\n",
       "      <td>2008</td>\n",
       "      <td>8</td>\n",
       "      <td>10</td>\n",
       "      <td>7</td>\n",
       "      <td>1335.0</td>\n",
       "      <td>1325</td>\n",
       "      <td>1435.0</td>\n",
       "      <td>1435</td>\n",
       "      <td>WN</td>\n",
       "      <td>2483</td>\n",
       "      <td>N919WN</td>\n",
       "      <td>60.0</td>\n",
       "      <td>70.0</td>\n",
       "      <td>51.0</td>\n",
       "      <td>0.0</td>\n",
       "      <td>10.0</td>\n",
       "      <td>PHX</td>\n",
       "      <td>SNA</td>\n",
       "      <td>338</td>\n",
       "      <td>4.0</td>\n",
       "      <td>5.0</td>\n",
       "      <td>0.0</td>\n",
       "      <td>0.0</td>\n",
       "      <td>0.0</td>\n",
       "      <td>0.0</td>\n",
       "      <td>0.0</td>\n",
       "    </tr>\n",
       "    <tr>\n",
       "      <th>...</th>\n",
       "      <td>...</td>\n",
       "      <td>...</td>\n",
       "      <td>...</td>\n",
       "      <td>...</td>\n",
       "      <td>...</td>\n",
       "      <td>...</td>\n",
       "      <td>...</td>\n",
       "      <td>...</td>\n",
       "      <td>...</td>\n",
       "      <td>...</td>\n",
       "      <td>...</td>\n",
       "      <td>...</td>\n",
       "      <td>...</td>\n",
       "      <td>...</td>\n",
       "      <td>...</td>\n",
       "      <td>...</td>\n",
       "      <td>...</td>\n",
       "      <td>...</td>\n",
       "      <td>...</td>\n",
       "      <td>...</td>\n",
       "      <td>...</td>\n",
       "      <td>...</td>\n",
       "      <td>...</td>\n",
       "      <td>...</td>\n",
       "      <td>...</td>\n",
       "      <td>...</td>\n",
       "    </tr>\n",
       "    <tr>\n",
       "      <th>1745621</th>\n",
       "      <td>2008</td>\n",
       "      <td>12</td>\n",
       "      <td>16</td>\n",
       "      <td>2</td>\n",
       "      <td>1233.0</td>\n",
       "      <td>1215</td>\n",
       "      <td>1440.0</td>\n",
       "      <td>1425</td>\n",
       "      <td>WN</td>\n",
       "      <td>3008</td>\n",
       "      <td>N220WN</td>\n",
       "      <td>127.0</td>\n",
       "      <td>130.0</td>\n",
       "      <td>110.0</td>\n",
       "      <td>15.0</td>\n",
       "      <td>18.0</td>\n",
       "      <td>STL</td>\n",
       "      <td>HOU</td>\n",
       "      <td>687</td>\n",
       "      <td>2.0</td>\n",
       "      <td>15.0</td>\n",
       "      <td>15.0</td>\n",
       "      <td>0.0</td>\n",
       "      <td>0.0</td>\n",
       "      <td>0.0</td>\n",
       "      <td>0.0</td>\n",
       "    </tr>\n",
       "    <tr>\n",
       "      <th>1254283</th>\n",
       "      <td>2008</td>\n",
       "      <td>7</td>\n",
       "      <td>18</td>\n",
       "      <td>5</td>\n",
       "      <td>1431.0</td>\n",
       "      <td>1405</td>\n",
       "      <td>1827.0</td>\n",
       "      <td>1814</td>\n",
       "      <td>CO</td>\n",
       "      <td>466</td>\n",
       "      <td>N75861</td>\n",
       "      <td>236.0</td>\n",
       "      <td>249.0</td>\n",
       "      <td>214.0</td>\n",
       "      <td>13.0</td>\n",
       "      <td>26.0</td>\n",
       "      <td>SJU</td>\n",
       "      <td>EWR</td>\n",
       "      <td>1608</td>\n",
       "      <td>11.0</td>\n",
       "      <td>11.0</td>\n",
       "      <td>0.0</td>\n",
       "      <td>0.0</td>\n",
       "      <td>0.0</td>\n",
       "      <td>0.0</td>\n",
       "      <td>0.0</td>\n",
       "    </tr>\n",
       "    <tr>\n",
       "      <th>1748076</th>\n",
       "      <td>2008</td>\n",
       "      <td>12</td>\n",
       "      <td>18</td>\n",
       "      <td>4</td>\n",
       "      <td>1516.0</td>\n",
       "      <td>1410</td>\n",
       "      <td>1615.0</td>\n",
       "      <td>1515</td>\n",
       "      <td>WN</td>\n",
       "      <td>3677</td>\n",
       "      <td>N766SW</td>\n",
       "      <td>59.0</td>\n",
       "      <td>65.0</td>\n",
       "      <td>37.0</td>\n",
       "      <td>60.0</td>\n",
       "      <td>66.0</td>\n",
       "      <td>BUR</td>\n",
       "      <td>LAS</td>\n",
       "      <td>223</td>\n",
       "      <td>8.0</td>\n",
       "      <td>14.0</td>\n",
       "      <td>8.0</td>\n",
       "      <td>0.0</td>\n",
       "      <td>0.0</td>\n",
       "      <td>0.0</td>\n",
       "      <td>52.0</td>\n",
       "    </tr>\n",
       "    <tr>\n",
       "      <th>1508965</th>\n",
       "      <td>2008</td>\n",
       "      <td>9</td>\n",
       "      <td>11</td>\n",
       "      <td>4</td>\n",
       "      <td>1933.0</td>\n",
       "      <td>1925</td>\n",
       "      <td>2032.0</td>\n",
       "      <td>2020</td>\n",
       "      <td>AA</td>\n",
       "      <td>1633</td>\n",
       "      <td>N412AA</td>\n",
       "      <td>59.0</td>\n",
       "      <td>55.0</td>\n",
       "      <td>32.0</td>\n",
       "      <td>12.0</td>\n",
       "      <td>8.0</td>\n",
       "      <td>DFW</td>\n",
       "      <td>AUS</td>\n",
       "      <td>190</td>\n",
       "      <td>8.0</td>\n",
       "      <td>19.0</td>\n",
       "      <td>0.0</td>\n",
       "      <td>0.0</td>\n",
       "      <td>0.0</td>\n",
       "      <td>0.0</td>\n",
       "      <td>0.0</td>\n",
       "    </tr>\n",
       "    <tr>\n",
       "      <th>858025</th>\n",
       "      <td>2008</td>\n",
       "      <td>5</td>\n",
       "      <td>18</td>\n",
       "      <td>7</td>\n",
       "      <td>1542.0</td>\n",
       "      <td>1530</td>\n",
       "      <td>1924.0</td>\n",
       "      <td>1925</td>\n",
       "      <td>AA</td>\n",
       "      <td>1720</td>\n",
       "      <td>N290AA</td>\n",
       "      <td>162.0</td>\n",
       "      <td>175.0</td>\n",
       "      <td>144.0</td>\n",
       "      <td>-1.0</td>\n",
       "      <td>12.0</td>\n",
       "      <td>DFW</td>\n",
       "      <td>IAD</td>\n",
       "      <td>1172</td>\n",
       "      <td>6.0</td>\n",
       "      <td>12.0</td>\n",
       "      <td>0.0</td>\n",
       "      <td>0.0</td>\n",
       "      <td>0.0</td>\n",
       "      <td>0.0</td>\n",
       "      <td>0.0</td>\n",
       "    </tr>\n",
       "  </tbody>\n",
       "</table>\n",
       "<p>200000 rows × 26 columns</p>\n",
       "</div>"
      ],
      "text/plain": [
       "         Year  Month  DayofMonth  DayOfWeek  DepTime  CRSDepTime  ArrTime  CRSArrTime UniqueCarrier  FlightNum TailNum  ActualElapsedTime  CRSElapsedTime  AirTime  ArrDelay  DepDelay Origin Dest  Distance  TaxiIn  TaxiOut  CarrierDelay  WeatherDelay  NASDelay  SecurityDelay  LateAircraftDelay\n",
       "1273494  2008      8           9          6   1257.0        1250   1535.0        1535            WN       3976  N231WN              158.0           165.0    147.0       0.0       7.0    ISP  TPA      1034     4.0      7.0           0.0           0.0       0.0            0.0                0.0\n",
       "563051   2008      3           9          7   1637.0        1445   1953.0        1823            CO       1182  N16646              136.0           158.0     88.0      90.0     112.0    ORD  EWR       719    14.0     34.0           0.0           0.0      90.0            0.0                0.0\n",
       "910653   2008      6          23          1   1335.0        1325   1940.0        1935            WN       3410  N617SW              245.0           250.0    230.0       5.0      10.0    SJC  MDW      1838     6.0      9.0           0.0           0.0       0.0            0.0                0.0\n",
       "1669533  2008     11           6          4   2003.0        1906    208.0          52            UA       1126  N374UA              245.0           226.0    218.0      76.0      57.0    DEN  BOS      1754     8.0     19.0          57.0           0.0      19.0            0.0                0.0\n",
       "1275045  2008      8          10          7   1335.0        1325   1435.0        1435            WN       2483  N919WN               60.0            70.0     51.0       0.0      10.0    PHX  SNA       338     4.0      5.0           0.0           0.0       0.0            0.0                0.0\n",
       "...       ...    ...         ...        ...      ...         ...      ...         ...           ...        ...     ...                ...             ...      ...       ...       ...    ...  ...       ...     ...      ...           ...           ...       ...            ...                ...\n",
       "1745621  2008     12          16          2   1233.0        1215   1440.0        1425            WN       3008  N220WN              127.0           130.0    110.0      15.0      18.0    STL  HOU       687     2.0     15.0          15.0           0.0       0.0            0.0                0.0\n",
       "1254283  2008      7          18          5   1431.0        1405   1827.0        1814            CO        466  N75861              236.0           249.0    214.0      13.0      26.0    SJU  EWR      1608    11.0     11.0           0.0           0.0       0.0            0.0                0.0\n",
       "1748076  2008     12          18          4   1516.0        1410   1615.0        1515            WN       3677  N766SW               59.0            65.0     37.0      60.0      66.0    BUR  LAS       223     8.0     14.0           8.0           0.0       0.0            0.0               52.0\n",
       "1508965  2008      9          11          4   1933.0        1925   2032.0        2020            AA       1633  N412AA               59.0            55.0     32.0      12.0       8.0    DFW  AUS       190     8.0     19.0           0.0           0.0       0.0            0.0                0.0\n",
       "858025   2008      5          18          7   1542.0        1530   1924.0        1925            AA       1720  N290AA              162.0           175.0    144.0      -1.0      12.0    DFW  IAD      1172     6.0     12.0           0.0           0.0       0.0            0.0                0.0\n",
       "\n",
       "[200000 rows x 26 columns]"
      ]
     },
     "execution_count": 17,
     "metadata": {},
     "output_type": "execute_result"
    }
   ],
   "source": [
    "df_reducido = df_filtrado.sample(n=200000, random_state=15)\n",
    "\n",
    "df_reducido"
   ]
  },
  {
   "cell_type": "markdown",
   "id": "50d79d70",
   "metadata": {},
   "source": [
    "# Exercici 2\n",
    "**Fes un informe complet del dataset:**\n",
    "\n",
    "- **Resumeix estadísticament el dataset i les columnes d’interès.**"
   ]
  },
  {
   "cell_type": "code",
   "execution_count": 18,
   "id": "6ec20eba",
   "metadata": {
    "ExecuteTime": {
     "end_time": "2023-07-24T22:13:19.574766Z",
     "start_time": "2023-07-24T22:13:19.365962Z"
    }
   },
   "outputs": [
    {
     "data": {
      "text/html": [
       "<div>\n",
       "<style scoped>\n",
       "    .dataframe tbody tr th:only-of-type {\n",
       "        vertical-align: middle;\n",
       "    }\n",
       "\n",
       "    .dataframe tbody tr th {\n",
       "        vertical-align: top;\n",
       "    }\n",
       "\n",
       "    .dataframe thead th {\n",
       "        text-align: right;\n",
       "    }\n",
       "</style>\n",
       "<table border=\"1\" class=\"dataframe\">\n",
       "  <thead>\n",
       "    <tr style=\"text-align: right;\">\n",
       "      <th></th>\n",
       "      <th>count</th>\n",
       "      <th>mean</th>\n",
       "      <th>std</th>\n",
       "      <th>min</th>\n",
       "      <th>25%</th>\n",
       "      <th>50%</th>\n",
       "      <th>75%</th>\n",
       "      <th>max</th>\n",
       "    </tr>\n",
       "  </thead>\n",
       "  <tbody>\n",
       "    <tr>\n",
       "      <th>Year</th>\n",
       "      <td>200000.0</td>\n",
       "      <td>2008.000000</td>\n",
       "      <td>0.000000</td>\n",
       "      <td>2008.0</td>\n",
       "      <td>2008.00</td>\n",
       "      <td>2008.0</td>\n",
       "      <td>2008.0</td>\n",
       "      <td>2008.0</td>\n",
       "    </tr>\n",
       "    <tr>\n",
       "      <th>Month</th>\n",
       "      <td>200000.0</td>\n",
       "      <td>6.098390</td>\n",
       "      <td>3.486221</td>\n",
       "      <td>1.0</td>\n",
       "      <td>3.00</td>\n",
       "      <td>6.0</td>\n",
       "      <td>9.0</td>\n",
       "      <td>12.0</td>\n",
       "    </tr>\n",
       "    <tr>\n",
       "      <th>DayofMonth</th>\n",
       "      <td>200000.0</td>\n",
       "      <td>15.748430</td>\n",
       "      <td>8.758178</td>\n",
       "      <td>1.0</td>\n",
       "      <td>8.00</td>\n",
       "      <td>16.0</td>\n",
       "      <td>23.0</td>\n",
       "      <td>31.0</td>\n",
       "    </tr>\n",
       "    <tr>\n",
       "      <th>DayOfWeek</th>\n",
       "      <td>200000.0</td>\n",
       "      <td>3.988000</td>\n",
       "      <td>1.992199</td>\n",
       "      <td>1.0</td>\n",
       "      <td>2.00</td>\n",
       "      <td>4.0</td>\n",
       "      <td>6.0</td>\n",
       "      <td>7.0</td>\n",
       "    </tr>\n",
       "    <tr>\n",
       "      <th>DepTime</th>\n",
       "      <td>200000.0</td>\n",
       "      <td>1519.517825</td>\n",
       "      <td>452.002660</td>\n",
       "      <td>1.0</td>\n",
       "      <td>1203.00</td>\n",
       "      <td>1547.0</td>\n",
       "      <td>1901.0</td>\n",
       "      <td>2400.0</td>\n",
       "    </tr>\n",
       "    <tr>\n",
       "      <th>CRSDepTime</th>\n",
       "      <td>200000.0</td>\n",
       "      <td>1470.014100</td>\n",
       "      <td>424.870930</td>\n",
       "      <td>1.0</td>\n",
       "      <td>1135.00</td>\n",
       "      <td>1510.0</td>\n",
       "      <td>1820.0</td>\n",
       "      <td>2359.0</td>\n",
       "    </tr>\n",
       "    <tr>\n",
       "      <th>ArrTime</th>\n",
       "      <td>200000.0</td>\n",
       "      <td>1609.598595</td>\n",
       "      <td>550.211926</td>\n",
       "      <td>1.0</td>\n",
       "      <td>1315.00</td>\n",
       "      <td>1716.0</td>\n",
       "      <td>2031.0</td>\n",
       "      <td>2400.0</td>\n",
       "    </tr>\n",
       "    <tr>\n",
       "      <th>CRSArrTime</th>\n",
       "      <td>200000.0</td>\n",
       "      <td>1636.359415</td>\n",
       "      <td>464.735300</td>\n",
       "      <td>1.0</td>\n",
       "      <td>1325.00</td>\n",
       "      <td>1709.0</td>\n",
       "      <td>2015.0</td>\n",
       "      <td>2359.0</td>\n",
       "    </tr>\n",
       "    <tr>\n",
       "      <th>FlightNum</th>\n",
       "      <td>200000.0</td>\n",
       "      <td>2186.075380</td>\n",
       "      <td>1939.911137</td>\n",
       "      <td>1.0</td>\n",
       "      <td>615.75</td>\n",
       "      <td>1550.0</td>\n",
       "      <td>3421.0</td>\n",
       "      <td>9740.0</td>\n",
       "    </tr>\n",
       "    <tr>\n",
       "      <th>ActualElapsedTime</th>\n",
       "      <td>200000.0</td>\n",
       "      <td>133.288965</td>\n",
       "      <td>72.129016</td>\n",
       "      <td>17.0</td>\n",
       "      <td>80.00</td>\n",
       "      <td>116.0</td>\n",
       "      <td>165.0</td>\n",
       "      <td>663.0</td>\n",
       "    </tr>\n",
       "    <tr>\n",
       "      <th>CRSElapsedTime</th>\n",
       "      <td>200000.0</td>\n",
       "      <td>134.216010</td>\n",
       "      <td>71.410350</td>\n",
       "      <td>2.0</td>\n",
       "      <td>81.00</td>\n",
       "      <td>116.0</td>\n",
       "      <td>165.0</td>\n",
       "      <td>660.0</td>\n",
       "    </tr>\n",
       "    <tr>\n",
       "      <th>AirTime</th>\n",
       "      <td>200000.0</td>\n",
       "      <td>108.283885</td>\n",
       "      <td>68.724665</td>\n",
       "      <td>3.0</td>\n",
       "      <td>58.00</td>\n",
       "      <td>90.0</td>\n",
       "      <td>137.0</td>\n",
       "      <td>642.0</td>\n",
       "    </tr>\n",
       "    <tr>\n",
       "      <th>ArrDelay</th>\n",
       "      <td>200000.0</td>\n",
       "      <td>42.202880</td>\n",
       "      <td>57.285710</td>\n",
       "      <td>-68.0</td>\n",
       "      <td>9.00</td>\n",
       "      <td>24.0</td>\n",
       "      <td>56.0</td>\n",
       "      <td>1525.0</td>\n",
       "    </tr>\n",
       "    <tr>\n",
       "      <th>DepDelay</th>\n",
       "      <td>200000.0</td>\n",
       "      <td>43.129925</td>\n",
       "      <td>53.854855</td>\n",
       "      <td>6.0</td>\n",
       "      <td>12.00</td>\n",
       "      <td>24.0</td>\n",
       "      <td>53.0</td>\n",
       "      <td>1395.0</td>\n",
       "    </tr>\n",
       "    <tr>\n",
       "      <th>Distance</th>\n",
       "      <td>200000.0</td>\n",
       "      <td>765.428245</td>\n",
       "      <td>574.300633</td>\n",
       "      <td>11.0</td>\n",
       "      <td>337.00</td>\n",
       "      <td>606.0</td>\n",
       "      <td>999.0</td>\n",
       "      <td>4962.0</td>\n",
       "    </tr>\n",
       "    <tr>\n",
       "      <th>TaxiIn</th>\n",
       "      <td>200000.0</td>\n",
       "      <td>6.805180</td>\n",
       "      <td>5.272059</td>\n",
       "      <td>0.0</td>\n",
       "      <td>4.00</td>\n",
       "      <td>6.0</td>\n",
       "      <td>8.0</td>\n",
       "      <td>163.0</td>\n",
       "    </tr>\n",
       "    <tr>\n",
       "      <th>TaxiOut</th>\n",
       "      <td>200000.0</td>\n",
       "      <td>18.199900</td>\n",
       "      <td>14.233788</td>\n",
       "      <td>0.0</td>\n",
       "      <td>10.00</td>\n",
       "      <td>14.0</td>\n",
       "      <td>21.0</td>\n",
       "      <td>331.0</td>\n",
       "    </tr>\n",
       "    <tr>\n",
       "      <th>CarrierDelay</th>\n",
       "      <td>200000.0</td>\n",
       "      <td>12.436215</td>\n",
       "      <td>36.501162</td>\n",
       "      <td>0.0</td>\n",
       "      <td>0.00</td>\n",
       "      <td>0.0</td>\n",
       "      <td>10.0</td>\n",
       "      <td>1382.0</td>\n",
       "    </tr>\n",
       "    <tr>\n",
       "      <th>WeatherDelay</th>\n",
       "      <td>200000.0</td>\n",
       "      <td>2.402040</td>\n",
       "      <td>17.492161</td>\n",
       "      <td>0.0</td>\n",
       "      <td>0.00</td>\n",
       "      <td>0.0</td>\n",
       "      <td>0.0</td>\n",
       "      <td>1148.0</td>\n",
       "    </tr>\n",
       "    <tr>\n",
       "      <th>NASDelay</th>\n",
       "      <td>200000.0</td>\n",
       "      <td>9.589760</td>\n",
       "      <td>28.024528</td>\n",
       "      <td>0.0</td>\n",
       "      <td>0.00</td>\n",
       "      <td>0.0</td>\n",
       "      <td>6.0</td>\n",
       "      <td>1337.0</td>\n",
       "    </tr>\n",
       "    <tr>\n",
       "      <th>SecurityDelay</th>\n",
       "      <td>200000.0</td>\n",
       "      <td>0.048435</td>\n",
       "      <td>1.210065</td>\n",
       "      <td>0.0</td>\n",
       "      <td>0.00</td>\n",
       "      <td>0.0</td>\n",
       "      <td>0.0</td>\n",
       "      <td>131.0</td>\n",
       "    </tr>\n",
       "    <tr>\n",
       "      <th>LateAircraftDelay</th>\n",
       "      <td>200000.0</td>\n",
       "      <td>16.474510</td>\n",
       "      <td>36.216688</td>\n",
       "      <td>0.0</td>\n",
       "      <td>0.00</td>\n",
       "      <td>0.0</td>\n",
       "      <td>18.0</td>\n",
       "      <td>1316.0</td>\n",
       "    </tr>\n",
       "  </tbody>\n",
       "</table>\n",
       "</div>"
      ],
      "text/plain": [
       "                      count         mean          std     min      25%     50%     75%     max\n",
       "Year               200000.0  2008.000000     0.000000  2008.0  2008.00  2008.0  2008.0  2008.0\n",
       "Month              200000.0     6.098390     3.486221     1.0     3.00     6.0     9.0    12.0\n",
       "DayofMonth         200000.0    15.748430     8.758178     1.0     8.00    16.0    23.0    31.0\n",
       "DayOfWeek          200000.0     3.988000     1.992199     1.0     2.00     4.0     6.0     7.0\n",
       "DepTime            200000.0  1519.517825   452.002660     1.0  1203.00  1547.0  1901.0  2400.0\n",
       "CRSDepTime         200000.0  1470.014100   424.870930     1.0  1135.00  1510.0  1820.0  2359.0\n",
       "ArrTime            200000.0  1609.598595   550.211926     1.0  1315.00  1716.0  2031.0  2400.0\n",
       "CRSArrTime         200000.0  1636.359415   464.735300     1.0  1325.00  1709.0  2015.0  2359.0\n",
       "FlightNum          200000.0  2186.075380  1939.911137     1.0   615.75  1550.0  3421.0  9740.0\n",
       "ActualElapsedTime  200000.0   133.288965    72.129016    17.0    80.00   116.0   165.0   663.0\n",
       "CRSElapsedTime     200000.0   134.216010    71.410350     2.0    81.00   116.0   165.0   660.0\n",
       "AirTime            200000.0   108.283885    68.724665     3.0    58.00    90.0   137.0   642.0\n",
       "ArrDelay           200000.0    42.202880    57.285710   -68.0     9.00    24.0    56.0  1525.0\n",
       "DepDelay           200000.0    43.129925    53.854855     6.0    12.00    24.0    53.0  1395.0\n",
       "Distance           200000.0   765.428245   574.300633    11.0   337.00   606.0   999.0  4962.0\n",
       "TaxiIn             200000.0     6.805180     5.272059     0.0     4.00     6.0     8.0   163.0\n",
       "TaxiOut            200000.0    18.199900    14.233788     0.0    10.00    14.0    21.0   331.0\n",
       "CarrierDelay       200000.0    12.436215    36.501162     0.0     0.00     0.0    10.0  1382.0\n",
       "WeatherDelay       200000.0     2.402040    17.492161     0.0     0.00     0.0     0.0  1148.0\n",
       "NASDelay           200000.0     9.589760    28.024528     0.0     0.00     0.0     6.0  1337.0\n",
       "SecurityDelay      200000.0     0.048435     1.210065     0.0     0.00     0.0     0.0   131.0\n",
       "LateAircraftDelay  200000.0    16.474510    36.216688     0.0     0.00     0.0    18.0  1316.0"
      ]
     },
     "execution_count": 18,
     "metadata": {},
     "output_type": "execute_result"
    }
   ],
   "source": [
    "# resumen estadístico de las variables numéricas\n",
    "\n",
    "df_reducido.describe().T"
   ]
  },
  {
   "cell_type": "markdown",
   "id": "4534124f",
   "metadata": {},
   "source": [
    "- **Fes una anàlisi estadístic del que consideris rellevant.**"
   ]
  },
  {
   "cell_type": "markdown",
   "id": "790fe8a7",
   "metadata": {},
   "source": [
    "Al realizar el estudio estadístico, lo primero que busqué fue la presencia de registros absurdos, como un día de la semana superior a 7, una distancia negativa o exageradamente grande, una hora menor a 0 o mayor a 2400, entre otros. Sin embargo, parece que no existen valores corruptos en los datos. A continuación, haré un breve resumen por cada bloque de información.\n",
    "\n",
    "En las columnas correspondientes al año, mes, día del mes y día de la semana, encontramos los valores esperados. En cuanto al día de la semana, la media es aproximadamente 4 y la desviación estándar indica que los valores están bastante dispersos. Con respecto al día del mes, ocurre algo similar, con una media ligeramente superior a 15.5 y una distribución dispersa. Es curioso notar que en la columna del mes del año, la media es casi 6, aunque debería estar más cercana a 6.5. Esto podría sugerir que hay ligeramente más vuelos en la primera mitad del año que en la segunda. En cuanto al año vemos que todos los vuelos corresponden al 2008.\n",
    "\n",
    "En relación a las columnas DepTime, CRSDepTime, ArrTime y CRSArrTime, simplemente podemos comentar que el estudio estadístico nos proporciona una idea aproximada. Sin embargo, la forma en que se tratan las horas en estas columnas muestra valores incoherentes, como el caso de CRSDepTime que la media es 1470. Sería interesante crear nuevas columnas que representaran las horas en formato decimal, lo cual tendrá un mayor valor estadístico. Vemos igualmente que las medias son las centrales del día teniendo en cuenta que a ciertas horas de la noche no se programan vuelos.\n",
    "\n",
    "La columna FlightNum no tiene relevancia estadística en sí misma. Quizás podríamos calcular la moda o simplemente identificar los números de vuelo más repetidos.\n",
    "\n",
    "En cuanto a ActualElapsedTime, CRSElapsedTime y AirTime, observamos que la duración promedio de los vuelos es de aproximadamente 2 horas, pero existe una gran variabilidad, desde 15 minutos hasta 11 horas. Lo que destaca es la similitud entre el tiempo estimado y el real, lo que indica que una vez que el avión tiene la orden de salida, los tiempos están meticulosamente medidos y planificados para minimizar el tiempo en el aire.\n",
    "\n",
    "Los retrasos, que son la parte más interesante del dataframe, muestran medias similares entre los retrasos en las salidas y en las llegadas. Como mencionamos anteriormente, no es posible recortar significativamente los tiempos en el aire ni prolongarlos en exceso. Por lo tanto, un retraso en la salida probablemente conllevará un retraso en la llegada. Sin embargo, los valores de los retrasos en las llegadas son más variables, incluso encontramos valores negativos que indican que los vuelos han llegado antes de la hora programada. Y como es lógico, ningún vuelo despega antes de su hora.\n",
    "\n",
    "La distancia es un valor muy variable, que va desde los 30 kilómetros hasta casi 5000 kilómetros en el vuelo más largo. Sin embargo, si observamos los percentiles, podemos ver que el 50% de los vuelos se encuentran en el rango de 300 a 1000 kilómetros.\n",
    "\n",
    "En cuanto a los tiempos de rodaje, llama la atención a primera vista que los tiempos en las llegadas son tres veces más largos que los de salida. Esto se explica por la prioridad de los despegues en los aeropuertos, es decir, dejen salir antes de entrar :-) Añadir simplemente que el 75% de los vuelos tienen horquillas de tiempo de rodaje muy ajustadas, mientras que existe una parte correspondientes a retrasos que pueden superar las 6 horas.\n",
    "\n",
    "Para finalizar, al analizar los diferentes motivos de los retrasos resulta sorprendente observar que las causas meteorológicas son mínimas, con un promedio de tan solo 2 minutos por vuelo. Por motivos de seguridad, los retrasos son prácticamente inexistentes. Sin embargo, las compañías aéreas y problemas con la aeronave presentan una media de retrasos de 15 minutos cada una."
   ]
  },
  {
   "cell_type": "markdown",
   "id": "291c629a",
   "metadata": {},
   "source": [
    "- **Troba quantes dades faltants hi ha per columna.**"
   ]
  },
  {
   "cell_type": "code",
   "execution_count": 19,
   "id": "cfbd1954",
   "metadata": {
    "ExecuteTime": {
     "end_time": "2023-07-24T22:13:25.459702Z",
     "start_time": "2023-07-24T22:13:25.316568Z"
    }
   },
   "outputs": [
    {
     "data": {
      "text/plain": [
       "Year                 0\n",
       "Month                0\n",
       "DayofMonth           0\n",
       "DayOfWeek            0\n",
       "DepTime              0\n",
       "CRSDepTime           0\n",
       "ArrTime              0\n",
       "CRSArrTime           0\n",
       "UniqueCarrier        0\n",
       "FlightNum            0\n",
       "TailNum              0\n",
       "ActualElapsedTime    0\n",
       "CRSElapsedTime       0\n",
       "AirTime              0\n",
       "ArrDelay             0\n",
       "DepDelay             0\n",
       "Origin               0\n",
       "Dest                 0\n",
       "Distance             0\n",
       "TaxiIn               0\n",
       "TaxiOut              0\n",
       "CarrierDelay         0\n",
       "WeatherDelay         0\n",
       "NASDelay             0\n",
       "SecurityDelay        0\n",
       "LateAircraftDelay    0\n",
       "dtype: int64"
      ]
     },
     "execution_count": 19,
     "metadata": {},
     "output_type": "execute_result"
    }
   ],
   "source": [
    "df_reducido.isnull().sum()"
   ]
  },
  {
   "cell_type": "markdown",
   "id": "1528b5f7",
   "metadata": {
    "ExecuteTime": {
     "end_time": "2023-07-13T08:42:12.984209Z",
     "start_time": "2023-07-13T08:42:12.975214Z"
    }
   },
   "source": [
    "Nos damos cuenta de que la suerte estuvo de nuestro lado y los posibles valores nulos en la columna 'TailNum' quedaron fuera. \n",
    "En caso de que hubiera quedado alguno, habríamos procedido a eliminarlo directamente o, en su defecto, reemplazarlo por un '0' para no perder los datos."
   ]
  },
  {
   "cell_type": "markdown",
   "id": "e16ea435",
   "metadata": {
    "ExecuteTime": {
     "end_time": "2023-07-13T10:40:00.973053Z",
     "start_time": "2023-07-13T10:40:00.954085Z"
    }
   },
   "source": [
    "- **Crea columnes noves (velocitat mitjana del vol, si ha arribat tard o no...).**"
   ]
  },
  {
   "cell_type": "code",
   "execution_count": 20,
   "id": "1240d810",
   "metadata": {
    "ExecuteTime": {
     "end_time": "2023-07-24T22:13:29.095526Z",
     "start_time": "2023-07-24T22:13:29.060622Z"
    }
   },
   "outputs": [
    {
     "data": {
      "text/plain": [
       "count    200000.000000\n",
       "mean        397.039959\n",
       "std          78.096918\n",
       "min          21.290323\n",
       "25%         352.000000\n",
       "50%         404.000000\n",
       "75%         448.405797\n",
       "max        8080.000000\n",
       "Name: AvgSpeed, dtype: float64"
      ]
     },
     "execution_count": 20,
     "metadata": {},
     "output_type": "execute_result"
    }
   ],
   "source": [
    "df_reducido['AvgSpeed'] = df_reducido['Distance'] / (df_reducido['AirTime']/60)\n",
    "df_reducido['AvgSpeed'].describe()"
   ]
  },
  {
   "cell_type": "code",
   "execution_count": 21,
   "id": "d1016da6",
   "metadata": {
    "ExecuteTime": {
     "end_time": "2023-07-24T22:13:30.562439Z",
     "start_time": "2023-07-24T22:13:30.501077Z"
    }
   },
   "outputs": [
    {
     "data": {
      "text/html": [
       "<div>\n",
       "<style scoped>\n",
       "    .dataframe tbody tr th:only-of-type {\n",
       "        vertical-align: middle;\n",
       "    }\n",
       "\n",
       "    .dataframe tbody tr th {\n",
       "        vertical-align: top;\n",
       "    }\n",
       "\n",
       "    .dataframe thead th {\n",
       "        text-align: right;\n",
       "    }\n",
       "</style>\n",
       "<table border=\"1\" class=\"dataframe\">\n",
       "  <thead>\n",
       "    <tr style=\"text-align: right;\">\n",
       "      <th></th>\n",
       "      <th>Year</th>\n",
       "      <th>Month</th>\n",
       "      <th>DayofMonth</th>\n",
       "      <th>DayOfWeek</th>\n",
       "      <th>DepTime</th>\n",
       "      <th>CRSDepTime</th>\n",
       "      <th>ArrTime</th>\n",
       "      <th>CRSArrTime</th>\n",
       "      <th>UniqueCarrier</th>\n",
       "      <th>FlightNum</th>\n",
       "      <th>TailNum</th>\n",
       "      <th>ActualElapsedTime</th>\n",
       "      <th>CRSElapsedTime</th>\n",
       "      <th>AirTime</th>\n",
       "      <th>ArrDelay</th>\n",
       "      <th>DepDelay</th>\n",
       "      <th>Origin</th>\n",
       "      <th>Dest</th>\n",
       "      <th>Distance</th>\n",
       "      <th>TaxiIn</th>\n",
       "      <th>TaxiOut</th>\n",
       "      <th>CarrierDelay</th>\n",
       "      <th>WeatherDelay</th>\n",
       "      <th>NASDelay</th>\n",
       "      <th>SecurityDelay</th>\n",
       "      <th>LateAircraftDelay</th>\n",
       "      <th>AvgSpeed</th>\n",
       "    </tr>\n",
       "  </thead>\n",
       "  <tbody>\n",
       "    <tr>\n",
       "      <th>236966</th>\n",
       "      <td>2008</td>\n",
       "      <td>2</td>\n",
       "      <td>12</td>\n",
       "      <td>2</td>\n",
       "      <td>1700.0</td>\n",
       "      <td>1440</td>\n",
       "      <td>1818.0</td>\n",
       "      <td>1629</td>\n",
       "      <td>OH</td>\n",
       "      <td>5517</td>\n",
       "      <td>N818CA</td>\n",
       "      <td>78.0</td>\n",
       "      <td>109.0</td>\n",
       "      <td>14.0</td>\n",
       "      <td>109.0</td>\n",
       "      <td>140.0</td>\n",
       "      <td>CMH</td>\n",
       "      <td>JFK</td>\n",
       "      <td>483</td>\n",
       "      <td>42.0</td>\n",
       "      <td>22.0</td>\n",
       "      <td>0.0</td>\n",
       "      <td>0.0</td>\n",
       "      <td>109.0</td>\n",
       "      <td>0.0</td>\n",
       "      <td>0.0</td>\n",
       "      <td>2070.000000</td>\n",
       "    </tr>\n",
       "    <tr>\n",
       "      <th>1483229</th>\n",
       "      <td>2008</td>\n",
       "      <td>9</td>\n",
       "      <td>15</td>\n",
       "      <td>1</td>\n",
       "      <td>1422.0</td>\n",
       "      <td>1415</td>\n",
       "      <td>1545.0</td>\n",
       "      <td>1539</td>\n",
       "      <td>EV</td>\n",
       "      <td>4609</td>\n",
       "      <td>N680BR</td>\n",
       "      <td>83.0</td>\n",
       "      <td>84.0</td>\n",
       "      <td>3.0</td>\n",
       "      <td>6.0</td>\n",
       "      <td>7.0</td>\n",
       "      <td>CAE</td>\n",
       "      <td>CVG</td>\n",
       "      <td>404</td>\n",
       "      <td>66.0</td>\n",
       "      <td>14.0</td>\n",
       "      <td>0.0</td>\n",
       "      <td>0.0</td>\n",
       "      <td>0.0</td>\n",
       "      <td>0.0</td>\n",
       "      <td>0.0</td>\n",
       "      <td>8080.000000</td>\n",
       "    </tr>\n",
       "    <tr>\n",
       "      <th>890906</th>\n",
       "      <td>2008</td>\n",
       "      <td>6</td>\n",
       "      <td>9</td>\n",
       "      <td>1</td>\n",
       "      <td>1301.0</td>\n",
       "      <td>1250</td>\n",
       "      <td>1823.0</td>\n",
       "      <td>1835</td>\n",
       "      <td>WN</td>\n",
       "      <td>2968</td>\n",
       "      <td>N664WN</td>\n",
       "      <td>202.0</td>\n",
       "      <td>225.0</td>\n",
       "      <td>76.0</td>\n",
       "      <td>-12.0</td>\n",
       "      <td>11.0</td>\n",
       "      <td>LAX</td>\n",
       "      <td>STL</td>\n",
       "      <td>1593</td>\n",
       "      <td>119.0</td>\n",
       "      <td>7.0</td>\n",
       "      <td>0.0</td>\n",
       "      <td>0.0</td>\n",
       "      <td>0.0</td>\n",
       "      <td>0.0</td>\n",
       "      <td>0.0</td>\n",
       "      <td>1257.631579</td>\n",
       "    </tr>\n",
       "    <tr>\n",
       "      <th>1243146</th>\n",
       "      <td>2008</td>\n",
       "      <td>7</td>\n",
       "      <td>1</td>\n",
       "      <td>2</td>\n",
       "      <td>1702.0</td>\n",
       "      <td>1630</td>\n",
       "      <td>1916.0</td>\n",
       "      <td>1753</td>\n",
       "      <td>B6</td>\n",
       "      <td>55</td>\n",
       "      <td>N665JB</td>\n",
       "      <td>134.0</td>\n",
       "      <td>83.0</td>\n",
       "      <td>16.0</td>\n",
       "      <td>83.0</td>\n",
       "      <td>32.0</td>\n",
       "      <td>BTV</td>\n",
       "      <td>JFK</td>\n",
       "      <td>267</td>\n",
       "      <td>10.0</td>\n",
       "      <td>108.0</td>\n",
       "      <td>0.0</td>\n",
       "      <td>0.0</td>\n",
       "      <td>51.0</td>\n",
       "      <td>0.0</td>\n",
       "      <td>32.0</td>\n",
       "      <td>1001.250000</td>\n",
       "    </tr>\n",
       "    <tr>\n",
       "      <th>235530</th>\n",
       "      <td>2008</td>\n",
       "      <td>2</td>\n",
       "      <td>4</td>\n",
       "      <td>1</td>\n",
       "      <td>1950.0</td>\n",
       "      <td>1940</td>\n",
       "      <td>2034.0</td>\n",
       "      <td>2050</td>\n",
       "      <td>OH</td>\n",
       "      <td>5486</td>\n",
       "      <td>N964CA</td>\n",
       "      <td>44.0</td>\n",
       "      <td>70.0</td>\n",
       "      <td>7.0</td>\n",
       "      <td>-16.0</td>\n",
       "      <td>10.0</td>\n",
       "      <td>CVG</td>\n",
       "      <td>DTW</td>\n",
       "      <td>229</td>\n",
       "      <td>22.0</td>\n",
       "      <td>15.0</td>\n",
       "      <td>0.0</td>\n",
       "      <td>0.0</td>\n",
       "      <td>0.0</td>\n",
       "      <td>0.0</td>\n",
       "      <td>0.0</td>\n",
       "      <td>1962.857143</td>\n",
       "    </tr>\n",
       "    <tr>\n",
       "      <th>939241</th>\n",
       "      <td>2008</td>\n",
       "      <td>6</td>\n",
       "      <td>7</td>\n",
       "      <td>6</td>\n",
       "      <td>2125.0</td>\n",
       "      <td>1925</td>\n",
       "      <td>2215.0</td>\n",
       "      <td>2130</td>\n",
       "      <td>OH</td>\n",
       "      <td>5515</td>\n",
       "      <td>N554CA</td>\n",
       "      <td>50.0</td>\n",
       "      <td>125.0</td>\n",
       "      <td>30.0</td>\n",
       "      <td>45.0</td>\n",
       "      <td>120.0</td>\n",
       "      <td>CVG</td>\n",
       "      <td>LGA</td>\n",
       "      <td>585</td>\n",
       "      <td>9.0</td>\n",
       "      <td>11.0</td>\n",
       "      <td>45.0</td>\n",
       "      <td>0.0</td>\n",
       "      <td>0.0</td>\n",
       "      <td>0.0</td>\n",
       "      <td>0.0</td>\n",
       "      <td>1170.000000</td>\n",
       "    </tr>\n",
       "    <tr>\n",
       "      <th>1308503</th>\n",
       "      <td>2008</td>\n",
       "      <td>8</td>\n",
       "      <td>29</td>\n",
       "      <td>5</td>\n",
       "      <td>820.0</td>\n",
       "      <td>755</td>\n",
       "      <td>1010.0</td>\n",
       "      <td>1035</td>\n",
       "      <td>YV</td>\n",
       "      <td>2668</td>\n",
       "      <td>N914FJ</td>\n",
       "      <td>50.0</td>\n",
       "      <td>100.0</td>\n",
       "      <td>16.0</td>\n",
       "      <td>-25.0</td>\n",
       "      <td>25.0</td>\n",
       "      <td>MEM</td>\n",
       "      <td>CLT</td>\n",
       "      <td>512</td>\n",
       "      <td>10.0</td>\n",
       "      <td>24.0</td>\n",
       "      <td>0.0</td>\n",
       "      <td>0.0</td>\n",
       "      <td>0.0</td>\n",
       "      <td>0.0</td>\n",
       "      <td>0.0</td>\n",
       "      <td>1920.000000</td>\n",
       "    </tr>\n",
       "    <tr>\n",
       "      <th>1315995</th>\n",
       "      <td>2008</td>\n",
       "      <td>8</td>\n",
       "      <td>5</td>\n",
       "      <td>2</td>\n",
       "      <td>1652.0</td>\n",
       "      <td>1459</td>\n",
       "      <td>1709.0</td>\n",
       "      <td>1557</td>\n",
       "      <td>OO</td>\n",
       "      <td>6041</td>\n",
       "      <td>N936SW</td>\n",
       "      <td>17.0</td>\n",
       "      <td>58.0</td>\n",
       "      <td>7.0</td>\n",
       "      <td>72.0</td>\n",
       "      <td>113.0</td>\n",
       "      <td>DEN</td>\n",
       "      <td>GJT</td>\n",
       "      <td>212</td>\n",
       "      <td>4.0</td>\n",
       "      <td>6.0</td>\n",
       "      <td>0.0</td>\n",
       "      <td>72.0</td>\n",
       "      <td>0.0</td>\n",
       "      <td>0.0</td>\n",
       "      <td>0.0</td>\n",
       "      <td>1817.142857</td>\n",
       "    </tr>\n",
       "  </tbody>\n",
       "</table>\n",
       "</div>"
      ],
      "text/plain": [
       "         Year  Month  DayofMonth  DayOfWeek  DepTime  CRSDepTime  ArrTime  CRSArrTime UniqueCarrier  FlightNum TailNum  ActualElapsedTime  CRSElapsedTime  AirTime  ArrDelay  DepDelay Origin Dest  Distance  TaxiIn  TaxiOut  CarrierDelay  WeatherDelay  NASDelay  SecurityDelay  LateAircraftDelay     AvgSpeed\n",
       "236966   2008      2          12          2   1700.0        1440   1818.0        1629            OH       5517  N818CA               78.0           109.0     14.0     109.0     140.0    CMH  JFK       483    42.0     22.0           0.0           0.0     109.0            0.0                0.0  2070.000000\n",
       "1483229  2008      9          15          1   1422.0        1415   1545.0        1539            EV       4609  N680BR               83.0            84.0      3.0       6.0       7.0    CAE  CVG       404    66.0     14.0           0.0           0.0       0.0            0.0                0.0  8080.000000\n",
       "890906   2008      6           9          1   1301.0        1250   1823.0        1835            WN       2968  N664WN              202.0           225.0     76.0     -12.0      11.0    LAX  STL      1593   119.0      7.0           0.0           0.0       0.0            0.0                0.0  1257.631579\n",
       "1243146  2008      7           1          2   1702.0        1630   1916.0        1753            B6         55  N665JB              134.0            83.0     16.0      83.0      32.0    BTV  JFK       267    10.0    108.0           0.0           0.0      51.0            0.0               32.0  1001.250000\n",
       "235530   2008      2           4          1   1950.0        1940   2034.0        2050            OH       5486  N964CA               44.0            70.0      7.0     -16.0      10.0    CVG  DTW       229    22.0     15.0           0.0           0.0       0.0            0.0                0.0  1962.857143\n",
       "939241   2008      6           7          6   2125.0        1925   2215.0        2130            OH       5515  N554CA               50.0           125.0     30.0      45.0     120.0    CVG  LGA       585     9.0     11.0          45.0           0.0       0.0            0.0                0.0  1170.000000\n",
       "1308503  2008      8          29          5    820.0         755   1010.0        1035            YV       2668  N914FJ               50.0           100.0     16.0     -25.0      25.0    MEM  CLT       512    10.0     24.0           0.0           0.0       0.0            0.0                0.0  1920.000000\n",
       "1315995  2008      8           5          2   1652.0        1459   1709.0        1557            OO       6041  N936SW               17.0            58.0      7.0      72.0     113.0    DEN  GJT       212     4.0      6.0           0.0          72.0       0.0            0.0                0.0  1817.142857"
      ]
     },
     "execution_count": 21,
     "metadata": {},
     "output_type": "execute_result"
    }
   ],
   "source": [
    "df_reducido[df_reducido['AvgSpeed'] > 1000]"
   ]
  },
  {
   "cell_type": "markdown",
   "id": "740af316",
   "metadata": {},
   "source": [
    "A partir de la velocidad media, se puede deducir que algunos valores de tiempo en aire no son correctos, ya que resulta absurdo que un avión haya estado en el aire solo 3 minutos y haya recorrido 404 millas. En cuanto a los valores bajos, esto podría atribuirse a vuelos de corta distancia que estaban volando cerca del destino, esperando permiso para el aterrizaje."
   ]
  },
  {
   "cell_type": "code",
   "execution_count": 22,
   "id": "cefa7cb1",
   "metadata": {
    "ExecuteTime": {
     "end_time": "2023-07-24T22:13:32.637869Z",
     "start_time": "2023-07-24T22:13:32.621888Z"
    }
   },
   "outputs": [
    {
     "name": "stdout",
     "output_type": "stream",
     "text": [
      "Delayed: 64.56%\n"
     ]
    }
   ],
   "source": [
    "df_reducido['Delayed'] = df_reducido['ArrDelay'] >= 15\n",
    "print(\"Delayed: {:.2f}%\".format((df_reducido['Delayed'].mean() * 100)))"
   ]
  },
  {
   "cell_type": "markdown",
   "id": "fdca479b",
   "metadata": {},
   "source": [
    "Observamos que aproximadamente un tercio de los vuelos llega a destino puntual, considerando que se define como puntual un retraso de no más de 15 minutos, mientras que el resto acumula algún tipo de retraso.\n",
    "\n",
    "Para facilitar el análisis y la visualización de la evolución diaria del número de vuelos a lo largo del año, vamos a crear dos nuevas columnas en el dataset. La primera columna se llamará 'Date' y contendrá la fecha en formato (yyyy/mm/dd). La segunda columna se llamará 'DayofYear' y representará el número del día en el año actual. Estas nuevas columnas nos permitirán graficar cómodamente la tendencia diaria de los vuelos a lo largo del año."
   ]
  },
  {
   "cell_type": "code",
   "execution_count": 23,
   "id": "738866e8",
   "metadata": {
    "ExecuteTime": {
     "end_time": "2023-07-24T22:13:35.412398Z",
     "start_time": "2023-07-24T22:13:35.076409Z"
    }
   },
   "outputs": [
    {
     "data": {
      "text/plain": [
       "2      10857\n",
       "357    10693\n",
       "358    10621\n",
       "336    10367\n",
       "356     9994\n",
       "       ...  \n",
       "264     1908\n",
       "244     1849\n",
       "278     1806\n",
       "333     1736\n",
       "332     1451\n",
       "Name: DayofYear, Length: 366, dtype: int64"
      ]
     },
     "execution_count": 23,
     "metadata": {},
     "output_type": "execute_result"
    }
   ],
   "source": [
    "# parece ridículo, pero no he sido capaz que me lo aceptase si no cambiaba el nombre de la columna :(\n",
    "df.rename(columns={'DayofMonth': 'Day'}, inplace=True)\n",
    "df['Date'] = pd.to_datetime(df[['Year', 'Month', 'Day']])\n",
    "\n",
    "df['DayofYear'] = df['Date'].dt.dayofyear\n",
    "df.DayofYear.value_counts() "
   ]
  },
  {
   "cell_type": "markdown",
   "id": "8762ebe5",
   "metadata": {},
   "source": [
    "- **Fes una taula de les aerolínies amb més endarreriments acumulats.**"
   ]
  },
  {
   "cell_type": "code",
   "execution_count": 24,
   "id": "0b428675",
   "metadata": {
    "ExecuteTime": {
     "end_time": "2023-07-24T22:13:37.636886Z",
     "start_time": "2023-07-24T22:13:37.613927Z"
    },
    "scrolled": true
   },
   "outputs": [
    {
     "name": "stdout",
     "output_type": "stream",
     "text": [
      "UniqueCarrier  Delayed\n",
      "           WN    21103\n",
      "           AA    13721\n",
      "           MQ    10193\n",
      "           UA     9757\n",
      "           OO     9233\n",
      "           DL     7529\n",
      "           XE     7374\n",
      "           US     6259\n",
      "           CO     6058\n",
      "           EV     5903\n",
      "           NW     5775\n",
      "           YV     5210\n",
      "           FL     4868\n",
      "           OH     3983\n",
      "           B6     3878\n",
      "           9E     3681\n",
      "           AS     2454\n",
      "           F9     1667\n",
      "           HA      441\n",
      "           AQ       36\n"
     ]
    }
   ],
   "source": [
    "print(df_reducido.groupby('UniqueCarrier')['Delayed'].sum().reset_index().sort_values('Delayed', ascending=False).to_string(index=False))"
   ]
  },
  {
   "cell_type": "code",
   "execution_count": 25,
   "id": "db1eb2aa",
   "metadata": {
    "ExecuteTime": {
     "end_time": "2023-07-24T22:13:39.181632Z",
     "start_time": "2023-07-24T22:13:39.125010Z"
    }
   },
   "outputs": [
    {
     "name": "stdout",
     "output_type": "stream",
     "text": [
      "UniqueCarrier  DelayedPercentage\n",
      "           OH           0.756362\n",
      "           YV           0.750612\n",
      "           B6           0.697733\n",
      "           AA           0.696285\n",
      "           NW           0.695448\n",
      "           EV           0.693818\n",
      "           XE           0.692524\n",
      "           MQ           0.691848\n",
      "           9E           0.685858\n",
      "           OO           0.678099\n",
      "           UA           0.672572\n",
      "           FL           0.661144\n",
      "           DL           0.634181\n",
      "           AS           0.617514\n",
      "           US           0.608615\n",
      "           CO           0.588384\n",
      "           F9           0.568554\n",
      "           HA           0.564661\n",
      "           AQ           0.537313\n",
      "           WN           0.537286\n"
     ]
    }
   ],
   "source": [
    "print(df_reducido.groupby('UniqueCarrier').agg(UniqueCarrier=('UniqueCarrier', 'first'), DelayedPercentage=('Delayed', 'mean')).sort_values('DelayedPercentage', ascending=False).to_string(index=False))"
   ]
  },
  {
   "cell_type": "markdown",
   "id": "bcf80056",
   "metadata": {},
   "source": [
    "Tenía que limpiar el nombre de SouthWest Airlines ('WN') puesto que acumula mas retrasos en terminos absolutos.Sin embargo si miramos los porcentajes respecto al total de vuelos, está entre las 3 aerolineas que acumulan menos retrasos."
   ]
  },
  {
   "cell_type": "markdown",
   "id": "e967c83d",
   "metadata": {},
   "source": [
    "- **Quins són els vols més llargs? I els més endarrerits?**"
   ]
  },
  {
   "cell_type": "markdown",
   "id": "ad08d44b",
   "metadata": {},
   "source": [
    "En esta sección, tomaremos en cuenta la duración de los vuelos para identificar cuáles son los más largos."
   ]
  },
  {
   "cell_type": "code",
   "execution_count": 26,
   "id": "88c1d62c",
   "metadata": {
    "ExecuteTime": {
     "end_time": "2023-07-24T22:13:43.270609Z",
     "start_time": "2023-07-24T22:13:43.237674Z"
    }
   },
   "outputs": [
    {
     "name": "stdout",
     "output_type": "stream",
     "text": [
      " FlightNum  CRSElapsedTime\n",
      "        15           660.0\n",
      "      1273           604.0\n",
      "       851           601.0\n",
      "      1561           580.0\n",
      "        14           575.0\n"
     ]
    }
   ],
   "source": [
    "print(df_reducido.groupby('FlightNum')['CRSElapsedTime'].max().reset_index().sort_values('CRSElapsedTime', ascending=False).head(5).to_string(index=False))"
   ]
  },
  {
   "cell_type": "code",
   "execution_count": 27,
   "id": "f6d0792a",
   "metadata": {
    "ExecuteTime": {
     "end_time": "2023-07-24T22:13:44.455388Z",
     "start_time": "2023-07-24T22:13:44.436438Z"
    }
   },
   "outputs": [
    {
     "name": "stdout",
     "output_type": "stream",
     "text": [
      " FlightNum  Delayed\n",
      "        50      128\n",
      "        16      115\n",
      "       321      103\n",
      "       378       95\n",
      "       357       92\n"
     ]
    }
   ],
   "source": [
    "print(df_reducido.groupby('FlightNum')['Delayed'].sum().reset_index().sort_values('Delayed', ascending=False).head(5).to_string(index=False))"
   ]
  },
  {
   "cell_type": "markdown",
   "id": "880039c7",
   "metadata": {},
   "source": [
    "- **Busca les rutes més llargues i les que acumulen més retards.**"
   ]
  },
  {
   "cell_type": "markdown",
   "id": "09f2dd00",
   "metadata": {},
   "source": [
    "Sin embargo aquí hemos consideraremos la distancia de los vuelos. En la primera parte, hemos agregado una condición para evitar la repetición de la misma ruta en ambas direcciones, puesto que la distancia es la misma."
   ]
  },
  {
   "cell_type": "code",
   "execution_count": 28,
   "id": "65c5ba0c",
   "metadata": {
    "ExecuteTime": {
     "end_time": "2023-07-24T22:13:48.045038Z",
     "start_time": "2023-07-24T22:13:47.948575Z"
    }
   },
   "outputs": [
    {
     "name": "stdout",
     "output_type": "stream",
     "text": [
      "Origin Dest  Distance\n",
      "   EWR  HNL      4962\n",
      "   ATL  HNL      4502\n",
      "   HNL  ORD      4243\n",
      "   KOA  ORD      4213\n",
      "   HNL  MSP      3972\n"
     ]
    }
   ],
   "source": [
    "condicion = df_reducido['Origin'] < df_reducido['Dest']\n",
    "print(df_reducido[condicion].groupby(['Origin', 'Dest'])['Distance'].max().reset_index().sort_values('Distance', ascending=False).head(5).to_string(index=False))"
   ]
  },
  {
   "cell_type": "code",
   "execution_count": 29,
   "id": "7a7b1aa5",
   "metadata": {
    "ExecuteTime": {
     "end_time": "2023-07-24T22:13:49.401087Z",
     "start_time": "2023-07-24T22:13:49.332482Z"
    }
   },
   "outputs": [
    {
     "name": "stdout",
     "output_type": "stream",
     "text": [
      "Origin Dest  Distance\n",
      "   JFK  LAX    650925\n",
      "   SFO  JFK    630984\n",
      "   ORD  LAX    537460\n",
      "   LAX  JFK    534600\n",
      "   JFK  SFO    496512\n"
     ]
    }
   ],
   "source": [
    "print(df_reducido.groupby(['Origin', 'Dest'])['Distance'].sum().reset_index().sort_values('Distance', ascending=False).head(5).to_string(index=False))"
   ]
  },
  {
   "cell_type": "markdown",
   "id": "5b7fef3b",
   "metadata": {},
   "source": [
    "- **Aporta allò que consideris rellevant.**"
   ]
  },
  {
   "cell_type": "markdown",
   "id": "2a1d774b",
   "metadata": {
    "ExecuteTime": {
     "end_time": "2023-07-14T00:24:16.140243Z",
     "start_time": "2023-07-14T00:24:16.127282Z"
    }
   },
   "source": [
    "Llegados a este punto, sería interesante analizar qué aeropuertos presentan un mayor porcentaje de minutos de retraso acumulados en relación con el número de vuelos operados."
   ]
  },
  {
   "cell_type": "code",
   "execution_count": 30,
   "id": "9b5ea3c4",
   "metadata": {
    "ExecuteTime": {
     "end_time": "2023-07-24T22:13:52.672714Z",
     "start_time": "2023-07-24T22:13:52.533577Z"
    }
   },
   "outputs": [
    {
     "name": "stdout",
     "output_type": "stream",
     "text": [
      "Tabla con aeropuertos de origen con mas restrasos acumulados\n",
      "Origin   DepDelay\n",
      "   CMX 116.147059\n",
      "   PLN  93.761905\n",
      "   SPI  83.848739\n",
      "   ALO  82.225806\n",
      "   MQT  79.556650\n",
      "   ACY  79.310345\n",
      "   MOT  78.661654\n",
      "   HHH  76.530055\n",
      "   EGE  74.128920\n",
      "   BGM  73.155340\n"
     ]
    }
   ],
   "source": [
    "tabla_origen = df.groupby('Origin')['DepDelay'].mean().reset_index()\n",
    "print(\"Tabla con aeropuertos de origen con mas restrasos acumulados\")\n",
    "print(tabla_origen.sort_values(tabla_origen.columns[1], ascending=False).head(10).to_string(index=False))"
   ]
  },
  {
   "cell_type": "code",
   "execution_count": 31,
   "id": "667743b2",
   "metadata": {
    "ExecuteTime": {
     "end_time": "2023-07-24T22:13:53.543316Z",
     "start_time": "2023-07-24T22:13:53.525342Z"
    }
   },
   "outputs": [
    {
     "name": "stdout",
     "output_type": "stream",
     "text": [
      "Tabla con aeropuertos de origen con menos restrasos acumulados\n",
      "Origin  DepDelay\n",
      "   TUP 11.000000\n",
      "   YKM 22.472727\n",
      "   INL 23.000000\n",
      "   GST 25.075000\n",
      "   WYS 25.100000\n",
      "   PUB 27.000000\n",
      "   IPL 28.517007\n",
      "   OXR 29.268966\n",
      "   CLD 29.721271\n",
      "   ADK 30.509434\n"
     ]
    }
   ],
   "source": [
    "print(\"Tabla con aeropuertos de origen con menos restrasos acumulados\")\n",
    "print(tabla_origen.sort_values(tabla_origen.columns[1], ascending=True).head(10).to_string(index=False))"
   ]
  },
  {
   "cell_type": "code",
   "execution_count": 32,
   "id": "e96ac450",
   "metadata": {
    "ExecuteTime": {
     "end_time": "2023-07-24T22:13:54.625960Z",
     "start_time": "2023-07-24T22:13:54.492340Z"
    }
   },
   "outputs": [
    {
     "name": "stdout",
     "output_type": "stream",
     "text": [
      "Tabla con aeropuertos de destino con mas restrasos acumulados\n",
      "Dest  ArrDelay\n",
      " MQT 77.939252\n",
      " SPI 72.127877\n",
      " INL 66.777778\n",
      " TEX 66.266667\n",
      " ALO 65.944444\n",
      " MCN 65.674033\n",
      " CMX 63.530612\n",
      " ORD 60.028153\n",
      " EWR 59.877946\n",
      " ACK 59.167742\n"
     ]
    }
   ],
   "source": [
    "tabla_destino = df.groupby('Dest')['ArrDelay'].mean().reset_index()\n",
    "print(\"Tabla con aeropuertos de destino con mas restrasos acumulados\")\n",
    "print(tabla_destino.sort_values(tabla_destino.columns[1], ascending=False).head(10).to_string(index=False))"
   ]
  },
  {
   "cell_type": "code",
   "execution_count": 33,
   "id": "43d64081",
   "metadata": {
    "ExecuteTime": {
     "end_time": "2023-07-24T22:13:55.559485Z",
     "start_time": "2023-07-24T22:13:55.540536Z"
    },
    "code_folding": [],
    "scrolled": true
   },
   "outputs": [
    {
     "name": "stdout",
     "output_type": "stream",
     "text": [
      "Tabla con aeropuertos de destino con menos restrasos acumulados\n",
      "Dest  ArrDelay\n",
      " TUP  6.000000\n",
      " PIR 15.000000\n",
      " BJI 20.666667\n",
      " IYK 21.112903\n",
      " BLI 22.846154\n",
      " GST 23.326087\n",
      " WYS 23.741935\n",
      " HTS 23.848485\n",
      " IPL 24.828729\n",
      " YKM 26.744681\n"
     ]
    }
   ],
   "source": [
    "print(\"Tabla con aeropuertos de destino con menos restrasos acumulados\")\n",
    "print(tabla_destino.sort_values(tabla_destino.columns[1], ascending=True).head(10).to_string(index=False))"
   ]
  },
  {
   "cell_type": "markdown",
   "id": "5bb5b7e2",
   "metadata": {},
   "source": [
    "Ahora ya sabemos que aeropuertos evitar en el futuro y cuales son mas fiables. Para terminar haré una pequeña matriz de correlación para intentar de sacarle un poco mas de jugo a este dataframe."
   ]
  },
  {
   "cell_type": "code",
   "execution_count": 34,
   "id": "493c1c13",
   "metadata": {
    "ExecuteTime": {
     "end_time": "2023-07-24T22:13:57.566305Z",
     "start_time": "2023-07-24T22:13:57.524630Z"
    },
    "scrolled": true
   },
   "outputs": [
    {
     "data": {
      "text/html": [
       "<div>\n",
       "<style scoped>\n",
       "    .dataframe tbody tr th:only-of-type {\n",
       "        vertical-align: middle;\n",
       "    }\n",
       "\n",
       "    .dataframe tbody tr th {\n",
       "        vertical-align: top;\n",
       "    }\n",
       "\n",
       "    .dataframe thead th {\n",
       "        text-align: right;\n",
       "    }\n",
       "</style>\n",
       "<table border=\"1\" class=\"dataframe\">\n",
       "  <thead>\n",
       "    <tr style=\"text-align: right;\">\n",
       "      <th></th>\n",
       "      <th>DayOfWeek</th>\n",
       "      <th>Distance</th>\n",
       "      <th>AirTime</th>\n",
       "      <th>AvgSpeed</th>\n",
       "      <th>Delayed</th>\n",
       "    </tr>\n",
       "  </thead>\n",
       "  <tbody>\n",
       "    <tr>\n",
       "      <th>DayOfWeek</th>\n",
       "      <td>1.000000</td>\n",
       "      <td>0.006649</td>\n",
       "      <td>0.003788</td>\n",
       "      <td>0.011121</td>\n",
       "      <td>-0.001871</td>\n",
       "    </tr>\n",
       "    <tr>\n",
       "      <th>Distance</th>\n",
       "      <td>0.006649</td>\n",
       "      <td>1.000000</td>\n",
       "      <td>0.980424</td>\n",
       "      <td>0.653927</td>\n",
       "      <td>-0.055876</td>\n",
       "    </tr>\n",
       "    <tr>\n",
       "      <th>AirTime</th>\n",
       "      <td>0.003788</td>\n",
       "      <td>0.980424</td>\n",
       "      <td>1.000000</td>\n",
       "      <td>0.546409</td>\n",
       "      <td>-0.017394</td>\n",
       "    </tr>\n",
       "    <tr>\n",
       "      <th>AvgSpeed</th>\n",
       "      <td>0.011121</td>\n",
       "      <td>0.653927</td>\n",
       "      <td>0.546409</td>\n",
       "      <td>1.000000</td>\n",
       "      <td>-0.153895</td>\n",
       "    </tr>\n",
       "    <tr>\n",
       "      <th>Delayed</th>\n",
       "      <td>-0.001871</td>\n",
       "      <td>-0.055876</td>\n",
       "      <td>-0.017394</td>\n",
       "      <td>-0.153895</td>\n",
       "      <td>1.000000</td>\n",
       "    </tr>\n",
       "  </tbody>\n",
       "</table>\n",
       "</div>"
      ],
      "text/plain": [
       "           DayOfWeek  Distance   AirTime  AvgSpeed   Delayed\n",
       "DayOfWeek   1.000000  0.006649  0.003788  0.011121 -0.001871\n",
       "Distance    0.006649  1.000000  0.980424  0.653927 -0.055876\n",
       "AirTime     0.003788  0.980424  1.000000  0.546409 -0.017394\n",
       "AvgSpeed    0.011121  0.653927  0.546409  1.000000 -0.153895\n",
       "Delayed    -0.001871 -0.055876 -0.017394 -0.153895  1.000000"
      ]
     },
     "execution_count": 34,
     "metadata": {},
     "output_type": "execute_result"
    }
   ],
   "source": [
    "df_reducido[['DayOfWeek', 'Distance', 'AirTime', 'AvgSpeed', 'Delayed']].corr()"
   ]
  },
  {
   "cell_type": "markdown",
   "id": "80938674",
   "metadata": {},
   "source": [
    "Como era de esperar, la distancia y el tiempo en el aire están estrechamente relacionados. Sin embargo, la velocidad media de los vuelos no muestra una gran correlación con la duración del vuelo, lo que indica que los aviones siguen estándares de velocidad y que la distancia parece tener un peso mayor. Esto probablemente se debe a que, para vuelos más largos, se utilizan aviones más grandes con mayor potencia, lo que les permite volar un poco más rápido.\n",
    "\n",
    "Si queremos buscar las razones de los retrasos, tendremos que analizar más detalladamente. La tabla muestra que prácticamente no existe correlación con la distancia, el tiempo en el aire ni siquiera con la velocidad media, aunque esta última es ligeramente superior, lo que indica que hay un pequeño margen en el que, si el avión puede volar más rápido, puede evitar retrasos. Es importante destacar que los valores negativos indican una relación inversa, es decir, cuanto mayor sea la velocidad media, menor será el retraso.\n",
    "\n",
    "En cuanto al día de la semana, obviamente no muestra correlación con ninguna de las variables, ni siquiera con los retrasos, a pesar de la creencia de que los fines de semana acumulan más retrasos."
   ]
  },
  {
   "cell_type": "markdown",
   "id": "175bdccb",
   "metadata": {},
   "source": [
    "## Exercici 3\n",
    "**Exporta el dataset net i amb les noves columnes a Excel.**"
   ]
  },
  {
   "cell_type": "code",
   "execution_count": 35,
   "id": "cd89a78d",
   "metadata": {
    "ExecuteTime": {
     "end_time": "2023-07-24T22:15:57.970718Z",
     "start_time": "2023-07-24T22:14:00.652504Z"
    }
   },
   "outputs": [],
   "source": [
    "df_reducido.to_excel('Vuelos_2008.xlsx')"
   ]
  }
 ],
 "metadata": {
  "hide_input": false,
  "kernelspec": {
   "display_name": "Python 3 (ipykernel)",
   "language": "python",
   "name": "python3"
  },
  "language_info": {
   "codemirror_mode": {
    "name": "ipython",
    "version": 3
   },
   "file_extension": ".py",
   "mimetype": "text/x-python",
   "name": "python",
   "nbconvert_exporter": "python",
   "pygments_lexer": "ipython3",
   "version": "3.9.16"
  },
  "nbTranslate": {
   "displayLangs": [
    "*"
   ],
   "hotkey": "alt-t",
   "langInMainMenu": true,
   "sourceLang": "en",
   "targetLang": "fr",
   "useGoogleTranslate": true
  },
  "toc": {
   "base_numbering": 1,
   "nav_menu": {},
   "number_sections": true,
   "sideBar": true,
   "skip_h1_title": false,
   "title_cell": "Table of Contents",
   "title_sidebar": "Contents",
   "toc_cell": false,
   "toc_position": {},
   "toc_section_display": true,
   "toc_window_display": false
  },
  "varInspector": {
   "cols": {
    "lenName": 16,
    "lenType": 16,
    "lenVar": 40
   },
   "kernels_config": {
    "python": {
     "delete_cmd_postfix": "",
     "delete_cmd_prefix": "del ",
     "library": "var_list.py",
     "varRefreshCmd": "print(var_dic_list())"
    },
    "r": {
     "delete_cmd_postfix": ") ",
     "delete_cmd_prefix": "rm(",
     "library": "var_list.r",
     "varRefreshCmd": "cat(var_dic_list()) "
    }
   },
   "types_to_exclude": [
    "module",
    "function",
    "builtin_function_or_method",
    "instance",
    "_Feature"
   ],
   "window_display": false
  }
 },
 "nbformat": 4,
 "nbformat_minor": 5
}
